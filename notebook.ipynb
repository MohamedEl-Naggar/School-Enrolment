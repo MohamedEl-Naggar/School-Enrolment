{
 "cells": [
  {
   "cell_type": "markdown",
   "metadata": {
    "id": "OGPGW003ugRk"
   },
   "source": [
    "# **Introduction**"
   ]
  },
  {
   "cell_type": "markdown",
   "metadata": {
    "id": "J44QvaVcumlx"
   },
   "source": [
    "We will start by mentioning our intuition about the data after a fast look. We can see that the school performs interviews and tests for the applicants. We believe the scores of these tests and interviews are of a great contribution to the decision process. This is our belief that we are yet to confirm or reject based on our analysis further down the road.\n",
    "\n",
    "We will begin by understanding and exploring the data. Then we will perform data cleaning and data wrangling to organize our data and keep the useful data only. Then we will perform correlation analysis to see whether certain features have strong correlations between each other or not. We will also see if some features have high correlations with the decision of enrollment or not and this can help us decide on the factors contributing to the decision process.\n",
    "\n",
    "After the data analysis, we will create models that can help predict the decision processes. The types and functions of the models will depend on how our data analysis goes. At the moment, we are thinking of regression models to predict the interview scores, only if the scores have high correlations with the decision, and models to predict the decision, but the chosen model will depend on how our data analysis goes."
   ]
  },
  {
   "cell_type": "markdown",
   "metadata": {
    "id": "joB7-Lw1unVW"
   },
   "source": [
    "# **Descriptive Analytics**"
   ]
  },
  {
   "cell_type": "markdown",
   "metadata": {
    "id": "sqegvmHp1uea"
   },
   "source": [
    "## **Basic data exploration**"
   ]
  },
  {
   "cell_type": "markdown",
   "metadata": {
    "id": "QSb163_zxzCI"
   },
   "source": [
    "We will start by data exploration. First let's import the libraries needed throught the notebook and then read the data."
   ]
  },
  {
   "cell_type": "code",
   "execution_count": 191,
   "metadata": {
    "id": "j3iF0RaolIaG"
   },
   "outputs": [],
   "source": [
    "import numpy as np  \n",
    "import pandas as pd\n",
    "import matplotlib.pyplot as plt\n",
    "import matplotlib as mpl\n",
    "import plotly.express as px\n",
    "import plotly.graph_objs as pgo \n",
    "from keras.models import Sequential\n",
    "from keras.layers import Dense\n",
    "from keras.layers import LeakyReLU\n",
    "from tensorflow.keras.optimizers import Adam \n",
    "from sklearn.model_selection import train_test_split\n",
    "from sklearn.metrics import classification_report"
   ]
  },
  {
   "cell_type": "code",
   "execution_count": 192,
   "metadata": {
    "colab": {
     "base_uri": "https://localhost:8080/",
     "height": 94,
     "resources": {
      "http://localhost:8080/nbextensions/google.colab/files.js": {
       "data": "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",
       "headers": [
        [
         "content-type",
         "application/javascript"
        ]
       ],
       "ok": true,
       "status": 200,
       "status_text": "OK"
      }
     }
    },
    "id": "bei5k99plIaN",
    "outputId": "fd7a317c-fe47-43b8-af2b-47186f75aeb6"
   },
   "outputs": [],
   "source": [
    "file_name = \"C:/Users/moham/OneDrive/Desktop/train_International-School-Dataset.csv\"\n",
    "#file_name = \"C:/Users/HP/Downloads/train_International-School-Dataset.csv\"\n",
    "data = pd.read_csv(file_name)"
   ]
  },
  {
   "cell_type": "markdown",
   "metadata": {
    "id": "inwiNI78yylf"
   },
   "source": [
    "Let's take a quick look at the data."
   ]
  },
  {
   "cell_type": "code",
   "execution_count": 193,
   "metadata": {
    "colab": {
     "base_uri": "https://localhost:8080/",
     "height": 478
    },
    "id": "sCBD_SbPlIaO",
    "outputId": "3eb8e448-cd4d-4de8-b2e5-85f35ec8b61b"
   },
   "outputs": [
    {
     "data": {
      "text/html": [
       "<div>\n",
       "<style scoped>\n",
       "    .dataframe tbody tr th:only-of-type {\n",
       "        vertical-align: middle;\n",
       "    }\n",
       "\n",
       "    .dataframe tbody tr th {\n",
       "        vertical-align: top;\n",
       "    }\n",
       "\n",
       "    .dataframe thead th {\n",
       "        text-align: right;\n",
       "    }\n",
       "</style>\n",
       "<table border=\"1\" class=\"dataframe\">\n",
       "  <thead>\n",
       "    <tr style=\"text-align: right;\">\n",
       "      <th></th>\n",
       "      <th>app_id</th>\n",
       "      <th>job_name</th>\n",
       "      <th>job_exp_yrs</th>\n",
       "      <th>address</th>\n",
       "      <th>house_type</th>\n",
       "      <th>annual_salary</th>\n",
       "      <th>salary_verification</th>\n",
       "      <th>n_semesters</th>\n",
       "      <th>prev_grade_percent</th>\n",
       "      <th>year</th>\n",
       "      <th>...</th>\n",
       "      <th>num_children</th>\n",
       "      <th>credit_limit</th>\n",
       "      <th>credit_limit_ex_mort</th>\n",
       "      <th>spouse_income</th>\n",
       "      <th>spouse_fees/income</th>\n",
       "      <th>spouse_income_verification</th>\n",
       "      <th>decision</th>\n",
       "      <th>mental_iv_score</th>\n",
       "      <th>parent_iv_score</th>\n",
       "      <th>social_iv_score</th>\n",
       "    </tr>\n",
       "  </thead>\n",
       "  <tbody>\n",
       "    <tr>\n",
       "      <th>0</th>\n",
       "      <td>126229306</td>\n",
       "      <td>Assistant</td>\n",
       "      <td>1.0</td>\n",
       "      <td>YUU</td>\n",
       "      <td>rental</td>\n",
       "      <td>46000.0</td>\n",
       "      <td>V</td>\n",
       "      <td>1</td>\n",
       "      <td>92.65</td>\n",
       "      <td>2017</td>\n",
       "      <td>...</td>\n",
       "      <td>3</td>\n",
       "      <td>68039.0</td>\n",
       "      <td>35198.0</td>\n",
       "      <td>110750.0</td>\n",
       "      <td>27.97</td>\n",
       "      <td>V</td>\n",
       "      <td>not enrolled</td>\n",
       "      <td>0.087638</td>\n",
       "      <td>8.423544</td>\n",
       "      <td>32.629941</td>\n",
       "    </tr>\n",
       "    <tr>\n",
       "      <th>1</th>\n",
       "      <td>76692947</td>\n",
       "      <td>Nurse</td>\n",
       "      <td>1.0</td>\n",
       "      <td>YUU</td>\n",
       "      <td>rental</td>\n",
       "      <td>152000.0</td>\n",
       "      <td>V</td>\n",
       "      <td>1</td>\n",
       "      <td>93.51</td>\n",
       "      <td>2016</td>\n",
       "      <td>...</td>\n",
       "      <td>5</td>\n",
       "      <td>24000.0</td>\n",
       "      <td>11704.0</td>\n",
       "      <td>NaN</td>\n",
       "      <td>NaN</td>\n",
       "      <td>NaN</td>\n",
       "      <td>enrolled</td>\n",
       "      <td>25.328459</td>\n",
       "      <td>12.940269</td>\n",
       "      <td>21.888056</td>\n",
       "    </tr>\n",
       "    <tr>\n",
       "      <th>2</th>\n",
       "      <td>60624620</td>\n",
       "      <td>engineer</td>\n",
       "      <td>5.0</td>\n",
       "      <td>NXT</td>\n",
       "      <td>rental</td>\n",
       "      <td>115000.0</td>\n",
       "      <td>V</td>\n",
       "      <td>2</td>\n",
       "      <td>88.47</td>\n",
       "      <td>2015</td>\n",
       "      <td>...</td>\n",
       "      <td>5</td>\n",
       "      <td>67122.0</td>\n",
       "      <td>41004.0</td>\n",
       "      <td>NaN</td>\n",
       "      <td>NaN</td>\n",
       "      <td>NaN</td>\n",
       "      <td>enrolled</td>\n",
       "      <td>7.141356</td>\n",
       "      <td>7.539012</td>\n",
       "      <td>20.730058</td>\n",
       "    </tr>\n",
       "    <tr>\n",
       "      <th>3</th>\n",
       "      <td>129161039</td>\n",
       "      <td>manager</td>\n",
       "      <td>2.0</td>\n",
       "      <td>YDC</td>\n",
       "      <td>rental</td>\n",
       "      <td>25000.0</td>\n",
       "      <td>NV</td>\n",
       "      <td>1</td>\n",
       "      <td>89.58</td>\n",
       "      <td>2018</td>\n",
       "      <td>...</td>\n",
       "      <td>2</td>\n",
       "      <td>12000.0</td>\n",
       "      <td>4065.0</td>\n",
       "      <td>NaN</td>\n",
       "      <td>NaN</td>\n",
       "      <td>NaN</td>\n",
       "      <td>not enrolled</td>\n",
       "      <td>34.474615</td>\n",
       "      <td>22.732014</td>\n",
       "      <td>1.076913</td>\n",
       "    </tr>\n",
       "    <tr>\n",
       "      <th>4</th>\n",
       "      <td>90518461</td>\n",
       "      <td>Other</td>\n",
       "      <td>6.0</td>\n",
       "      <td>LJM</td>\n",
       "      <td>mortgage</td>\n",
       "      <td>80000.0</td>\n",
       "      <td>V</td>\n",
       "      <td>1</td>\n",
       "      <td>78.51</td>\n",
       "      <td>2016</td>\n",
       "      <td>...</td>\n",
       "      <td>2</td>\n",
       "      <td>211158.0</td>\n",
       "      <td>32595.0</td>\n",
       "      <td>NaN</td>\n",
       "      <td>NaN</td>\n",
       "      <td>NaN</td>\n",
       "      <td>enrolled</td>\n",
       "      <td>29.070282</td>\n",
       "      <td>5.226745</td>\n",
       "      <td>13.420388</td>\n",
       "    </tr>\n",
       "    <tr>\n",
       "      <th>...</th>\n",
       "      <td>...</td>\n",
       "      <td>...</td>\n",
       "      <td>...</td>\n",
       "      <td>...</td>\n",
       "      <td>...</td>\n",
       "      <td>...</td>\n",
       "      <td>...</td>\n",
       "      <td>...</td>\n",
       "      <td>...</td>\n",
       "      <td>...</td>\n",
       "      <td>...</td>\n",
       "      <td>...</td>\n",
       "      <td>...</td>\n",
       "      <td>...</td>\n",
       "      <td>...</td>\n",
       "      <td>...</td>\n",
       "      <td>...</td>\n",
       "      <td>...</td>\n",
       "      <td>...</td>\n",
       "      <td>...</td>\n",
       "      <td>...</td>\n",
       "    </tr>\n",
       "    <tr>\n",
       "      <th>33995</th>\n",
       "      <td>57383315</td>\n",
       "      <td>Analyst</td>\n",
       "      <td>5.0</td>\n",
       "      <td>YUU</td>\n",
       "      <td>rental</td>\n",
       "      <td>105000.0</td>\n",
       "      <td>V</td>\n",
       "      <td>1</td>\n",
       "      <td>91.82</td>\n",
       "      <td>2015</td>\n",
       "      <td>...</td>\n",
       "      <td>2</td>\n",
       "      <td>60500.0</td>\n",
       "      <td>28742.0</td>\n",
       "      <td>NaN</td>\n",
       "      <td>NaN</td>\n",
       "      <td>NaN</td>\n",
       "      <td>enrolled</td>\n",
       "      <td>16.907394</td>\n",
       "      <td>64.581258</td>\n",
       "      <td>1.609207</td>\n",
       "    </tr>\n",
       "    <tr>\n",
       "      <th>33996</th>\n",
       "      <td>66364198</td>\n",
       "      <td>Marketing</td>\n",
       "      <td>3.0</td>\n",
       "      <td>RQX</td>\n",
       "      <td>mortgage</td>\n",
       "      <td>118299.0</td>\n",
       "      <td>V</td>\n",
       "      <td>2</td>\n",
       "      <td>85.52</td>\n",
       "      <td>2015</td>\n",
       "      <td>...</td>\n",
       "      <td>2</td>\n",
       "      <td>470072.0</td>\n",
       "      <td>69265.0</td>\n",
       "      <td>NaN</td>\n",
       "      <td>NaN</td>\n",
       "      <td>NaN</td>\n",
       "      <td>enrolled</td>\n",
       "      <td>65.635700</td>\n",
       "      <td>24.085703</td>\n",
       "      <td>0.278597</td>\n",
       "    </tr>\n",
       "    <tr>\n",
       "      <th>33997</th>\n",
       "      <td>23412190</td>\n",
       "      <td>teacher</td>\n",
       "      <td>6.0</td>\n",
       "      <td>UWH</td>\n",
       "      <td>mortgage</td>\n",
       "      <td>56000.0</td>\n",
       "      <td>VbP</td>\n",
       "      <td>2</td>\n",
       "      <td>85.01</td>\n",
       "      <td>2014</td>\n",
       "      <td>...</td>\n",
       "      <td>4</td>\n",
       "      <td>279870.0</td>\n",
       "      <td>38038.0</td>\n",
       "      <td>NaN</td>\n",
       "      <td>NaN</td>\n",
       "      <td>NaN</td>\n",
       "      <td>enrolled</td>\n",
       "      <td>27.466363</td>\n",
       "      <td>46.752626</td>\n",
       "      <td>15.781011</td>\n",
       "    </tr>\n",
       "    <tr>\n",
       "      <th>33998</th>\n",
       "      <td>106575453</td>\n",
       "      <td>manager</td>\n",
       "      <td>2.0</td>\n",
       "      <td>CAA</td>\n",
       "      <td>mortgage</td>\n",
       "      <td>107100.0</td>\n",
       "      <td>VbP</td>\n",
       "      <td>1</td>\n",
       "      <td>85.01</td>\n",
       "      <td>2017</td>\n",
       "      <td>...</td>\n",
       "      <td>4</td>\n",
       "      <td>287972.0</td>\n",
       "      <td>17905.0</td>\n",
       "      <td>NaN</td>\n",
       "      <td>NaN</td>\n",
       "      <td>NaN</td>\n",
       "      <td>enrolled</td>\n",
       "      <td>24.455919</td>\n",
       "      <td>3.753729</td>\n",
       "      <td>47.290821</td>\n",
       "    </tr>\n",
       "    <tr>\n",
       "      <th>33999</th>\n",
       "      <td>115722215</td>\n",
       "      <td>Consultant</td>\n",
       "      <td>1.0</td>\n",
       "      <td>XSO</td>\n",
       "      <td>mortgage</td>\n",
       "      <td>125000.0</td>\n",
       "      <td>VbP</td>\n",
       "      <td>1</td>\n",
       "      <td>92.93</td>\n",
       "      <td>2017</td>\n",
       "      <td>...</td>\n",
       "      <td>5</td>\n",
       "      <td>432200.0</td>\n",
       "      <td>40925.0</td>\n",
       "      <td>NaN</td>\n",
       "      <td>NaN</td>\n",
       "      <td>NaN</td>\n",
       "      <td>enrolled</td>\n",
       "      <td>42.800443</td>\n",
       "      <td>17.023625</td>\n",
       "      <td>25.215754</td>\n",
       "    </tr>\n",
       "  </tbody>\n",
       "</table>\n",
       "<p>34000 rows × 26 columns</p>\n",
       "</div>"
      ],
      "text/plain": [
       "          app_id    job_name  job_exp_yrs address house_type  annual_salary  \\\n",
       "0      126229306   Assistant          1.0     YUU     rental        46000.0   \n",
       "1       76692947       Nurse          1.0     YUU     rental       152000.0   \n",
       "2       60624620    engineer          5.0     NXT     rental       115000.0   \n",
       "3      129161039     manager          2.0     YDC     rental        25000.0   \n",
       "4       90518461       Other          6.0     LJM   mortgage        80000.0   \n",
       "...          ...         ...          ...     ...        ...            ...   \n",
       "33995   57383315     Analyst          5.0     YUU     rental       105000.0   \n",
       "33996   66364198   Marketing          3.0     RQX   mortgage       118299.0   \n",
       "33997   23412190     teacher          6.0     UWH   mortgage        56000.0   \n",
       "33998  106575453     manager          2.0     CAA   mortgage       107100.0   \n",
       "33999  115722215  Consultant          1.0     XSO   mortgage       125000.0   \n",
       "\n",
       "      salary_verification  n_semesters  prev_grade_percent  year  ...  \\\n",
       "0                       V            1               92.65  2017  ...   \n",
       "1                       V            1               93.51  2016  ...   \n",
       "2                       V            2               88.47  2015  ...   \n",
       "3                      NV            1               89.58  2018  ...   \n",
       "4                       V            1               78.51  2016  ...   \n",
       "...                   ...          ...                 ...   ...  ...   \n",
       "33995                   V            1               91.82  2015  ...   \n",
       "33996                   V            2               85.52  2015  ...   \n",
       "33997                 VbP            2               85.01  2014  ...   \n",
       "33998                 VbP            1               85.01  2017  ...   \n",
       "33999                 VbP            1               92.93  2017  ...   \n",
       "\n",
       "       num_children  credit_limit  credit_limit_ex_mort spouse_income  \\\n",
       "0                 3       68039.0               35198.0      110750.0   \n",
       "1                 5       24000.0               11704.0           NaN   \n",
       "2                 5       67122.0               41004.0           NaN   \n",
       "3                 2       12000.0                4065.0           NaN   \n",
       "4                 2      211158.0               32595.0           NaN   \n",
       "...             ...           ...                   ...           ...   \n",
       "33995             2       60500.0               28742.0           NaN   \n",
       "33996             2      470072.0               69265.0           NaN   \n",
       "33997             4      279870.0               38038.0           NaN   \n",
       "33998             4      287972.0               17905.0           NaN   \n",
       "33999             5      432200.0               40925.0           NaN   \n",
       "\n",
       "       spouse_fees/income spouse_income_verification      decision  \\\n",
       "0                   27.97                          V  not enrolled   \n",
       "1                     NaN                        NaN      enrolled   \n",
       "2                     NaN                        NaN      enrolled   \n",
       "3                     NaN                        NaN  not enrolled   \n",
       "4                     NaN                        NaN      enrolled   \n",
       "...                   ...                        ...           ...   \n",
       "33995                 NaN                        NaN      enrolled   \n",
       "33996                 NaN                        NaN      enrolled   \n",
       "33997                 NaN                        NaN      enrolled   \n",
       "33998                 NaN                        NaN      enrolled   \n",
       "33999                 NaN                        NaN      enrolled   \n",
       "\n",
       "       mental_iv_score  parent_iv_score  social_iv_score  \n",
       "0             0.087638         8.423544        32.629941  \n",
       "1            25.328459        12.940269        21.888056  \n",
       "2             7.141356         7.539012        20.730058  \n",
       "3            34.474615        22.732014         1.076913  \n",
       "4            29.070282         5.226745        13.420388  \n",
       "...                ...              ...              ...  \n",
       "33995        16.907394        64.581258         1.609207  \n",
       "33996        65.635700        24.085703         0.278597  \n",
       "33997        27.466363        46.752626        15.781011  \n",
       "33998        24.455919         3.753729        47.290821  \n",
       "33999        42.800443        17.023625        25.215754  \n",
       "\n",
       "[34000 rows x 26 columns]"
      ]
     },
     "execution_count": 193,
     "metadata": {},
     "output_type": "execute_result"
    }
   ],
   "source": [
    "data"
   ]
  },
  {
   "cell_type": "code",
   "execution_count": 194,
   "metadata": {
    "colab": {
     "base_uri": "https://localhost:8080/"
    },
    "id": "zuR4kLgdlIaP",
    "outputId": "b142f1d5-ad53-4745-db25-4419f4fafc41"
   },
   "outputs": [
    {
     "name": "stdout",
     "output_type": "stream",
     "text": [
      "<class 'pandas.core.frame.DataFrame'>\n",
      "RangeIndex: 34000 entries, 0 to 33999\n",
      "Data columns (total 26 columns):\n",
      " #   Column                      Non-Null Count  Dtype  \n",
      "---  ------                      --------------  -----  \n",
      " 0   app_id                      34000 non-null  int64  \n",
      " 1   job_name                    30102 non-null  object \n",
      " 2   job_exp_yrs                 34000 non-null  float64\n",
      " 3   address                     34000 non-null  object \n",
      " 4   house_type                  33993 non-null  object \n",
      " 5   annual_salary               34000 non-null  float64\n",
      " 6   salary_verification         34000 non-null  object \n",
      " 7   n_semesters                 34000 non-null  int64  \n",
      " 8   prev_grade_percent          34000 non-null  float64\n",
      " 9   year                        34000 non-null  int64  \n",
      " 10  fees/income                 33997 non-null  float64\n",
      " 11  down_pymnt                  34000 non-null  float64\n",
      " 12  fees                        34000 non-null  float64\n",
      " 13  spouse_has_job              34000 non-null  object \n",
      " 14  total_balance               34000 non-null  float64\n",
      " 15  payment_method              34000 non-null  object \n",
      " 16  num_children                34000 non-null  int64  \n",
      " 17  credit_limit                34000 non-null  float64\n",
      " 18  credit_limit_ex_mort        34000 non-null  float64\n",
      " 19  spouse_income               1294 non-null   float64\n",
      " 20  spouse_fees/income          1294 non-null   float64\n",
      " 21  spouse_income_verification  1283 non-null   object \n",
      " 22  decision                    34000 non-null  object \n",
      " 23  mental_iv_score             34000 non-null  float64\n",
      " 24  parent_iv_score             34000 non-null  float64\n",
      " 25  social_iv_score             34000 non-null  float64\n",
      "dtypes: float64(14), int64(4), object(8)\n",
      "memory usage: 6.7+ MB\n"
     ]
    }
   ],
   "source": [
    "data.info()"
   ]
  },
  {
   "cell_type": "code",
   "execution_count": 195,
   "metadata": {
    "colab": {
     "base_uri": "https://localhost:8080/",
     "height": 320
    },
    "id": "qGelLlcQlIaQ",
    "outputId": "dbdd5c02-4721-4bea-e7ca-962be052adb0"
   },
   "outputs": [
    {
     "data": {
      "text/html": [
       "<div>\n",
       "<style scoped>\n",
       "    .dataframe tbody tr th:only-of-type {\n",
       "        vertical-align: middle;\n",
       "    }\n",
       "\n",
       "    .dataframe tbody tr th {\n",
       "        vertical-align: top;\n",
       "    }\n",
       "\n",
       "    .dataframe thead th {\n",
       "        text-align: right;\n",
       "    }\n",
       "</style>\n",
       "<table border=\"1\" class=\"dataframe\">\n",
       "  <thead>\n",
       "    <tr style=\"text-align: right;\">\n",
       "      <th></th>\n",
       "      <th>app_id</th>\n",
       "      <th>job_exp_yrs</th>\n",
       "      <th>annual_salary</th>\n",
       "      <th>n_semesters</th>\n",
       "      <th>prev_grade_percent</th>\n",
       "      <th>year</th>\n",
       "      <th>fees/income</th>\n",
       "      <th>down_pymnt</th>\n",
       "      <th>fees</th>\n",
       "      <th>total_balance</th>\n",
       "      <th>num_children</th>\n",
       "      <th>credit_limit</th>\n",
       "      <th>credit_limit_ex_mort</th>\n",
       "      <th>spouse_income</th>\n",
       "      <th>spouse_fees/income</th>\n",
       "      <th>mental_iv_score</th>\n",
       "      <th>parent_iv_score</th>\n",
       "      <th>social_iv_score</th>\n",
       "    </tr>\n",
       "  </thead>\n",
       "  <tbody>\n",
       "    <tr>\n",
       "      <th>count</th>\n",
       "      <td>3.400000e+04</td>\n",
       "      <td>34000.000000</td>\n",
       "      <td>3.400000e+04</td>\n",
       "      <td>34000.000000</td>\n",
       "      <td>34000.000000</td>\n",
       "      <td>34000.000000</td>\n",
       "      <td>33997.000000</td>\n",
       "      <td>34000.000000</td>\n",
       "      <td>34000.000000</td>\n",
       "      <td>3.400000e+04</td>\n",
       "      <td>34000.000000</td>\n",
       "      <td>3.400000e+04</td>\n",
       "      <td>34000.000000</td>\n",
       "      <td>1294.000000</td>\n",
       "      <td>1294.000000</td>\n",
       "      <td>34000.000000</td>\n",
       "      <td>34000.000000</td>\n",
       "      <td>34000.000000</td>\n",
       "    </tr>\n",
       "    <tr>\n",
       "      <th>mean</th>\n",
       "      <td>6.131298e+07</td>\n",
       "      <td>4.079294</td>\n",
       "      <td>9.820583e+04</td>\n",
       "      <td>1.430647</td>\n",
       "      <td>85.424298</td>\n",
       "      <td>2015.244735</td>\n",
       "      <td>15.538769</td>\n",
       "      <td>12163.304118</td>\n",
       "      <td>25950.638235</td>\n",
       "      <td>1.577643e+05</td>\n",
       "      <td>3.128441</td>\n",
       "      <td>1.970130e+05</td>\n",
       "      <td>43389.425441</td>\n",
       "      <td>125014.670889</td>\n",
       "      <td>17.476236</td>\n",
       "      <td>20.843090</td>\n",
       "      <td>20.887305</td>\n",
       "      <td>21.022355</td>\n",
       "    </tr>\n",
       "    <tr>\n",
       "      <th>std</th>\n",
       "      <td>3.771724e+07</td>\n",
       "      <td>2.606378</td>\n",
       "      <td>7.353028e+04</td>\n",
       "      <td>0.495174</td>\n",
       "      <td>5.407398</td>\n",
       "      <td>1.401055</td>\n",
       "      <td>10.217856</td>\n",
       "      <td>10707.437714</td>\n",
       "      <td>5468.639711</td>\n",
       "      <td>1.834909e+05</td>\n",
       "      <td>1.481278</td>\n",
       "      <td>2.013486e+05</td>\n",
       "      <td>35935.186485</td>\n",
       "      <td>58939.673848</td>\n",
       "      <td>7.327846</td>\n",
       "      <td>16.648062</td>\n",
       "      <td>16.696663</td>\n",
       "      <td>16.792907</td>\n",
       "    </tr>\n",
       "    <tr>\n",
       "      <th>min</th>\n",
       "      <td>4.058310e+05</td>\n",
       "      <td>1.000000</td>\n",
       "      <td>0.000000e+00</td>\n",
       "      <td>1.000000</td>\n",
       "      <td>69.010000</td>\n",
       "      <td>2012.000000</td>\n",
       "      <td>0.000000</td>\n",
       "      <td>0.000000</td>\n",
       "      <td>20000.000000</td>\n",
       "      <td>0.000000e+00</td>\n",
       "      <td>0.000000</td>\n",
       "      <td>0.000000e+00</td>\n",
       "      <td>0.000000</td>\n",
       "      <td>40000.000000</td>\n",
       "      <td>0.230000</td>\n",
       "      <td>0.000667</td>\n",
       "      <td>0.000027</td>\n",
       "      <td>0.000666</td>\n",
       "    </tr>\n",
       "    <tr>\n",
       "      <th>25%</th>\n",
       "      <td>3.089923e+07</td>\n",
       "      <td>2.000000</td>\n",
       "      <td>6.500000e+04</td>\n",
       "      <td>1.000000</td>\n",
       "      <td>82.140000</td>\n",
       "      <td>2014.000000</td>\n",
       "      <td>9.510000</td>\n",
       "      <td>0.000000</td>\n",
       "      <td>21000.000000</td>\n",
       "      <td>3.195675e+04</td>\n",
       "      <td>2.000000</td>\n",
       "      <td>5.696950e+04</td>\n",
       "      <td>23465.250000</td>\n",
       "      <td>87500.000000</td>\n",
       "      <td>12.037500</td>\n",
       "      <td>7.406833</td>\n",
       "      <td>7.395480</td>\n",
       "      <td>7.485895</td>\n",
       "    </tr>\n",
       "    <tr>\n",
       "      <th>50%</th>\n",
       "      <td>6.173726e+07</td>\n",
       "      <td>4.000000</td>\n",
       "      <td>8.500000e+04</td>\n",
       "      <td>1.000000</td>\n",
       "      <td>86.010000</td>\n",
       "      <td>2015.000000</td>\n",
       "      <td>14.540000</td>\n",
       "      <td>16000.000000</td>\n",
       "      <td>24950.000000</td>\n",
       "      <td>7.143400e+04</td>\n",
       "      <td>3.000000</td>\n",
       "      <td>1.158680e+05</td>\n",
       "      <td>36382.000000</td>\n",
       "      <td>110250.000000</td>\n",
       "      <td>17.110000</td>\n",
       "      <td>16.886263</td>\n",
       "      <td>16.937863</td>\n",
       "      <td>16.980574</td>\n",
       "    </tr>\n",
       "    <tr>\n",
       "      <th>75%</th>\n",
       "      <td>8.847571e+07</td>\n",
       "      <td>6.000000</td>\n",
       "      <td>1.150000e+05</td>\n",
       "      <td>2.000000</td>\n",
       "      <td>89.250000</td>\n",
       "      <td>2016.000000</td>\n",
       "      <td>20.410000</td>\n",
       "      <td>20000.000000</td>\n",
       "      <td>30000.000000</td>\n",
       "      <td>2.389780e+05</td>\n",
       "      <td>4.000000</td>\n",
       "      <td>2.863752e+05</td>\n",
       "      <td>53274.000000</td>\n",
       "      <td>148000.000000</td>\n",
       "      <td>22.435000</td>\n",
       "      <td>30.683819</td>\n",
       "      <td>30.723531</td>\n",
       "      <td>30.929671</td>\n",
       "    </tr>\n",
       "    <tr>\n",
       "      <th>max</th>\n",
       "      <td>1.459724e+08</td>\n",
       "      <td>9.000000</td>\n",
       "      <td>7.446395e+06</td>\n",
       "      <td>2.000000</td>\n",
       "      <td>94.690000</td>\n",
       "      <td>2018.000000</td>\n",
       "      <td>740.960000</td>\n",
       "      <td>32000.000000</td>\n",
       "      <td>40000.000000</td>\n",
       "      <td>4.772549e+06</td>\n",
       "      <td>5.000000</td>\n",
       "      <td>4.932524e+06</td>\n",
       "      <td>897835.000000</td>\n",
       "      <td>642000.000000</td>\n",
       "      <td>39.900000</td>\n",
       "      <td>87.851114</td>\n",
       "      <td>88.246603</td>\n",
       "      <td>88.873714</td>\n",
       "    </tr>\n",
       "  </tbody>\n",
       "</table>\n",
       "</div>"
      ],
      "text/plain": [
       "             app_id   job_exp_yrs  annual_salary   n_semesters  \\\n",
       "count  3.400000e+04  34000.000000   3.400000e+04  34000.000000   \n",
       "mean   6.131298e+07      4.079294   9.820583e+04      1.430647   \n",
       "std    3.771724e+07      2.606378   7.353028e+04      0.495174   \n",
       "min    4.058310e+05      1.000000   0.000000e+00      1.000000   \n",
       "25%    3.089923e+07      2.000000   6.500000e+04      1.000000   \n",
       "50%    6.173726e+07      4.000000   8.500000e+04      1.000000   \n",
       "75%    8.847571e+07      6.000000   1.150000e+05      2.000000   \n",
       "max    1.459724e+08      9.000000   7.446395e+06      2.000000   \n",
       "\n",
       "       prev_grade_percent          year   fees/income    down_pymnt  \\\n",
       "count        34000.000000  34000.000000  33997.000000  34000.000000   \n",
       "mean            85.424298   2015.244735     15.538769  12163.304118   \n",
       "std              5.407398      1.401055     10.217856  10707.437714   \n",
       "min             69.010000   2012.000000      0.000000      0.000000   \n",
       "25%             82.140000   2014.000000      9.510000      0.000000   \n",
       "50%             86.010000   2015.000000     14.540000  16000.000000   \n",
       "75%             89.250000   2016.000000     20.410000  20000.000000   \n",
       "max             94.690000   2018.000000    740.960000  32000.000000   \n",
       "\n",
       "               fees  total_balance  num_children  credit_limit  \\\n",
       "count  34000.000000   3.400000e+04  34000.000000  3.400000e+04   \n",
       "mean   25950.638235   1.577643e+05      3.128441  1.970130e+05   \n",
       "std     5468.639711   1.834909e+05      1.481278  2.013486e+05   \n",
       "min    20000.000000   0.000000e+00      0.000000  0.000000e+00   \n",
       "25%    21000.000000   3.195675e+04      2.000000  5.696950e+04   \n",
       "50%    24950.000000   7.143400e+04      3.000000  1.158680e+05   \n",
       "75%    30000.000000   2.389780e+05      4.000000  2.863752e+05   \n",
       "max    40000.000000   4.772549e+06      5.000000  4.932524e+06   \n",
       "\n",
       "       credit_limit_ex_mort  spouse_income  spouse_fees/income  \\\n",
       "count          34000.000000    1294.000000         1294.000000   \n",
       "mean           43389.425441  125014.670889           17.476236   \n",
       "std            35935.186485   58939.673848            7.327846   \n",
       "min                0.000000   40000.000000            0.230000   \n",
       "25%            23465.250000   87500.000000           12.037500   \n",
       "50%            36382.000000  110250.000000           17.110000   \n",
       "75%            53274.000000  148000.000000           22.435000   \n",
       "max           897835.000000  642000.000000           39.900000   \n",
       "\n",
       "       mental_iv_score  parent_iv_score  social_iv_score  \n",
       "count     34000.000000     34000.000000     34000.000000  \n",
       "mean         20.843090        20.887305        21.022355  \n",
       "std          16.648062        16.696663        16.792907  \n",
       "min           0.000667         0.000027         0.000666  \n",
       "25%           7.406833         7.395480         7.485895  \n",
       "50%          16.886263        16.937863        16.980574  \n",
       "75%          30.683819        30.723531        30.929671  \n",
       "max          87.851114        88.246603        88.873714  "
      ]
     },
     "execution_count": 195,
     "metadata": {},
     "output_type": "execute_result"
    }
   ],
   "source": [
    "data.describe()"
   ]
  },
  {
   "cell_type": "markdown",
   "metadata": {
    "id": "VJmRE2I4z2U2"
   },
   "source": [
    "## **Data Cleaning**"
   ]
  },
  {
   "cell_type": "markdown",
   "metadata": {
    "id": "UnMzkqm6lIaQ"
   },
   "source": [
    "We will now start data cleaning. Let's check for duplicates."
   ]
  },
  {
   "cell_type": "markdown",
   "metadata": {
    "id": "VKXj39ck0OWV"
   },
   "source": [
    "### Checking for duplicates"
   ]
  },
  {
   "cell_type": "code",
   "execution_count": 196,
   "metadata": {
    "colab": {
     "base_uri": "https://localhost:8080/"
    },
    "id": "Nx1s5LVplIaR",
    "outputId": "83186f34-2540-450c-943f-b3500391b984"
   },
   "outputs": [
    {
     "data": {
      "text/plain": [
       "0"
      ]
     },
     "execution_count": 196,
     "metadata": {},
     "output_type": "execute_result"
    }
   ],
   "source": [
    "data['app_id'].duplicated().sum()"
   ]
  },
  {
   "cell_type": "code",
   "execution_count": 197,
   "metadata": {
    "colab": {
     "base_uri": "https://localhost:8080/",
     "height": 548
    },
    "id": "-7ptJvcblIaS",
    "outputId": "2a8e05b9-0227-4b75-82c2-fb58c7e44d75"
   },
   "outputs": [
    {
     "data": {
      "text/html": [
       "<div>\n",
       "<style scoped>\n",
       "    .dataframe tbody tr th:only-of-type {\n",
       "        vertical-align: middle;\n",
       "    }\n",
       "\n",
       "    .dataframe tbody tr th {\n",
       "        vertical-align: top;\n",
       "    }\n",
       "\n",
       "    .dataframe thead th {\n",
       "        text-align: right;\n",
       "    }\n",
       "</style>\n",
       "<table border=\"1\" class=\"dataframe\">\n",
       "  <thead>\n",
       "    <tr style=\"text-align: right;\">\n",
       "      <th></th>\n",
       "      <th>job_name</th>\n",
       "      <th>job_exp_yrs</th>\n",
       "      <th>address</th>\n",
       "      <th>house_type</th>\n",
       "      <th>annual_salary</th>\n",
       "      <th>salary_verification</th>\n",
       "      <th>n_semesters</th>\n",
       "      <th>prev_grade_percent</th>\n",
       "      <th>year</th>\n",
       "      <th>fees/income</th>\n",
       "      <th>...</th>\n",
       "      <th>num_children</th>\n",
       "      <th>credit_limit</th>\n",
       "      <th>credit_limit_ex_mort</th>\n",
       "      <th>spouse_income</th>\n",
       "      <th>spouse_fees/income</th>\n",
       "      <th>spouse_income_verification</th>\n",
       "      <th>decision</th>\n",
       "      <th>mental_iv_score</th>\n",
       "      <th>parent_iv_score</th>\n",
       "      <th>social_iv_score</th>\n",
       "    </tr>\n",
       "  </thead>\n",
       "  <tbody>\n",
       "    <tr>\n",
       "      <th>0</th>\n",
       "      <td>Assistant</td>\n",
       "      <td>1.0</td>\n",
       "      <td>YUU</td>\n",
       "      <td>rental</td>\n",
       "      <td>46000.0</td>\n",
       "      <td>V</td>\n",
       "      <td>1</td>\n",
       "      <td>92.65</td>\n",
       "      <td>2017</td>\n",
       "      <td>17.48</td>\n",
       "      <td>...</td>\n",
       "      <td>3</td>\n",
       "      <td>68039.0</td>\n",
       "      <td>35198.0</td>\n",
       "      <td>110750.0</td>\n",
       "      <td>27.97</td>\n",
       "      <td>V</td>\n",
       "      <td>not enrolled</td>\n",
       "      <td>0.087638</td>\n",
       "      <td>8.423544</td>\n",
       "      <td>32.629941</td>\n",
       "    </tr>\n",
       "    <tr>\n",
       "      <th>1</th>\n",
       "      <td>Nurse</td>\n",
       "      <td>1.0</td>\n",
       "      <td>YUU</td>\n",
       "      <td>rental</td>\n",
       "      <td>152000.0</td>\n",
       "      <td>V</td>\n",
       "      <td>1</td>\n",
       "      <td>93.51</td>\n",
       "      <td>2016</td>\n",
       "      <td>2.39</td>\n",
       "      <td>...</td>\n",
       "      <td>5</td>\n",
       "      <td>24000.0</td>\n",
       "      <td>11704.0</td>\n",
       "      <td>NaN</td>\n",
       "      <td>NaN</td>\n",
       "      <td>NaN</td>\n",
       "      <td>enrolled</td>\n",
       "      <td>25.328459</td>\n",
       "      <td>12.940269</td>\n",
       "      <td>21.888056</td>\n",
       "    </tr>\n",
       "    <tr>\n",
       "      <th>2</th>\n",
       "      <td>engineer</td>\n",
       "      <td>5.0</td>\n",
       "      <td>NXT</td>\n",
       "      <td>rental</td>\n",
       "      <td>115000.0</td>\n",
       "      <td>V</td>\n",
       "      <td>2</td>\n",
       "      <td>88.47</td>\n",
       "      <td>2015</td>\n",
       "      <td>12.95</td>\n",
       "      <td>...</td>\n",
       "      <td>5</td>\n",
       "      <td>67122.0</td>\n",
       "      <td>41004.0</td>\n",
       "      <td>NaN</td>\n",
       "      <td>NaN</td>\n",
       "      <td>NaN</td>\n",
       "      <td>enrolled</td>\n",
       "      <td>7.141356</td>\n",
       "      <td>7.539012</td>\n",
       "      <td>20.730058</td>\n",
       "    </tr>\n",
       "    <tr>\n",
       "      <th>3</th>\n",
       "      <td>manager</td>\n",
       "      <td>2.0</td>\n",
       "      <td>YDC</td>\n",
       "      <td>rental</td>\n",
       "      <td>25000.0</td>\n",
       "      <td>NV</td>\n",
       "      <td>1</td>\n",
       "      <td>89.58</td>\n",
       "      <td>2018</td>\n",
       "      <td>9.75</td>\n",
       "      <td>...</td>\n",
       "      <td>2</td>\n",
       "      <td>12000.0</td>\n",
       "      <td>4065.0</td>\n",
       "      <td>NaN</td>\n",
       "      <td>NaN</td>\n",
       "      <td>NaN</td>\n",
       "      <td>not enrolled</td>\n",
       "      <td>34.474615</td>\n",
       "      <td>22.732014</td>\n",
       "      <td>1.076913</td>\n",
       "    </tr>\n",
       "    <tr>\n",
       "      <th>4</th>\n",
       "      <td>Other</td>\n",
       "      <td>6.0</td>\n",
       "      <td>LJM</td>\n",
       "      <td>mortgage</td>\n",
       "      <td>80000.0</td>\n",
       "      <td>V</td>\n",
       "      <td>1</td>\n",
       "      <td>78.51</td>\n",
       "      <td>2016</td>\n",
       "      <td>15.17</td>\n",
       "      <td>...</td>\n",
       "      <td>2</td>\n",
       "      <td>211158.0</td>\n",
       "      <td>32595.0</td>\n",
       "      <td>NaN</td>\n",
       "      <td>NaN</td>\n",
       "      <td>NaN</td>\n",
       "      <td>enrolled</td>\n",
       "      <td>29.070282</td>\n",
       "      <td>5.226745</td>\n",
       "      <td>13.420388</td>\n",
       "    </tr>\n",
       "    <tr>\n",
       "      <th>...</th>\n",
       "      <td>...</td>\n",
       "      <td>...</td>\n",
       "      <td>...</td>\n",
       "      <td>...</td>\n",
       "      <td>...</td>\n",
       "      <td>...</td>\n",
       "      <td>...</td>\n",
       "      <td>...</td>\n",
       "      <td>...</td>\n",
       "      <td>...</td>\n",
       "      <td>...</td>\n",
       "      <td>...</td>\n",
       "      <td>...</td>\n",
       "      <td>...</td>\n",
       "      <td>...</td>\n",
       "      <td>...</td>\n",
       "      <td>...</td>\n",
       "      <td>...</td>\n",
       "      <td>...</td>\n",
       "      <td>...</td>\n",
       "      <td>...</td>\n",
       "    </tr>\n",
       "    <tr>\n",
       "      <th>33995</th>\n",
       "      <td>Analyst</td>\n",
       "      <td>5.0</td>\n",
       "      <td>YUU</td>\n",
       "      <td>rental</td>\n",
       "      <td>105000.0</td>\n",
       "      <td>V</td>\n",
       "      <td>1</td>\n",
       "      <td>91.82</td>\n",
       "      <td>2015</td>\n",
       "      <td>11.71</td>\n",
       "      <td>...</td>\n",
       "      <td>2</td>\n",
       "      <td>60500.0</td>\n",
       "      <td>28742.0</td>\n",
       "      <td>NaN</td>\n",
       "      <td>NaN</td>\n",
       "      <td>NaN</td>\n",
       "      <td>enrolled</td>\n",
       "      <td>16.907394</td>\n",
       "      <td>64.581258</td>\n",
       "      <td>1.609207</td>\n",
       "    </tr>\n",
       "    <tr>\n",
       "      <th>33996</th>\n",
       "      <td>Marketing</td>\n",
       "      <td>3.0</td>\n",
       "      <td>RQX</td>\n",
       "      <td>mortgage</td>\n",
       "      <td>118299.0</td>\n",
       "      <td>V</td>\n",
       "      <td>2</td>\n",
       "      <td>85.52</td>\n",
       "      <td>2015</td>\n",
       "      <td>13.28</td>\n",
       "      <td>...</td>\n",
       "      <td>2</td>\n",
       "      <td>470072.0</td>\n",
       "      <td>69265.0</td>\n",
       "      <td>NaN</td>\n",
       "      <td>NaN</td>\n",
       "      <td>NaN</td>\n",
       "      <td>enrolled</td>\n",
       "      <td>65.635700</td>\n",
       "      <td>24.085703</td>\n",
       "      <td>0.278597</td>\n",
       "    </tr>\n",
       "    <tr>\n",
       "      <th>33997</th>\n",
       "      <td>teacher</td>\n",
       "      <td>6.0</td>\n",
       "      <td>UWH</td>\n",
       "      <td>mortgage</td>\n",
       "      <td>56000.0</td>\n",
       "      <td>VbP</td>\n",
       "      <td>2</td>\n",
       "      <td>85.01</td>\n",
       "      <td>2014</td>\n",
       "      <td>18.88</td>\n",
       "      <td>...</td>\n",
       "      <td>4</td>\n",
       "      <td>279870.0</td>\n",
       "      <td>38038.0</td>\n",
       "      <td>NaN</td>\n",
       "      <td>NaN</td>\n",
       "      <td>NaN</td>\n",
       "      <td>enrolled</td>\n",
       "      <td>27.466363</td>\n",
       "      <td>46.752626</td>\n",
       "      <td>15.781011</td>\n",
       "    </tr>\n",
       "    <tr>\n",
       "      <th>33998</th>\n",
       "      <td>manager</td>\n",
       "      <td>2.0</td>\n",
       "      <td>CAA</td>\n",
       "      <td>mortgage</td>\n",
       "      <td>107100.0</td>\n",
       "      <td>VbP</td>\n",
       "      <td>1</td>\n",
       "      <td>85.01</td>\n",
       "      <td>2017</td>\n",
       "      <td>3.61</td>\n",
       "      <td>...</td>\n",
       "      <td>4</td>\n",
       "      <td>287972.0</td>\n",
       "      <td>17905.0</td>\n",
       "      <td>NaN</td>\n",
       "      <td>NaN</td>\n",
       "      <td>NaN</td>\n",
       "      <td>enrolled</td>\n",
       "      <td>24.455919</td>\n",
       "      <td>3.753729</td>\n",
       "      <td>47.290821</td>\n",
       "    </tr>\n",
       "    <tr>\n",
       "      <th>33999</th>\n",
       "      <td>Consultant</td>\n",
       "      <td>1.0</td>\n",
       "      <td>XSO</td>\n",
       "      <td>mortgage</td>\n",
       "      <td>125000.0</td>\n",
       "      <td>VbP</td>\n",
       "      <td>1</td>\n",
       "      <td>92.93</td>\n",
       "      <td>2017</td>\n",
       "      <td>6.56</td>\n",
       "      <td>...</td>\n",
       "      <td>5</td>\n",
       "      <td>432200.0</td>\n",
       "      <td>40925.0</td>\n",
       "      <td>NaN</td>\n",
       "      <td>NaN</td>\n",
       "      <td>NaN</td>\n",
       "      <td>enrolled</td>\n",
       "      <td>42.800443</td>\n",
       "      <td>17.023625</td>\n",
       "      <td>25.215754</td>\n",
       "    </tr>\n",
       "  </tbody>\n",
       "</table>\n",
       "<p>34000 rows × 25 columns</p>\n",
       "</div>"
      ],
      "text/plain": [
       "         job_name  job_exp_yrs address house_type  annual_salary  \\\n",
       "0       Assistant          1.0     YUU     rental        46000.0   \n",
       "1           Nurse          1.0     YUU     rental       152000.0   \n",
       "2        engineer          5.0     NXT     rental       115000.0   \n",
       "3         manager          2.0     YDC     rental        25000.0   \n",
       "4           Other          6.0     LJM   mortgage        80000.0   \n",
       "...           ...          ...     ...        ...            ...   \n",
       "33995     Analyst          5.0     YUU     rental       105000.0   \n",
       "33996   Marketing          3.0     RQX   mortgage       118299.0   \n",
       "33997     teacher          6.0     UWH   mortgage        56000.0   \n",
       "33998     manager          2.0     CAA   mortgage       107100.0   \n",
       "33999  Consultant          1.0     XSO   mortgage       125000.0   \n",
       "\n",
       "      salary_verification  n_semesters  prev_grade_percent  year  fees/income  \\\n",
       "0                       V            1               92.65  2017        17.48   \n",
       "1                       V            1               93.51  2016         2.39   \n",
       "2                       V            2               88.47  2015        12.95   \n",
       "3                      NV            1               89.58  2018         9.75   \n",
       "4                       V            1               78.51  2016        15.17   \n",
       "...                   ...          ...                 ...   ...          ...   \n",
       "33995                   V            1               91.82  2015        11.71   \n",
       "33996                   V            2               85.52  2015        13.28   \n",
       "33997                 VbP            2               85.01  2014        18.88   \n",
       "33998                 VbP            1               85.01  2017         3.61   \n",
       "33999                 VbP            1               92.93  2017         6.56   \n",
       "\n",
       "       ...  num_children  credit_limit credit_limit_ex_mort  spouse_income  \\\n",
       "0      ...             3       68039.0              35198.0       110750.0   \n",
       "1      ...             5       24000.0              11704.0            NaN   \n",
       "2      ...             5       67122.0              41004.0            NaN   \n",
       "3      ...             2       12000.0               4065.0            NaN   \n",
       "4      ...             2      211158.0              32595.0            NaN   \n",
       "...    ...           ...           ...                  ...            ...   \n",
       "33995  ...             2       60500.0              28742.0            NaN   \n",
       "33996  ...             2      470072.0              69265.0            NaN   \n",
       "33997  ...             4      279870.0              38038.0            NaN   \n",
       "33998  ...             4      287972.0              17905.0            NaN   \n",
       "33999  ...             5      432200.0              40925.0            NaN   \n",
       "\n",
       "      spouse_fees/income  spouse_income_verification      decision  \\\n",
       "0                  27.97                           V  not enrolled   \n",
       "1                    NaN                         NaN      enrolled   \n",
       "2                    NaN                         NaN      enrolled   \n",
       "3                    NaN                         NaN  not enrolled   \n",
       "4                    NaN                         NaN      enrolled   \n",
       "...                  ...                         ...           ...   \n",
       "33995                NaN                         NaN      enrolled   \n",
       "33996                NaN                         NaN      enrolled   \n",
       "33997                NaN                         NaN      enrolled   \n",
       "33998                NaN                         NaN      enrolled   \n",
       "33999                NaN                         NaN      enrolled   \n",
       "\n",
       "       mental_iv_score  parent_iv_score  social_iv_score  \n",
       "0             0.087638         8.423544        32.629941  \n",
       "1            25.328459        12.940269        21.888056  \n",
       "2             7.141356         7.539012        20.730058  \n",
       "3            34.474615        22.732014         1.076913  \n",
       "4            29.070282         5.226745        13.420388  \n",
       "...                ...              ...              ...  \n",
       "33995        16.907394        64.581258         1.609207  \n",
       "33996        65.635700        24.085703         0.278597  \n",
       "33997        27.466363        46.752626        15.781011  \n",
       "33998        24.455919         3.753729        47.290821  \n",
       "33999        42.800443        17.023625        25.215754  \n",
       "\n",
       "[34000 rows x 25 columns]"
      ]
     },
     "execution_count": 197,
     "metadata": {},
     "output_type": "execute_result"
    }
   ],
   "source": [
    "temp_data = data.drop(columns = \"app_id\")\n",
    "temp_data"
   ]
  },
  {
   "cell_type": "code",
   "execution_count": 198,
   "metadata": {
    "colab": {
     "base_uri": "https://localhost:8080/"
    },
    "id": "Z7TNrWyNlIaT",
    "outputId": "3387a988-7472-4e52-dc12-42ecebc40ab0"
   },
   "outputs": [
    {
     "data": {
      "text/plain": [
       "0"
      ]
     },
     "execution_count": 198,
     "metadata": {},
     "output_type": "execute_result"
    }
   ],
   "source": [
    "temp_data.duplicated().sum()"
   ]
  },
  {
   "cell_type": "code",
   "execution_count": 199,
   "metadata": {
    "id": "r4HRf_tllIaV"
   },
   "outputs": [],
   "source": [
    "del(temp_data)"
   ]
  },
  {
   "cell_type": "markdown",
   "metadata": {
    "id": "2ozamr22z_lb"
   },
   "source": [
    "No duplicates were found at all. Next, we will check for missing values."
   ]
  },
  {
   "cell_type": "markdown",
   "metadata": {
    "id": "XQYLdMl80iSO"
   },
   "source": [
    "### Checking for missing values"
   ]
  },
  {
   "cell_type": "code",
   "execution_count": 200,
   "metadata": {
    "colab": {
     "base_uri": "https://localhost:8080/"
    },
    "id": "qia2Bi14lIaX",
    "outputId": "49ba038b-9fd2-48e6-826d-4f7b6fcabfa1"
   },
   "outputs": [
    {
     "data": {
      "text/plain": [
       "app_id                        False\n",
       "job_name                       True\n",
       "job_exp_yrs                   False\n",
       "address                       False\n",
       "house_type                     True\n",
       "annual_salary                 False\n",
       "salary_verification           False\n",
       "n_semesters                   False\n",
       "prev_grade_percent            False\n",
       "year                          False\n",
       "fees/income                    True\n",
       "down_pymnt                    False\n",
       "fees                          False\n",
       "spouse_has_job                False\n",
       "total_balance                 False\n",
       "payment_method                False\n",
       "num_children                  False\n",
       "credit_limit                  False\n",
       "credit_limit_ex_mort          False\n",
       "spouse_income                  True\n",
       "spouse_fees/income             True\n",
       "spouse_income_verification     True\n",
       "decision                      False\n",
       "mental_iv_score               False\n",
       "parent_iv_score               False\n",
       "social_iv_score               False\n",
       "dtype: bool"
      ]
     },
     "execution_count": 200,
     "metadata": {},
     "output_type": "execute_result"
    }
   ],
   "source": [
    "data.isnull().any()"
   ]
  },
  {
   "cell_type": "markdown",
   "metadata": {
    "id": "F9C_kDojlIaY"
   },
   "source": [
    "Job name, house type, fees / income, spouse income, spouse fees / income, spouse income verification all have missing values. We will start by analysing the missing values of house type. "
   ]
  },
  {
   "cell_type": "code",
   "execution_count": 201,
   "metadata": {
    "colab": {
     "base_uri": "https://localhost:8080/"
    },
    "id": "RjDnHuhtlIaY",
    "outputId": "a06f7390-f371-410d-85ff-7bc481023d7a"
   },
   "outputs": [
    {
     "data": {
      "text/plain": [
       "7"
      ]
     },
     "execution_count": 201,
     "metadata": {},
     "output_type": "execute_result"
    }
   ],
   "source": [
    "data['house_type'].isnull().sum()"
   ]
  },
  {
   "cell_type": "markdown",
   "metadata": {
    "id": "5bcBZ3-alIaZ"
   },
   "source": [
    "There are only 7 data points in the data that have N/A house type. we can remove them because they will not be significant in the classification and if we included them we will have to encode using one hot encoding and add a whole column just for these 7 data points. So, we will remove them to make things easier."
   ]
  },
  {
   "cell_type": "code",
   "execution_count": 202,
   "metadata": {
    "colab": {
     "base_uri": "https://localhost:8080/",
     "height": 478
    },
    "id": "iHm0PZNclIaZ",
    "outputId": "8f35e3e6-f93a-447c-e927-304209b9e2cd"
   },
   "outputs": [
    {
     "data": {
      "text/html": [
       "<div>\n",
       "<style scoped>\n",
       "    .dataframe tbody tr th:only-of-type {\n",
       "        vertical-align: middle;\n",
       "    }\n",
       "\n",
       "    .dataframe tbody tr th {\n",
       "        vertical-align: top;\n",
       "    }\n",
       "\n",
       "    .dataframe thead th {\n",
       "        text-align: right;\n",
       "    }\n",
       "</style>\n",
       "<table border=\"1\" class=\"dataframe\">\n",
       "  <thead>\n",
       "    <tr style=\"text-align: right;\">\n",
       "      <th></th>\n",
       "      <th>app_id</th>\n",
       "      <th>job_name</th>\n",
       "      <th>job_exp_yrs</th>\n",
       "      <th>address</th>\n",
       "      <th>house_type</th>\n",
       "      <th>annual_salary</th>\n",
       "      <th>salary_verification</th>\n",
       "      <th>n_semesters</th>\n",
       "      <th>prev_grade_percent</th>\n",
       "      <th>year</th>\n",
       "      <th>...</th>\n",
       "      <th>num_children</th>\n",
       "      <th>credit_limit</th>\n",
       "      <th>credit_limit_ex_mort</th>\n",
       "      <th>spouse_income</th>\n",
       "      <th>spouse_fees/income</th>\n",
       "      <th>spouse_income_verification</th>\n",
       "      <th>decision</th>\n",
       "      <th>mental_iv_score</th>\n",
       "      <th>parent_iv_score</th>\n",
       "      <th>social_iv_score</th>\n",
       "    </tr>\n",
       "  </thead>\n",
       "  <tbody>\n",
       "    <tr>\n",
       "      <th>0</th>\n",
       "      <td>126229306</td>\n",
       "      <td>Assistant</td>\n",
       "      <td>1.0</td>\n",
       "      <td>YUU</td>\n",
       "      <td>rental</td>\n",
       "      <td>46000.0</td>\n",
       "      <td>V</td>\n",
       "      <td>1</td>\n",
       "      <td>92.65</td>\n",
       "      <td>2017</td>\n",
       "      <td>...</td>\n",
       "      <td>3</td>\n",
       "      <td>68039.0</td>\n",
       "      <td>35198.0</td>\n",
       "      <td>110750.0</td>\n",
       "      <td>27.97</td>\n",
       "      <td>V</td>\n",
       "      <td>not enrolled</td>\n",
       "      <td>0.087638</td>\n",
       "      <td>8.423544</td>\n",
       "      <td>32.629941</td>\n",
       "    </tr>\n",
       "    <tr>\n",
       "      <th>1</th>\n",
       "      <td>76692947</td>\n",
       "      <td>Nurse</td>\n",
       "      <td>1.0</td>\n",
       "      <td>YUU</td>\n",
       "      <td>rental</td>\n",
       "      <td>152000.0</td>\n",
       "      <td>V</td>\n",
       "      <td>1</td>\n",
       "      <td>93.51</td>\n",
       "      <td>2016</td>\n",
       "      <td>...</td>\n",
       "      <td>5</td>\n",
       "      <td>24000.0</td>\n",
       "      <td>11704.0</td>\n",
       "      <td>NaN</td>\n",
       "      <td>NaN</td>\n",
       "      <td>NaN</td>\n",
       "      <td>enrolled</td>\n",
       "      <td>25.328459</td>\n",
       "      <td>12.940269</td>\n",
       "      <td>21.888056</td>\n",
       "    </tr>\n",
       "    <tr>\n",
       "      <th>2</th>\n",
       "      <td>60624620</td>\n",
       "      <td>engineer</td>\n",
       "      <td>5.0</td>\n",
       "      <td>NXT</td>\n",
       "      <td>rental</td>\n",
       "      <td>115000.0</td>\n",
       "      <td>V</td>\n",
       "      <td>2</td>\n",
       "      <td>88.47</td>\n",
       "      <td>2015</td>\n",
       "      <td>...</td>\n",
       "      <td>5</td>\n",
       "      <td>67122.0</td>\n",
       "      <td>41004.0</td>\n",
       "      <td>NaN</td>\n",
       "      <td>NaN</td>\n",
       "      <td>NaN</td>\n",
       "      <td>enrolled</td>\n",
       "      <td>7.141356</td>\n",
       "      <td>7.539012</td>\n",
       "      <td>20.730058</td>\n",
       "    </tr>\n",
       "    <tr>\n",
       "      <th>3</th>\n",
       "      <td>129161039</td>\n",
       "      <td>manager</td>\n",
       "      <td>2.0</td>\n",
       "      <td>YDC</td>\n",
       "      <td>rental</td>\n",
       "      <td>25000.0</td>\n",
       "      <td>NV</td>\n",
       "      <td>1</td>\n",
       "      <td>89.58</td>\n",
       "      <td>2018</td>\n",
       "      <td>...</td>\n",
       "      <td>2</td>\n",
       "      <td>12000.0</td>\n",
       "      <td>4065.0</td>\n",
       "      <td>NaN</td>\n",
       "      <td>NaN</td>\n",
       "      <td>NaN</td>\n",
       "      <td>not enrolled</td>\n",
       "      <td>34.474615</td>\n",
       "      <td>22.732014</td>\n",
       "      <td>1.076913</td>\n",
       "    </tr>\n",
       "    <tr>\n",
       "      <th>4</th>\n",
       "      <td>90518461</td>\n",
       "      <td>Other</td>\n",
       "      <td>6.0</td>\n",
       "      <td>LJM</td>\n",
       "      <td>mortgage</td>\n",
       "      <td>80000.0</td>\n",
       "      <td>V</td>\n",
       "      <td>1</td>\n",
       "      <td>78.51</td>\n",
       "      <td>2016</td>\n",
       "      <td>...</td>\n",
       "      <td>2</td>\n",
       "      <td>211158.0</td>\n",
       "      <td>32595.0</td>\n",
       "      <td>NaN</td>\n",
       "      <td>NaN</td>\n",
       "      <td>NaN</td>\n",
       "      <td>enrolled</td>\n",
       "      <td>29.070282</td>\n",
       "      <td>5.226745</td>\n",
       "      <td>13.420388</td>\n",
       "    </tr>\n",
       "    <tr>\n",
       "      <th>...</th>\n",
       "      <td>...</td>\n",
       "      <td>...</td>\n",
       "      <td>...</td>\n",
       "      <td>...</td>\n",
       "      <td>...</td>\n",
       "      <td>...</td>\n",
       "      <td>...</td>\n",
       "      <td>...</td>\n",
       "      <td>...</td>\n",
       "      <td>...</td>\n",
       "      <td>...</td>\n",
       "      <td>...</td>\n",
       "      <td>...</td>\n",
       "      <td>...</td>\n",
       "      <td>...</td>\n",
       "      <td>...</td>\n",
       "      <td>...</td>\n",
       "      <td>...</td>\n",
       "      <td>...</td>\n",
       "      <td>...</td>\n",
       "      <td>...</td>\n",
       "    </tr>\n",
       "    <tr>\n",
       "      <th>33995</th>\n",
       "      <td>57383315</td>\n",
       "      <td>Analyst</td>\n",
       "      <td>5.0</td>\n",
       "      <td>YUU</td>\n",
       "      <td>rental</td>\n",
       "      <td>105000.0</td>\n",
       "      <td>V</td>\n",
       "      <td>1</td>\n",
       "      <td>91.82</td>\n",
       "      <td>2015</td>\n",
       "      <td>...</td>\n",
       "      <td>2</td>\n",
       "      <td>60500.0</td>\n",
       "      <td>28742.0</td>\n",
       "      <td>NaN</td>\n",
       "      <td>NaN</td>\n",
       "      <td>NaN</td>\n",
       "      <td>enrolled</td>\n",
       "      <td>16.907394</td>\n",
       "      <td>64.581258</td>\n",
       "      <td>1.609207</td>\n",
       "    </tr>\n",
       "    <tr>\n",
       "      <th>33996</th>\n",
       "      <td>66364198</td>\n",
       "      <td>Marketing</td>\n",
       "      <td>3.0</td>\n",
       "      <td>RQX</td>\n",
       "      <td>mortgage</td>\n",
       "      <td>118299.0</td>\n",
       "      <td>V</td>\n",
       "      <td>2</td>\n",
       "      <td>85.52</td>\n",
       "      <td>2015</td>\n",
       "      <td>...</td>\n",
       "      <td>2</td>\n",
       "      <td>470072.0</td>\n",
       "      <td>69265.0</td>\n",
       "      <td>NaN</td>\n",
       "      <td>NaN</td>\n",
       "      <td>NaN</td>\n",
       "      <td>enrolled</td>\n",
       "      <td>65.635700</td>\n",
       "      <td>24.085703</td>\n",
       "      <td>0.278597</td>\n",
       "    </tr>\n",
       "    <tr>\n",
       "      <th>33997</th>\n",
       "      <td>23412190</td>\n",
       "      <td>teacher</td>\n",
       "      <td>6.0</td>\n",
       "      <td>UWH</td>\n",
       "      <td>mortgage</td>\n",
       "      <td>56000.0</td>\n",
       "      <td>VbP</td>\n",
       "      <td>2</td>\n",
       "      <td>85.01</td>\n",
       "      <td>2014</td>\n",
       "      <td>...</td>\n",
       "      <td>4</td>\n",
       "      <td>279870.0</td>\n",
       "      <td>38038.0</td>\n",
       "      <td>NaN</td>\n",
       "      <td>NaN</td>\n",
       "      <td>NaN</td>\n",
       "      <td>enrolled</td>\n",
       "      <td>27.466363</td>\n",
       "      <td>46.752626</td>\n",
       "      <td>15.781011</td>\n",
       "    </tr>\n",
       "    <tr>\n",
       "      <th>33998</th>\n",
       "      <td>106575453</td>\n",
       "      <td>manager</td>\n",
       "      <td>2.0</td>\n",
       "      <td>CAA</td>\n",
       "      <td>mortgage</td>\n",
       "      <td>107100.0</td>\n",
       "      <td>VbP</td>\n",
       "      <td>1</td>\n",
       "      <td>85.01</td>\n",
       "      <td>2017</td>\n",
       "      <td>...</td>\n",
       "      <td>4</td>\n",
       "      <td>287972.0</td>\n",
       "      <td>17905.0</td>\n",
       "      <td>NaN</td>\n",
       "      <td>NaN</td>\n",
       "      <td>NaN</td>\n",
       "      <td>enrolled</td>\n",
       "      <td>24.455919</td>\n",
       "      <td>3.753729</td>\n",
       "      <td>47.290821</td>\n",
       "    </tr>\n",
       "    <tr>\n",
       "      <th>33999</th>\n",
       "      <td>115722215</td>\n",
       "      <td>Consultant</td>\n",
       "      <td>1.0</td>\n",
       "      <td>XSO</td>\n",
       "      <td>mortgage</td>\n",
       "      <td>125000.0</td>\n",
       "      <td>VbP</td>\n",
       "      <td>1</td>\n",
       "      <td>92.93</td>\n",
       "      <td>2017</td>\n",
       "      <td>...</td>\n",
       "      <td>5</td>\n",
       "      <td>432200.0</td>\n",
       "      <td>40925.0</td>\n",
       "      <td>NaN</td>\n",
       "      <td>NaN</td>\n",
       "      <td>NaN</td>\n",
       "      <td>enrolled</td>\n",
       "      <td>42.800443</td>\n",
       "      <td>17.023625</td>\n",
       "      <td>25.215754</td>\n",
       "    </tr>\n",
       "  </tbody>\n",
       "</table>\n",
       "<p>33993 rows × 26 columns</p>\n",
       "</div>"
      ],
      "text/plain": [
       "          app_id    job_name  job_exp_yrs address house_type  annual_salary  \\\n",
       "0      126229306   Assistant          1.0     YUU     rental        46000.0   \n",
       "1       76692947       Nurse          1.0     YUU     rental       152000.0   \n",
       "2       60624620    engineer          5.0     NXT     rental       115000.0   \n",
       "3      129161039     manager          2.0     YDC     rental        25000.0   \n",
       "4       90518461       Other          6.0     LJM   mortgage        80000.0   \n",
       "...          ...         ...          ...     ...        ...            ...   \n",
       "33995   57383315     Analyst          5.0     YUU     rental       105000.0   \n",
       "33996   66364198   Marketing          3.0     RQX   mortgage       118299.0   \n",
       "33997   23412190     teacher          6.0     UWH   mortgage        56000.0   \n",
       "33998  106575453     manager          2.0     CAA   mortgage       107100.0   \n",
       "33999  115722215  Consultant          1.0     XSO   mortgage       125000.0   \n",
       "\n",
       "      salary_verification  n_semesters  prev_grade_percent  year  ...  \\\n",
       "0                       V            1               92.65  2017  ...   \n",
       "1                       V            1               93.51  2016  ...   \n",
       "2                       V            2               88.47  2015  ...   \n",
       "3                      NV            1               89.58  2018  ...   \n",
       "4                       V            1               78.51  2016  ...   \n",
       "...                   ...          ...                 ...   ...  ...   \n",
       "33995                   V            1               91.82  2015  ...   \n",
       "33996                   V            2               85.52  2015  ...   \n",
       "33997                 VbP            2               85.01  2014  ...   \n",
       "33998                 VbP            1               85.01  2017  ...   \n",
       "33999                 VbP            1               92.93  2017  ...   \n",
       "\n",
       "       num_children  credit_limit  credit_limit_ex_mort spouse_income  \\\n",
       "0                 3       68039.0               35198.0      110750.0   \n",
       "1                 5       24000.0               11704.0           NaN   \n",
       "2                 5       67122.0               41004.0           NaN   \n",
       "3                 2       12000.0                4065.0           NaN   \n",
       "4                 2      211158.0               32595.0           NaN   \n",
       "...             ...           ...                   ...           ...   \n",
       "33995             2       60500.0               28742.0           NaN   \n",
       "33996             2      470072.0               69265.0           NaN   \n",
       "33997             4      279870.0               38038.0           NaN   \n",
       "33998             4      287972.0               17905.0           NaN   \n",
       "33999             5      432200.0               40925.0           NaN   \n",
       "\n",
       "       spouse_fees/income spouse_income_verification      decision  \\\n",
       "0                   27.97                          V  not enrolled   \n",
       "1                     NaN                        NaN      enrolled   \n",
       "2                     NaN                        NaN      enrolled   \n",
       "3                     NaN                        NaN  not enrolled   \n",
       "4                     NaN                        NaN      enrolled   \n",
       "...                   ...                        ...           ...   \n",
       "33995                 NaN                        NaN      enrolled   \n",
       "33996                 NaN                        NaN      enrolled   \n",
       "33997                 NaN                        NaN      enrolled   \n",
       "33998                 NaN                        NaN      enrolled   \n",
       "33999                 NaN                        NaN      enrolled   \n",
       "\n",
       "       mental_iv_score  parent_iv_score  social_iv_score  \n",
       "0             0.087638         8.423544        32.629941  \n",
       "1            25.328459        12.940269        21.888056  \n",
       "2             7.141356         7.539012        20.730058  \n",
       "3            34.474615        22.732014         1.076913  \n",
       "4            29.070282         5.226745        13.420388  \n",
       "...                ...              ...              ...  \n",
       "33995        16.907394        64.581258         1.609207  \n",
       "33996        65.635700        24.085703         0.278597  \n",
       "33997        27.466363        46.752626        15.781011  \n",
       "33998        24.455919         3.753729        47.290821  \n",
       "33999        42.800443        17.023625        25.215754  \n",
       "\n",
       "[33993 rows x 26 columns]"
      ]
     },
     "execution_count": 202,
     "metadata": {},
     "output_type": "execute_result"
    }
   ],
   "source": [
    "data = data[data['house_type'].isnull() == False]\n",
    "data"
   ]
  },
  {
   "cell_type": "code",
   "execution_count": 203,
   "metadata": {
    "colab": {
     "base_uri": "https://localhost:8080/",
     "height": 69
    },
    "id": "F2Cp5_TjlIaa",
    "outputId": "ae98f583-9874-426a-c5a4-62f4dddb4c8e"
   },
   "outputs": [
    {
     "data": {
      "text/html": [
       "<div>\n",
       "<style scoped>\n",
       "    .dataframe tbody tr th:only-of-type {\n",
       "        vertical-align: middle;\n",
       "    }\n",
       "\n",
       "    .dataframe tbody tr th {\n",
       "        vertical-align: top;\n",
       "    }\n",
       "\n",
       "    .dataframe thead th {\n",
       "        text-align: right;\n",
       "    }\n",
       "</style>\n",
       "<table border=\"1\" class=\"dataframe\">\n",
       "  <thead>\n",
       "    <tr style=\"text-align: right;\">\n",
       "      <th></th>\n",
       "      <th>app_id</th>\n",
       "      <th>job_name</th>\n",
       "      <th>job_exp_yrs</th>\n",
       "      <th>address</th>\n",
       "      <th>house_type</th>\n",
       "      <th>annual_salary</th>\n",
       "      <th>salary_verification</th>\n",
       "      <th>n_semesters</th>\n",
       "      <th>prev_grade_percent</th>\n",
       "      <th>year</th>\n",
       "      <th>...</th>\n",
       "      <th>num_children</th>\n",
       "      <th>credit_limit</th>\n",
       "      <th>credit_limit_ex_mort</th>\n",
       "      <th>spouse_income</th>\n",
       "      <th>spouse_fees/income</th>\n",
       "      <th>spouse_income_verification</th>\n",
       "      <th>decision</th>\n",
       "      <th>mental_iv_score</th>\n",
       "      <th>parent_iv_score</th>\n",
       "      <th>social_iv_score</th>\n",
       "    </tr>\n",
       "  </thead>\n",
       "  <tbody>\n",
       "  </tbody>\n",
       "</table>\n",
       "<p>0 rows × 26 columns</p>\n",
       "</div>"
      ],
      "text/plain": [
       "Empty DataFrame\n",
       "Columns: [app_id, job_name, job_exp_yrs, address, house_type, annual_salary, salary_verification, n_semesters, prev_grade_percent, year, fees/income, down_pymnt, fees, spouse_has_job, total_balance, payment_method, num_children, credit_limit, credit_limit_ex_mort, spouse_income, spouse_fees/income, spouse_income_verification, decision, mental_iv_score, parent_iv_score, social_iv_score]\n",
       "Index: []\n",
       "\n",
       "[0 rows x 26 columns]"
      ]
     },
     "execution_count": 203,
     "metadata": {},
     "output_type": "execute_result"
    }
   ],
   "source": [
    "data.loc[(data['spouse_has_job'] == 'Yes') & (data['spouse_income'].isnull())]"
   ]
  },
  {
   "cell_type": "markdown",
   "metadata": {
    "id": "4PPoo73olIab"
   },
   "source": [
    "There are no rows that do not contain the salary of the spouse if the spouse has a job. \n",
    "\n",
    "In order to fill in the missing values, we will need to have a standard feature for the annual fees (instead of having the fees feature expressed sometimes as fees per semester and other times as fees per year). We will then remove the fees and n_semesters from our dataset."
   ]
  },
  {
   "cell_type": "code",
   "execution_count": 204,
   "metadata": {
    "colab": {
     "base_uri": "https://localhost:8080/"
    },
    "id": "4oDBlJ4BlIab",
    "outputId": "9e15febf-2217-4f25-8b11-e16a1bbc9f04"
   },
   "outputs": [
    {
     "name": "stderr",
     "output_type": "stream",
     "text": [
      "C:\\Users\\moham\\miniconda3\\envs\\tensorflow\\lib\\site-packages\\ipykernel_launcher.py:1: SettingWithCopyWarning:\n",
      "\n",
      "\n",
      "A value is trying to be set on a copy of a slice from a DataFrame.\n",
      "Try using .loc[row_indexer,col_indexer] = value instead\n",
      "\n",
      "See the caveats in the documentation: https://pandas.pydata.org/pandas-docs/stable/user_guide/indexing.html#returning-a-view-versus-a-copy\n",
      "\n"
     ]
    }
   ],
   "source": [
    "data['fees_per_annum'] = (data['fees'] / data['n_semesters']) * 2\n",
    "data = data.drop(['fees', 'n_semesters'], axis= 1)"
   ]
  },
  {
   "cell_type": "markdown",
   "metadata": {
    "id": "XGxIkDw8lIac"
   },
   "source": [
    "Now, we will fill the missing values with reasonable assumptions.\n",
    "\n",
    "If the fees/income is not specified, we fill it with fees_per_annum/annual_salary from the dataset. "
   ]
  },
  {
   "cell_type": "code",
   "execution_count": 205,
   "metadata": {
    "id": "gQojojNulIac"
   },
   "outputs": [],
   "source": [
    "data['fees/income'] = data['fees/income'].fillna(data['fees_per_annum']/data['annual_salary'])"
   ]
  },
  {
   "cell_type": "markdown",
   "metadata": {
    "id": "AhnsxJqflIac"
   },
   "source": [
    "Same goes for spouse fees/income."
   ]
  },
  {
   "cell_type": "code",
   "execution_count": 206,
   "metadata": {
    "id": "yHi4fG3alIad"
   },
   "outputs": [],
   "source": [
    "data['spouse_fees/income'] = data['spouse_fees/income'].fillna(data['fees_per_annum']/data['spouse_income'])"
   ]
  },
  {
   "cell_type": "markdown",
   "metadata": {
    "id": "EbYAhQ5flIad"
   },
   "source": [
    "Filling the zeroes for the jobless spouses with zeroes."
   ]
  },
  {
   "cell_type": "code",
   "execution_count": 207,
   "metadata": {
    "id": "gIY_B-MqlIad"
   },
   "outputs": [],
   "source": [
    "data['spouse_income'] = data['spouse_income'].fillna(0)"
   ]
  },
  {
   "cell_type": "code",
   "execution_count": 208,
   "metadata": {
    "colab": {
     "base_uri": "https://localhost:8080/"
    },
    "id": "Xo9qeOaOlIae",
    "outputId": "d11df7ba-3291-47af-b63e-57c14f32f0c3"
   },
   "outputs": [
    {
     "data": {
      "text/plain": [
       "app_id                        False\n",
       "job_name                       True\n",
       "job_exp_yrs                   False\n",
       "address                       False\n",
       "house_type                    False\n",
       "annual_salary                 False\n",
       "salary_verification           False\n",
       "prev_grade_percent            False\n",
       "year                          False\n",
       "fees/income                   False\n",
       "down_pymnt                    False\n",
       "spouse_has_job                False\n",
       "total_balance                 False\n",
       "payment_method                False\n",
       "num_children                  False\n",
       "credit_limit                  False\n",
       "credit_limit_ex_mort          False\n",
       "spouse_income                 False\n",
       "spouse_fees/income             True\n",
       "spouse_income_verification     True\n",
       "decision                      False\n",
       "mental_iv_score               False\n",
       "parent_iv_score               False\n",
       "social_iv_score               False\n",
       "fees_per_annum                False\n",
       "dtype: bool"
      ]
     },
     "execution_count": 208,
     "metadata": {},
     "output_type": "execute_result"
    }
   ],
   "source": [
    "data.isnull().any()"
   ]
  },
  {
   "cell_type": "markdown",
   "metadata": {
    "id": "J3Rh6XKblIae"
   },
   "source": [
    "The only feature with missing values now is spouse_fees/income because some spouses do not have a specified income. When aggregating later, we will deal with this feature."
   ]
  },
  {
   "cell_type": "markdown",
   "metadata": {
    "id": "uVzDuts_lIae"
   },
   "source": [
    "After filling in the missing values, we will now see if some features should be eliminated from the dataset."
   ]
  },
  {
   "cell_type": "markdown",
   "metadata": {
    "id": "88iYF9SrlIae"
   },
   "source": [
    "## **Feature Elimination**"
   ]
  },
  {
   "cell_type": "markdown",
   "metadata": {
    "id": "nE3WTaNBlIae"
   },
   "source": [
    "Eliminated features and the rationale behind the elimination:"
   ]
  },
  {
   "cell_type": "markdown",
   "metadata": {
    "id": "cvA8GbaulIaf"
   },
   "source": [
    "Applicant ID should have no significance on our model so we will remove it.\n",
    "\n",
    "We believe salary and income verifications should have no significance on our model, so we will remove them assuming that all incomes or salaries are to be verified before enrolment of the applicant.\n",
    "\n",
    "Year of application should also be removed since our model should not be affected by the time of the previous applications and also, the model will be used for future applicants where the year of application will have different values in the future.\n",
    "\n",
    "Spouse_has_job, which indicates whether the spouse has a job or not, should be removed. Job details will be left if they exist and will be used in our model but we believe whether the spouse has a job or not should not affect the model.\n",
    "\n",
    "Address will be removed as well because it has 50 unique variables. If address feature will stay, the values will need to be encoded and will generate many new features that will decrease the performance of our model.\n",
    "\n",
    "Down payment also will be removed since it is paid after the decision of enrollment. So, it should not be used to predict the decision.\n",
    "\n",
    "Also, job name should not affect the model, so we will keep other details about the job but we will remove the job name.\n",
    "\n",
    "Finally, we believe payment method should not affect our model so we will remove it as well."
   ]
  },
  {
   "cell_type": "code",
   "execution_count": 209,
   "metadata": {
    "id": "-flR7xYilIaf"
   },
   "outputs": [],
   "source": [
    "data = data.drop(['app_id', 'address', 'salary_verification', 'year', 'job_name', 'spouse_income_verification', 'payment_method', 'spouse_has_job', 'down_pymnt'], axis = 1)"
   ]
  },
  {
   "cell_type": "markdown",
   "metadata": {
    "id": "dQV3cpQm12fZ"
   },
   "source": [
    "Below is the data after the above features were eliminated."
   ]
  },
  {
   "cell_type": "code",
   "execution_count": 210,
   "metadata": {
    "colab": {
     "base_uri": "https://localhost:8080/",
     "height": 478
    },
    "id": "z7AZddEYlIag",
    "outputId": "80b6966c-23d0-478b-8c01-9ab743c873e9",
    "scrolled": true
   },
   "outputs": [
    {
     "data": {
      "text/html": [
       "<div>\n",
       "<style scoped>\n",
       "    .dataframe tbody tr th:only-of-type {\n",
       "        vertical-align: middle;\n",
       "    }\n",
       "\n",
       "    .dataframe tbody tr th {\n",
       "        vertical-align: top;\n",
       "    }\n",
       "\n",
       "    .dataframe thead th {\n",
       "        text-align: right;\n",
       "    }\n",
       "</style>\n",
       "<table border=\"1\" class=\"dataframe\">\n",
       "  <thead>\n",
       "    <tr style=\"text-align: right;\">\n",
       "      <th></th>\n",
       "      <th>job_exp_yrs</th>\n",
       "      <th>house_type</th>\n",
       "      <th>annual_salary</th>\n",
       "      <th>prev_grade_percent</th>\n",
       "      <th>fees/income</th>\n",
       "      <th>total_balance</th>\n",
       "      <th>num_children</th>\n",
       "      <th>credit_limit</th>\n",
       "      <th>credit_limit_ex_mort</th>\n",
       "      <th>spouse_income</th>\n",
       "      <th>spouse_fees/income</th>\n",
       "      <th>decision</th>\n",
       "      <th>mental_iv_score</th>\n",
       "      <th>parent_iv_score</th>\n",
       "      <th>social_iv_score</th>\n",
       "      <th>fees_per_annum</th>\n",
       "    </tr>\n",
       "  </thead>\n",
       "  <tbody>\n",
       "    <tr>\n",
       "      <th>0</th>\n",
       "      <td>1.0</td>\n",
       "      <td>rental</td>\n",
       "      <td>46000.0</td>\n",
       "      <td>92.65</td>\n",
       "      <td>17.48</td>\n",
       "      <td>35198.0</td>\n",
       "      <td>3</td>\n",
       "      <td>68039.0</td>\n",
       "      <td>35198.0</td>\n",
       "      <td>110750.0</td>\n",
       "      <td>27.97</td>\n",
       "      <td>not enrolled</td>\n",
       "      <td>0.087638</td>\n",
       "      <td>8.423544</td>\n",
       "      <td>32.629941</td>\n",
       "      <td>80000.0</td>\n",
       "    </tr>\n",
       "    <tr>\n",
       "      <th>1</th>\n",
       "      <td>1.0</td>\n",
       "      <td>rental</td>\n",
       "      <td>152000.0</td>\n",
       "      <td>93.51</td>\n",
       "      <td>2.39</td>\n",
       "      <td>11704.0</td>\n",
       "      <td>5</td>\n",
       "      <td>24000.0</td>\n",
       "      <td>11704.0</td>\n",
       "      <td>0.0</td>\n",
       "      <td>NaN</td>\n",
       "      <td>enrolled</td>\n",
       "      <td>25.328459</td>\n",
       "      <td>12.940269</td>\n",
       "      <td>21.888056</td>\n",
       "      <td>40000.0</td>\n",
       "    </tr>\n",
       "    <tr>\n",
       "      <th>2</th>\n",
       "      <td>5.0</td>\n",
       "      <td>rental</td>\n",
       "      <td>115000.0</td>\n",
       "      <td>88.47</td>\n",
       "      <td>12.95</td>\n",
       "      <td>41004.0</td>\n",
       "      <td>5</td>\n",
       "      <td>67122.0</td>\n",
       "      <td>41004.0</td>\n",
       "      <td>0.0</td>\n",
       "      <td>NaN</td>\n",
       "      <td>enrolled</td>\n",
       "      <td>7.141356</td>\n",
       "      <td>7.539012</td>\n",
       "      <td>20.730058</td>\n",
       "      <td>20000.0</td>\n",
       "    </tr>\n",
       "    <tr>\n",
       "      <th>3</th>\n",
       "      <td>2.0</td>\n",
       "      <td>rental</td>\n",
       "      <td>25000.0</td>\n",
       "      <td>89.58</td>\n",
       "      <td>9.75</td>\n",
       "      <td>4065.0</td>\n",
       "      <td>2</td>\n",
       "      <td>12000.0</td>\n",
       "      <td>4065.0</td>\n",
       "      <td>0.0</td>\n",
       "      <td>NaN</td>\n",
       "      <td>not enrolled</td>\n",
       "      <td>34.474615</td>\n",
       "      <td>22.732014</td>\n",
       "      <td>1.076913</td>\n",
       "      <td>40000.0</td>\n",
       "    </tr>\n",
       "    <tr>\n",
       "      <th>4</th>\n",
       "      <td>6.0</td>\n",
       "      <td>mortgage</td>\n",
       "      <td>80000.0</td>\n",
       "      <td>78.51</td>\n",
       "      <td>15.17</td>\n",
       "      <td>169079.0</td>\n",
       "      <td>2</td>\n",
       "      <td>211158.0</td>\n",
       "      <td>32595.0</td>\n",
       "      <td>0.0</td>\n",
       "      <td>NaN</td>\n",
       "      <td>enrolled</td>\n",
       "      <td>29.070282</td>\n",
       "      <td>5.226745</td>\n",
       "      <td>13.420388</td>\n",
       "      <td>54900.0</td>\n",
       "    </tr>\n",
       "    <tr>\n",
       "      <th>...</th>\n",
       "      <td>...</td>\n",
       "      <td>...</td>\n",
       "      <td>...</td>\n",
       "      <td>...</td>\n",
       "      <td>...</td>\n",
       "      <td>...</td>\n",
       "      <td>...</td>\n",
       "      <td>...</td>\n",
       "      <td>...</td>\n",
       "      <td>...</td>\n",
       "      <td>...</td>\n",
       "      <td>...</td>\n",
       "      <td>...</td>\n",
       "      <td>...</td>\n",
       "      <td>...</td>\n",
       "      <td>...</td>\n",
       "    </tr>\n",
       "    <tr>\n",
       "      <th>33995</th>\n",
       "      <td>5.0</td>\n",
       "      <td>rental</td>\n",
       "      <td>105000.0</td>\n",
       "      <td>91.82</td>\n",
       "      <td>11.71</td>\n",
       "      <td>28742.0</td>\n",
       "      <td>2</td>\n",
       "      <td>60500.0</td>\n",
       "      <td>28742.0</td>\n",
       "      <td>0.0</td>\n",
       "      <td>NaN</td>\n",
       "      <td>enrolled</td>\n",
       "      <td>16.907394</td>\n",
       "      <td>64.581258</td>\n",
       "      <td>1.609207</td>\n",
       "      <td>40000.0</td>\n",
       "    </tr>\n",
       "    <tr>\n",
       "      <th>33996</th>\n",
       "      <td>3.0</td>\n",
       "      <td>mortgage</td>\n",
       "      <td>118299.0</td>\n",
       "      <td>85.52</td>\n",
       "      <td>13.28</td>\n",
       "      <td>330413.0</td>\n",
       "      <td>2</td>\n",
       "      <td>470072.0</td>\n",
       "      <td>69265.0</td>\n",
       "      <td>0.0</td>\n",
       "      <td>NaN</td>\n",
       "      <td>enrolled</td>\n",
       "      <td>65.635700</td>\n",
       "      <td>24.085703</td>\n",
       "      <td>0.278597</td>\n",
       "      <td>24000.0</td>\n",
       "    </tr>\n",
       "    <tr>\n",
       "      <th>33997</th>\n",
       "      <td>6.0</td>\n",
       "      <td>mortgage</td>\n",
       "      <td>56000.0</td>\n",
       "      <td>85.01</td>\n",
       "      <td>18.88</td>\n",
       "      <td>223575.0</td>\n",
       "      <td>4</td>\n",
       "      <td>279870.0</td>\n",
       "      <td>38038.0</td>\n",
       "      <td>0.0</td>\n",
       "      <td>NaN</td>\n",
       "      <td>enrolled</td>\n",
       "      <td>27.466363</td>\n",
       "      <td>46.752626</td>\n",
       "      <td>15.781011</td>\n",
       "      <td>24000.0</td>\n",
       "    </tr>\n",
       "    <tr>\n",
       "      <th>33998</th>\n",
       "      <td>2.0</td>\n",
       "      <td>mortgage</td>\n",
       "      <td>107100.0</td>\n",
       "      <td>85.01</td>\n",
       "      <td>3.61</td>\n",
       "      <td>178179.0</td>\n",
       "      <td>4</td>\n",
       "      <td>287972.0</td>\n",
       "      <td>17905.0</td>\n",
       "      <td>0.0</td>\n",
       "      <td>NaN</td>\n",
       "      <td>enrolled</td>\n",
       "      <td>24.455919</td>\n",
       "      <td>3.753729</td>\n",
       "      <td>47.290821</td>\n",
       "      <td>70000.0</td>\n",
       "    </tr>\n",
       "    <tr>\n",
       "      <th>33999</th>\n",
       "      <td>1.0</td>\n",
       "      <td>mortgage</td>\n",
       "      <td>125000.0</td>\n",
       "      <td>92.93</td>\n",
       "      <td>6.56</td>\n",
       "      <td>374885.0</td>\n",
       "      <td>5</td>\n",
       "      <td>432200.0</td>\n",
       "      <td>40925.0</td>\n",
       "      <td>0.0</td>\n",
       "      <td>NaN</td>\n",
       "      <td>enrolled</td>\n",
       "      <td>42.800443</td>\n",
       "      <td>17.023625</td>\n",
       "      <td>25.215754</td>\n",
       "      <td>80000.0</td>\n",
       "    </tr>\n",
       "  </tbody>\n",
       "</table>\n",
       "<p>33993 rows × 16 columns</p>\n",
       "</div>"
      ],
      "text/plain": [
       "       job_exp_yrs house_type  annual_salary  prev_grade_percent  fees/income  \\\n",
       "0              1.0     rental        46000.0               92.65        17.48   \n",
       "1              1.0     rental       152000.0               93.51         2.39   \n",
       "2              5.0     rental       115000.0               88.47        12.95   \n",
       "3              2.0     rental        25000.0               89.58         9.75   \n",
       "4              6.0   mortgage        80000.0               78.51        15.17   \n",
       "...            ...        ...            ...                 ...          ...   \n",
       "33995          5.0     rental       105000.0               91.82        11.71   \n",
       "33996          3.0   mortgage       118299.0               85.52        13.28   \n",
       "33997          6.0   mortgage        56000.0               85.01        18.88   \n",
       "33998          2.0   mortgage       107100.0               85.01         3.61   \n",
       "33999          1.0   mortgage       125000.0               92.93         6.56   \n",
       "\n",
       "       total_balance  num_children  credit_limit  credit_limit_ex_mort  \\\n",
       "0            35198.0             3       68039.0               35198.0   \n",
       "1            11704.0             5       24000.0               11704.0   \n",
       "2            41004.0             5       67122.0               41004.0   \n",
       "3             4065.0             2       12000.0                4065.0   \n",
       "4           169079.0             2      211158.0               32595.0   \n",
       "...              ...           ...           ...                   ...   \n",
       "33995        28742.0             2       60500.0               28742.0   \n",
       "33996       330413.0             2      470072.0               69265.0   \n",
       "33997       223575.0             4      279870.0               38038.0   \n",
       "33998       178179.0             4      287972.0               17905.0   \n",
       "33999       374885.0             5      432200.0               40925.0   \n",
       "\n",
       "       spouse_income  spouse_fees/income      decision  mental_iv_score  \\\n",
       "0           110750.0               27.97  not enrolled         0.087638   \n",
       "1                0.0                 NaN      enrolled        25.328459   \n",
       "2                0.0                 NaN      enrolled         7.141356   \n",
       "3                0.0                 NaN  not enrolled        34.474615   \n",
       "4                0.0                 NaN      enrolled        29.070282   \n",
       "...              ...                 ...           ...              ...   \n",
       "33995            0.0                 NaN      enrolled        16.907394   \n",
       "33996            0.0                 NaN      enrolled        65.635700   \n",
       "33997            0.0                 NaN      enrolled        27.466363   \n",
       "33998            0.0                 NaN      enrolled        24.455919   \n",
       "33999            0.0                 NaN      enrolled        42.800443   \n",
       "\n",
       "       parent_iv_score  social_iv_score  fees_per_annum  \n",
       "0             8.423544        32.629941         80000.0  \n",
       "1            12.940269        21.888056         40000.0  \n",
       "2             7.539012        20.730058         20000.0  \n",
       "3            22.732014         1.076913         40000.0  \n",
       "4             5.226745        13.420388         54900.0  \n",
       "...                ...              ...             ...  \n",
       "33995        64.581258         1.609207         40000.0  \n",
       "33996        24.085703         0.278597         24000.0  \n",
       "33997        46.752626        15.781011         24000.0  \n",
       "33998         3.753729        47.290821         70000.0  \n",
       "33999        17.023625        25.215754         80000.0  \n",
       "\n",
       "[33993 rows x 16 columns]"
      ]
     },
     "execution_count": 210,
     "metadata": {},
     "output_type": "execute_result"
    }
   ],
   "source": [
    "data"
   ]
  },
  {
   "cell_type": "markdown",
   "metadata": {
    "id": "8EHIn1TE2JFS"
   },
   "source": [
    "## **Further Exploration and Feature Engineering**"
   ]
  },
  {
   "cell_type": "code",
   "execution_count": 211,
   "metadata": {
    "colab": {
     "base_uri": "https://localhost:8080/",
     "height": 896
    },
    "id": "VwhnmoG9lIag",
    "outputId": "0da412ef-0598-4c05-ee7b-5737ee5a7342"
   },
   "outputs": [
    {
     "data": {
      "text/html": [
       "<div>\n",
       "<style scoped>\n",
       "    .dataframe tbody tr th:only-of-type {\n",
       "        vertical-align: middle;\n",
       "    }\n",
       "\n",
       "    .dataframe tbody tr th {\n",
       "        vertical-align: top;\n",
       "    }\n",
       "\n",
       "    .dataframe thead th {\n",
       "        text-align: right;\n",
       "    }\n",
       "</style>\n",
       "<table border=\"1\" class=\"dataframe\">\n",
       "  <thead>\n",
       "    <tr style=\"text-align: right;\">\n",
       "      <th></th>\n",
       "      <th>fees/income</th>\n",
       "      <th>decision</th>\n",
       "      <th>annual_salary</th>\n",
       "      <th>spouse_fees/income</th>\n",
       "      <th>spouse_income</th>\n",
       "      <th>fees_per_annum</th>\n",
       "    </tr>\n",
       "  </thead>\n",
       "  <tbody>\n",
       "    <tr>\n",
       "      <th>349</th>\n",
       "      <td>345.42</td>\n",
       "      <td>enrolled</td>\n",
       "      <td>6292.0</td>\n",
       "      <td>24.07</td>\n",
       "      <td>141292.0</td>\n",
       "      <td>64000.0</td>\n",
       "    </tr>\n",
       "    <tr>\n",
       "      <th>872</th>\n",
       "      <td>220.91</td>\n",
       "      <td>not enrolled</td>\n",
       "      <td>5000.0</td>\n",
       "      <td>12.39</td>\n",
       "      <td>89000.0</td>\n",
       "      <td>40000.0</td>\n",
       "    </tr>\n",
       "    <tr>\n",
       "      <th>1744</th>\n",
       "      <td>170.12</td>\n",
       "      <td>enrolled</td>\n",
       "      <td>8000.0</td>\n",
       "      <td>15.48</td>\n",
       "      <td>98000.0</td>\n",
       "      <td>21000.0</td>\n",
       "    </tr>\n",
       "    <tr>\n",
       "      <th>5636</th>\n",
       "      <td>115.01</td>\n",
       "      <td>enrolled</td>\n",
       "      <td>10000.0</td>\n",
       "      <td>17.01</td>\n",
       "      <td>115000.0</td>\n",
       "      <td>24000.0</td>\n",
       "    </tr>\n",
       "    <tr>\n",
       "      <th>5859</th>\n",
       "      <td>105.60</td>\n",
       "      <td>not enrolled</td>\n",
       "      <td>12000.0</td>\n",
       "      <td>37.16</td>\n",
       "      <td>107000.0</td>\n",
       "      <td>20400.0</td>\n",
       "    </tr>\n",
       "    <tr>\n",
       "      <th>7408</th>\n",
       "      <td>131.35</td>\n",
       "      <td>not enrolled</td>\n",
       "      <td>5000.0</td>\n",
       "      <td>20.85</td>\n",
       "      <td>285000.0</td>\n",
       "      <td>50000.0</td>\n",
       "    </tr>\n",
       "    <tr>\n",
       "      <th>8147</th>\n",
       "      <td>107.96</td>\n",
       "      <td>enrolled</td>\n",
       "      <td>36000.0</td>\n",
       "      <td>18.61</td>\n",
       "      <td>306000.0</td>\n",
       "      <td>40000.0</td>\n",
       "    </tr>\n",
       "    <tr>\n",
       "      <th>8930</th>\n",
       "      <td>124.36</td>\n",
       "      <td>not enrolled</td>\n",
       "      <td>17000.0</td>\n",
       "      <td>27.44</td>\n",
       "      <td>77000.0</td>\n",
       "      <td>45350.0</td>\n",
       "    </tr>\n",
       "    <tr>\n",
       "      <th>9487</th>\n",
       "      <td>146.33</td>\n",
       "      <td>enrolled</td>\n",
       "      <td>16500.0</td>\n",
       "      <td>27.75</td>\n",
       "      <td>136500.0</td>\n",
       "      <td>37000.0</td>\n",
       "    </tr>\n",
       "    <tr>\n",
       "      <th>9627</th>\n",
       "      <td>inf</td>\n",
       "      <td>enrolled</td>\n",
       "      <td>0.0</td>\n",
       "      <td>4.45</td>\n",
       "      <td>112500.0</td>\n",
       "      <td>56000.0</td>\n",
       "    </tr>\n",
       "    <tr>\n",
       "      <th>14860</th>\n",
       "      <td>185.81</td>\n",
       "      <td>enrolled</td>\n",
       "      <td>5500.0</td>\n",
       "      <td>9.25</td>\n",
       "      <td>166000.0</td>\n",
       "      <td>28000.0</td>\n",
       "    </tr>\n",
       "    <tr>\n",
       "      <th>16050</th>\n",
       "      <td>167.06</td>\n",
       "      <td>enrolled</td>\n",
       "      <td>20000.0</td>\n",
       "      <td>12.48</td>\n",
       "      <td>642000.0</td>\n",
       "      <td>21000.0</td>\n",
       "    </tr>\n",
       "    <tr>\n",
       "      <th>21087</th>\n",
       "      <td>109.76</td>\n",
       "      <td>not enrolled</td>\n",
       "      <td>20400.0</td>\n",
       "      <td>26.82</td>\n",
       "      <td>83500.0</td>\n",
       "      <td>20000.0</td>\n",
       "    </tr>\n",
       "    <tr>\n",
       "      <th>21243</th>\n",
       "      <td>112.33</td>\n",
       "      <td>enrolled</td>\n",
       "      <td>27500.0</td>\n",
       "      <td>28.62</td>\n",
       "      <td>267500.0</td>\n",
       "      <td>68950.0</td>\n",
       "    </tr>\n",
       "    <tr>\n",
       "      <th>21286</th>\n",
       "      <td>40000.00</td>\n",
       "      <td>enrolled</td>\n",
       "      <td>1.0</td>\n",
       "      <td>9.17</td>\n",
       "      <td>100001.0</td>\n",
       "      <td>40000.0</td>\n",
       "    </tr>\n",
       "    <tr>\n",
       "      <th>21761</th>\n",
       "      <td>inf</td>\n",
       "      <td>not enrolled</td>\n",
       "      <td>0.0</td>\n",
       "      <td>19.62</td>\n",
       "      <td>85000.0</td>\n",
       "      <td>51700.0</td>\n",
       "    </tr>\n",
       "    <tr>\n",
       "      <th>22142</th>\n",
       "      <td>740.96</td>\n",
       "      <td>enrolled</td>\n",
       "      <td>1000.0</td>\n",
       "      <td>12.28</td>\n",
       "      <td>121000.0</td>\n",
       "      <td>20000.0</td>\n",
       "    </tr>\n",
       "    <tr>\n",
       "      <th>23483</th>\n",
       "      <td>214.43</td>\n",
       "      <td>enrolled</td>\n",
       "      <td>8400.0</td>\n",
       "      <td>25.16</td>\n",
       "      <td>80400.0</td>\n",
       "      <td>43850.0</td>\n",
       "    </tr>\n",
       "    <tr>\n",
       "      <th>23738</th>\n",
       "      <td>222.95</td>\n",
       "      <td>not enrolled</td>\n",
       "      <td>7904.0</td>\n",
       "      <td>29.20</td>\n",
       "      <td>108669.0</td>\n",
       "      <td>21000.0</td>\n",
       "    </tr>\n",
       "    <tr>\n",
       "      <th>24489</th>\n",
       "      <td>307.75</td>\n",
       "      <td>enrolled</td>\n",
       "      <td>3412.0</td>\n",
       "      <td>18.43</td>\n",
       "      <td>70882.0</td>\n",
       "      <td>65200.0</td>\n",
       "    </tr>\n",
       "    <tr>\n",
       "      <th>24490</th>\n",
       "      <td>190.87</td>\n",
       "      <td>enrolled</td>\n",
       "      <td>2500.0</td>\n",
       "      <td>10.51</td>\n",
       "      <td>332500.0</td>\n",
       "      <td>60000.0</td>\n",
       "    </tr>\n",
       "    <tr>\n",
       "      <th>25555</th>\n",
       "      <td>157.14</td>\n",
       "      <td>enrolled</td>\n",
       "      <td>5000.0</td>\n",
       "      <td>15.49</td>\n",
       "      <td>265000.0</td>\n",
       "      <td>51250.0</td>\n",
       "    </tr>\n",
       "    <tr>\n",
       "      <th>25608</th>\n",
       "      <td>215.88</td>\n",
       "      <td>enrolled</td>\n",
       "      <td>10000.0</td>\n",
       "      <td>18.07</td>\n",
       "      <td>141250.0</td>\n",
       "      <td>56000.0</td>\n",
       "    </tr>\n",
       "    <tr>\n",
       "      <th>25692</th>\n",
       "      <td>149.10</td>\n",
       "      <td>enrolled</td>\n",
       "      <td>10000.0</td>\n",
       "      <td>22.12</td>\n",
       "      <td>84500.0</td>\n",
       "      <td>24000.0</td>\n",
       "    </tr>\n",
       "    <tr>\n",
       "      <th>27993</th>\n",
       "      <td>117.67</td>\n",
       "      <td>not enrolled</td>\n",
       "      <td>18000.0</td>\n",
       "      <td>23.31</td>\n",
       "      <td>138000.0</td>\n",
       "      <td>70000.0</td>\n",
       "    </tr>\n",
       "    <tr>\n",
       "      <th>29046</th>\n",
       "      <td>260.24</td>\n",
       "      <td>enrolled</td>\n",
       "      <td>2000.0</td>\n",
       "      <td>5.34</td>\n",
       "      <td>552000.0</td>\n",
       "      <td>35000.0</td>\n",
       "    </tr>\n",
       "    <tr>\n",
       "      <th>29114</th>\n",
       "      <td>248.50</td>\n",
       "      <td>enrolled</td>\n",
       "      <td>10000.0</td>\n",
       "      <td>22.96</td>\n",
       "      <td>110000.0</td>\n",
       "      <td>35000.0</td>\n",
       "    </tr>\n",
       "  </tbody>\n",
       "</table>\n",
       "</div>"
      ],
      "text/plain": [
       "       fees/income      decision  annual_salary  spouse_fees/income  \\\n",
       "349         345.42      enrolled         6292.0               24.07   \n",
       "872         220.91  not enrolled         5000.0               12.39   \n",
       "1744        170.12      enrolled         8000.0               15.48   \n",
       "5636        115.01      enrolled        10000.0               17.01   \n",
       "5859        105.60  not enrolled        12000.0               37.16   \n",
       "7408        131.35  not enrolled         5000.0               20.85   \n",
       "8147        107.96      enrolled        36000.0               18.61   \n",
       "8930        124.36  not enrolled        17000.0               27.44   \n",
       "9487        146.33      enrolled        16500.0               27.75   \n",
       "9627           inf      enrolled            0.0                4.45   \n",
       "14860       185.81      enrolled         5500.0                9.25   \n",
       "16050       167.06      enrolled        20000.0               12.48   \n",
       "21087       109.76  not enrolled        20400.0               26.82   \n",
       "21243       112.33      enrolled        27500.0               28.62   \n",
       "21286     40000.00      enrolled            1.0                9.17   \n",
       "21761          inf  not enrolled            0.0               19.62   \n",
       "22142       740.96      enrolled         1000.0               12.28   \n",
       "23483       214.43      enrolled         8400.0               25.16   \n",
       "23738       222.95  not enrolled         7904.0               29.20   \n",
       "24489       307.75      enrolled         3412.0               18.43   \n",
       "24490       190.87      enrolled         2500.0               10.51   \n",
       "25555       157.14      enrolled         5000.0               15.49   \n",
       "25608       215.88      enrolled        10000.0               18.07   \n",
       "25692       149.10      enrolled        10000.0               22.12   \n",
       "27993       117.67  not enrolled        18000.0               23.31   \n",
       "29046       260.24      enrolled         2000.0                5.34   \n",
       "29114       248.50      enrolled        10000.0               22.96   \n",
       "\n",
       "       spouse_income  fees_per_annum  \n",
       "349         141292.0         64000.0  \n",
       "872          89000.0         40000.0  \n",
       "1744         98000.0         21000.0  \n",
       "5636        115000.0         24000.0  \n",
       "5859        107000.0         20400.0  \n",
       "7408        285000.0         50000.0  \n",
       "8147        306000.0         40000.0  \n",
       "8930         77000.0         45350.0  \n",
       "9487        136500.0         37000.0  \n",
       "9627        112500.0         56000.0  \n",
       "14860       166000.0         28000.0  \n",
       "16050       642000.0         21000.0  \n",
       "21087        83500.0         20000.0  \n",
       "21243       267500.0         68950.0  \n",
       "21286       100001.0         40000.0  \n",
       "21761        85000.0         51700.0  \n",
       "22142       121000.0         20000.0  \n",
       "23483        80400.0         43850.0  \n",
       "23738       108669.0         21000.0  \n",
       "24489        70882.0         65200.0  \n",
       "24490       332500.0         60000.0  \n",
       "25555       265000.0         51250.0  \n",
       "25608       141250.0         56000.0  \n",
       "25692        84500.0         24000.0  \n",
       "27993       138000.0         70000.0  \n",
       "29046       552000.0         35000.0  \n",
       "29114       110000.0         35000.0  "
      ]
     },
     "execution_count": 211,
     "metadata": {},
     "output_type": "execute_result"
    }
   ],
   "source": [
    "data.loc[(data['fees/income'] > 100)][['fees/income', 'decision', 'annual_salary', 'spouse_fees/income', 'spouse_income', 'fees_per_annum']]"
   ]
  },
  {
   "cell_type": "markdown",
   "metadata": {
    "id": "zcrUt5q6lIah"
   },
   "source": [
    "As you can see, when the applicant's fees/income is very high (>100), their spouse always has a job and has a good salary & low fees/income ratio. Therefore, we can combine both the applicant & their spouse income to simplify the total household income. "
   ]
  },
  {
   "cell_type": "markdown",
   "metadata": {
    "id": "_cODPVEJlIah"
   },
   "source": [
    "We will aggregate both parents' incomes and ratios for to have simplified aggregated features. We will add both incomes/salaries and calculate the new (fees/household_income) ratio.\n",
    "\n",
    "We tried verifying the fees/ratio for both parents but the results in the dataset were not the same results that we got from our calculations. We believe this can be due to some non reported income sources or due to parents having other sources of income other than their salaries, like bank interests, private businesses, etc."
   ]
  },
  {
   "cell_type": "code",
   "execution_count": 212,
   "metadata": {
    "colab": {
     "base_uri": "https://localhost:8080/",
     "height": 478
    },
    "id": "dwF89jBslIah",
    "outputId": "0e6de21b-4529-454c-ab3d-67544cf235d0"
   },
   "outputs": [
    {
     "data": {
      "text/html": [
       "<div>\n",
       "<style scoped>\n",
       "    .dataframe tbody tr th:only-of-type {\n",
       "        vertical-align: middle;\n",
       "    }\n",
       "\n",
       "    .dataframe tbody tr th {\n",
       "        vertical-align: top;\n",
       "    }\n",
       "\n",
       "    .dataframe thead th {\n",
       "        text-align: right;\n",
       "    }\n",
       "</style>\n",
       "<table border=\"1\" class=\"dataframe\">\n",
       "  <thead>\n",
       "    <tr style=\"text-align: right;\">\n",
       "      <th></th>\n",
       "      <th>job_exp_yrs</th>\n",
       "      <th>house_type</th>\n",
       "      <th>prev_grade_percent</th>\n",
       "      <th>total_balance</th>\n",
       "      <th>num_children</th>\n",
       "      <th>credit_limit</th>\n",
       "      <th>credit_limit_ex_mort</th>\n",
       "      <th>decision</th>\n",
       "      <th>mental_iv_score</th>\n",
       "      <th>parent_iv_score</th>\n",
       "      <th>social_iv_score</th>\n",
       "      <th>fees_per_annum</th>\n",
       "      <th>household_income</th>\n",
       "      <th>fees/household_income</th>\n",
       "    </tr>\n",
       "  </thead>\n",
       "  <tbody>\n",
       "    <tr>\n",
       "      <th>0</th>\n",
       "      <td>1.0</td>\n",
       "      <td>rental</td>\n",
       "      <td>92.65</td>\n",
       "      <td>35198.0</td>\n",
       "      <td>3</td>\n",
       "      <td>68039.0</td>\n",
       "      <td>35198.0</td>\n",
       "      <td>not enrolled</td>\n",
       "      <td>0.087638</td>\n",
       "      <td>8.423544</td>\n",
       "      <td>32.629941</td>\n",
       "      <td>80000.0</td>\n",
       "      <td>156750.0</td>\n",
       "      <td>10.757219</td>\n",
       "    </tr>\n",
       "    <tr>\n",
       "      <th>1</th>\n",
       "      <td>1.0</td>\n",
       "      <td>rental</td>\n",
       "      <td>93.51</td>\n",
       "      <td>11704.0</td>\n",
       "      <td>5</td>\n",
       "      <td>24000.0</td>\n",
       "      <td>11704.0</td>\n",
       "      <td>enrolled</td>\n",
       "      <td>25.328459</td>\n",
       "      <td>12.940269</td>\n",
       "      <td>21.888056</td>\n",
       "      <td>40000.0</td>\n",
       "      <td>152000.0</td>\n",
       "      <td>2.390000</td>\n",
       "    </tr>\n",
       "    <tr>\n",
       "      <th>2</th>\n",
       "      <td>5.0</td>\n",
       "      <td>rental</td>\n",
       "      <td>88.47</td>\n",
       "      <td>41004.0</td>\n",
       "      <td>5</td>\n",
       "      <td>67122.0</td>\n",
       "      <td>41004.0</td>\n",
       "      <td>enrolled</td>\n",
       "      <td>7.141356</td>\n",
       "      <td>7.539012</td>\n",
       "      <td>20.730058</td>\n",
       "      <td>20000.0</td>\n",
       "      <td>115000.0</td>\n",
       "      <td>12.950000</td>\n",
       "    </tr>\n",
       "    <tr>\n",
       "      <th>3</th>\n",
       "      <td>2.0</td>\n",
       "      <td>rental</td>\n",
       "      <td>89.58</td>\n",
       "      <td>4065.0</td>\n",
       "      <td>2</td>\n",
       "      <td>12000.0</td>\n",
       "      <td>4065.0</td>\n",
       "      <td>not enrolled</td>\n",
       "      <td>34.474615</td>\n",
       "      <td>22.732014</td>\n",
       "      <td>1.076913</td>\n",
       "      <td>40000.0</td>\n",
       "      <td>25000.0</td>\n",
       "      <td>9.750000</td>\n",
       "    </tr>\n",
       "    <tr>\n",
       "      <th>4</th>\n",
       "      <td>6.0</td>\n",
       "      <td>mortgage</td>\n",
       "      <td>78.51</td>\n",
       "      <td>169079.0</td>\n",
       "      <td>2</td>\n",
       "      <td>211158.0</td>\n",
       "      <td>32595.0</td>\n",
       "      <td>enrolled</td>\n",
       "      <td>29.070282</td>\n",
       "      <td>5.226745</td>\n",
       "      <td>13.420388</td>\n",
       "      <td>54900.0</td>\n",
       "      <td>80000.0</td>\n",
       "      <td>15.170000</td>\n",
       "    </tr>\n",
       "    <tr>\n",
       "      <th>...</th>\n",
       "      <td>...</td>\n",
       "      <td>...</td>\n",
       "      <td>...</td>\n",
       "      <td>...</td>\n",
       "      <td>...</td>\n",
       "      <td>...</td>\n",
       "      <td>...</td>\n",
       "      <td>...</td>\n",
       "      <td>...</td>\n",
       "      <td>...</td>\n",
       "      <td>...</td>\n",
       "      <td>...</td>\n",
       "      <td>...</td>\n",
       "      <td>...</td>\n",
       "    </tr>\n",
       "    <tr>\n",
       "      <th>33995</th>\n",
       "      <td>5.0</td>\n",
       "      <td>rental</td>\n",
       "      <td>91.82</td>\n",
       "      <td>28742.0</td>\n",
       "      <td>2</td>\n",
       "      <td>60500.0</td>\n",
       "      <td>28742.0</td>\n",
       "      <td>enrolled</td>\n",
       "      <td>16.907394</td>\n",
       "      <td>64.581258</td>\n",
       "      <td>1.609207</td>\n",
       "      <td>40000.0</td>\n",
       "      <td>105000.0</td>\n",
       "      <td>11.710000</td>\n",
       "    </tr>\n",
       "    <tr>\n",
       "      <th>33996</th>\n",
       "      <td>3.0</td>\n",
       "      <td>mortgage</td>\n",
       "      <td>85.52</td>\n",
       "      <td>330413.0</td>\n",
       "      <td>2</td>\n",
       "      <td>470072.0</td>\n",
       "      <td>69265.0</td>\n",
       "      <td>enrolled</td>\n",
       "      <td>65.635700</td>\n",
       "      <td>24.085703</td>\n",
       "      <td>0.278597</td>\n",
       "      <td>24000.0</td>\n",
       "      <td>118299.0</td>\n",
       "      <td>13.280000</td>\n",
       "    </tr>\n",
       "    <tr>\n",
       "      <th>33997</th>\n",
       "      <td>6.0</td>\n",
       "      <td>mortgage</td>\n",
       "      <td>85.01</td>\n",
       "      <td>223575.0</td>\n",
       "      <td>4</td>\n",
       "      <td>279870.0</td>\n",
       "      <td>38038.0</td>\n",
       "      <td>enrolled</td>\n",
       "      <td>27.466363</td>\n",
       "      <td>46.752626</td>\n",
       "      <td>15.781011</td>\n",
       "      <td>24000.0</td>\n",
       "      <td>56000.0</td>\n",
       "      <td>18.880000</td>\n",
       "    </tr>\n",
       "    <tr>\n",
       "      <th>33998</th>\n",
       "      <td>2.0</td>\n",
       "      <td>mortgage</td>\n",
       "      <td>85.01</td>\n",
       "      <td>178179.0</td>\n",
       "      <td>4</td>\n",
       "      <td>287972.0</td>\n",
       "      <td>17905.0</td>\n",
       "      <td>enrolled</td>\n",
       "      <td>24.455919</td>\n",
       "      <td>3.753729</td>\n",
       "      <td>47.290821</td>\n",
       "      <td>70000.0</td>\n",
       "      <td>107100.0</td>\n",
       "      <td>3.610000</td>\n",
       "    </tr>\n",
       "    <tr>\n",
       "      <th>33999</th>\n",
       "      <td>1.0</td>\n",
       "      <td>mortgage</td>\n",
       "      <td>92.93</td>\n",
       "      <td>374885.0</td>\n",
       "      <td>5</td>\n",
       "      <td>432200.0</td>\n",
       "      <td>40925.0</td>\n",
       "      <td>enrolled</td>\n",
       "      <td>42.800443</td>\n",
       "      <td>17.023625</td>\n",
       "      <td>25.215754</td>\n",
       "      <td>80000.0</td>\n",
       "      <td>125000.0</td>\n",
       "      <td>6.560000</td>\n",
       "    </tr>\n",
       "  </tbody>\n",
       "</table>\n",
       "<p>33993 rows × 14 columns</p>\n",
       "</div>"
      ],
      "text/plain": [
       "       job_exp_yrs house_type  prev_grade_percent  total_balance  \\\n",
       "0              1.0     rental               92.65        35198.0   \n",
       "1              1.0     rental               93.51        11704.0   \n",
       "2              5.0     rental               88.47        41004.0   \n",
       "3              2.0     rental               89.58         4065.0   \n",
       "4              6.0   mortgage               78.51       169079.0   \n",
       "...            ...        ...                 ...            ...   \n",
       "33995          5.0     rental               91.82        28742.0   \n",
       "33996          3.0   mortgage               85.52       330413.0   \n",
       "33997          6.0   mortgage               85.01       223575.0   \n",
       "33998          2.0   mortgage               85.01       178179.0   \n",
       "33999          1.0   mortgage               92.93       374885.0   \n",
       "\n",
       "       num_children  credit_limit  credit_limit_ex_mort      decision  \\\n",
       "0                 3       68039.0               35198.0  not enrolled   \n",
       "1                 5       24000.0               11704.0      enrolled   \n",
       "2                 5       67122.0               41004.0      enrolled   \n",
       "3                 2       12000.0                4065.0  not enrolled   \n",
       "4                 2      211158.0               32595.0      enrolled   \n",
       "...             ...           ...                   ...           ...   \n",
       "33995             2       60500.0               28742.0      enrolled   \n",
       "33996             2      470072.0               69265.0      enrolled   \n",
       "33997             4      279870.0               38038.0      enrolled   \n",
       "33998             4      287972.0               17905.0      enrolled   \n",
       "33999             5      432200.0               40925.0      enrolled   \n",
       "\n",
       "       mental_iv_score  parent_iv_score  social_iv_score  fees_per_annum  \\\n",
       "0             0.087638         8.423544        32.629941         80000.0   \n",
       "1            25.328459        12.940269        21.888056         40000.0   \n",
       "2             7.141356         7.539012        20.730058         20000.0   \n",
       "3            34.474615        22.732014         1.076913         40000.0   \n",
       "4            29.070282         5.226745        13.420388         54900.0   \n",
       "...                ...              ...              ...             ...   \n",
       "33995        16.907394        64.581258         1.609207         40000.0   \n",
       "33996        65.635700        24.085703         0.278597         24000.0   \n",
       "33997        27.466363        46.752626        15.781011         24000.0   \n",
       "33998        24.455919         3.753729        47.290821         70000.0   \n",
       "33999        42.800443        17.023625        25.215754         80000.0   \n",
       "\n",
       "       household_income  fees/household_income  \n",
       "0              156750.0              10.757219  \n",
       "1              152000.0               2.390000  \n",
       "2              115000.0              12.950000  \n",
       "3               25000.0               9.750000  \n",
       "4               80000.0              15.170000  \n",
       "...                 ...                    ...  \n",
       "33995          105000.0              11.710000  \n",
       "33996          118299.0              13.280000  \n",
       "33997           56000.0              18.880000  \n",
       "33998          107100.0               3.610000  \n",
       "33999          125000.0               6.560000  \n",
       "\n",
       "[33993 rows x 14 columns]"
      ]
     },
     "execution_count": 212,
     "metadata": {},
     "output_type": "execute_result"
    }
   ],
   "source": [
    "data['household_income'] = data['annual_salary'] + data['spouse_income']\n",
    "data = data.drop(['annual_salary', 'spouse_income'], axis= 1)\n",
    "data['fees/household_income'] = 1/(1/data['fees/income'] + 1/data['spouse_fees/income'])\n",
    "data['fees/household_income'] = data['fees/household_income'].fillna(data['fees/income'])\n",
    "data = data.drop(['fees/income', 'spouse_fees/income'], axis= 1)\n",
    "data"
   ]
  },
  {
   "cell_type": "markdown",
   "metadata": {
    "id": "chszqAA2lIai"
   },
   "source": [
    "Now, to be able to perform the correlation analysis, we will use one hot encoding to transform the categorical variables into numeric variables."
   ]
  },
  {
   "cell_type": "code",
   "execution_count": 213,
   "metadata": {
    "colab": {
     "base_uri": "https://localhost:8080/"
    },
    "id": "Wr9-H7jalIai",
    "outputId": "b01d130a-7de5-47a2-c460-91f715284e0b"
   },
   "outputs": [
    {
     "data": {
      "text/plain": [
       "job_exp_yrs                  9\n",
       "house_type                   3\n",
       "prev_grade_percent         350\n",
       "total_balance            31406\n",
       "num_children                 6\n",
       "credit_limit             28631\n",
       "credit_limit_ex_mort     27509\n",
       "decision                     2\n",
       "mental_iv_score          33993\n",
       "parent_iv_score          33993\n",
       "social_iv_score          33993\n",
       "fees_per_annum            1137\n",
       "household_income          3004\n",
       "fees/household_income     4888\n",
       "dtype: int64"
      ]
     },
     "execution_count": 213,
     "metadata": {},
     "output_type": "execute_result"
    }
   ],
   "source": [
    "data.nunique()"
   ]
  },
  {
   "cell_type": "markdown",
   "metadata": {
    "id": "81Au5fYUlIaj"
   },
   "source": [
    "House type and decision are the two categorical variables that we will need to transform. House type has 3 unique values while decision has 2 unique values. Therefore, house type will be encoded into two variables, rental and mortgage, while decision will be encoded into one variable, enrolled."
   ]
  },
  {
   "cell_type": "code",
   "execution_count": 214,
   "metadata": {
    "colab": {
     "base_uri": "https://localhost:8080/",
     "height": 444
    },
    "id": "nJ0GmW8QlIaj",
    "outputId": "5b83abea-7376-43ef-da92-e6b83614461c"
   },
   "outputs": [
    {
     "data": {
      "text/html": [
       "<div>\n",
       "<style scoped>\n",
       "    .dataframe tbody tr th:only-of-type {\n",
       "        vertical-align: middle;\n",
       "    }\n",
       "\n",
       "    .dataframe tbody tr th {\n",
       "        vertical-align: top;\n",
       "    }\n",
       "\n",
       "    .dataframe thead th {\n",
       "        text-align: right;\n",
       "    }\n",
       "</style>\n",
       "<table border=\"1\" class=\"dataframe\">\n",
       "  <thead>\n",
       "    <tr style=\"text-align: right;\">\n",
       "      <th></th>\n",
       "      <th>job_exp_yrs</th>\n",
       "      <th>prev_grade_percent</th>\n",
       "      <th>total_balance</th>\n",
       "      <th>num_children</th>\n",
       "      <th>credit_limit</th>\n",
       "      <th>credit_limit_ex_mort</th>\n",
       "      <th>mental_iv_score</th>\n",
       "      <th>parent_iv_score</th>\n",
       "      <th>social_iv_score</th>\n",
       "      <th>fees_per_annum</th>\n",
       "      <th>household_income</th>\n",
       "      <th>fees/household_income</th>\n",
       "      <th>rental</th>\n",
       "      <th>mortgage</th>\n",
       "      <th>enrolled</th>\n",
       "    </tr>\n",
       "  </thead>\n",
       "  <tbody>\n",
       "    <tr>\n",
       "      <th>0</th>\n",
       "      <td>1.0</td>\n",
       "      <td>92.65</td>\n",
       "      <td>35198.0</td>\n",
       "      <td>3</td>\n",
       "      <td>68039.0</td>\n",
       "      <td>35198.0</td>\n",
       "      <td>0.087638</td>\n",
       "      <td>8.423544</td>\n",
       "      <td>32.629941</td>\n",
       "      <td>80000.0</td>\n",
       "      <td>156750.0</td>\n",
       "      <td>10.757219</td>\n",
       "      <td>1</td>\n",
       "      <td>0</td>\n",
       "      <td>0</td>\n",
       "    </tr>\n",
       "    <tr>\n",
       "      <th>1</th>\n",
       "      <td>1.0</td>\n",
       "      <td>93.51</td>\n",
       "      <td>11704.0</td>\n",
       "      <td>5</td>\n",
       "      <td>24000.0</td>\n",
       "      <td>11704.0</td>\n",
       "      <td>25.328459</td>\n",
       "      <td>12.940269</td>\n",
       "      <td>21.888056</td>\n",
       "      <td>40000.0</td>\n",
       "      <td>152000.0</td>\n",
       "      <td>2.390000</td>\n",
       "      <td>1</td>\n",
       "      <td>0</td>\n",
       "      <td>1</td>\n",
       "    </tr>\n",
       "    <tr>\n",
       "      <th>2</th>\n",
       "      <td>5.0</td>\n",
       "      <td>88.47</td>\n",
       "      <td>41004.0</td>\n",
       "      <td>5</td>\n",
       "      <td>67122.0</td>\n",
       "      <td>41004.0</td>\n",
       "      <td>7.141356</td>\n",
       "      <td>7.539012</td>\n",
       "      <td>20.730058</td>\n",
       "      <td>20000.0</td>\n",
       "      <td>115000.0</td>\n",
       "      <td>12.950000</td>\n",
       "      <td>1</td>\n",
       "      <td>0</td>\n",
       "      <td>1</td>\n",
       "    </tr>\n",
       "    <tr>\n",
       "      <th>3</th>\n",
       "      <td>2.0</td>\n",
       "      <td>89.58</td>\n",
       "      <td>4065.0</td>\n",
       "      <td>2</td>\n",
       "      <td>12000.0</td>\n",
       "      <td>4065.0</td>\n",
       "      <td>34.474615</td>\n",
       "      <td>22.732014</td>\n",
       "      <td>1.076913</td>\n",
       "      <td>40000.0</td>\n",
       "      <td>25000.0</td>\n",
       "      <td>9.750000</td>\n",
       "      <td>1</td>\n",
       "      <td>0</td>\n",
       "      <td>0</td>\n",
       "    </tr>\n",
       "    <tr>\n",
       "      <th>4</th>\n",
       "      <td>6.0</td>\n",
       "      <td>78.51</td>\n",
       "      <td>169079.0</td>\n",
       "      <td>2</td>\n",
       "      <td>211158.0</td>\n",
       "      <td>32595.0</td>\n",
       "      <td>29.070282</td>\n",
       "      <td>5.226745</td>\n",
       "      <td>13.420388</td>\n",
       "      <td>54900.0</td>\n",
       "      <td>80000.0</td>\n",
       "      <td>15.170000</td>\n",
       "      <td>0</td>\n",
       "      <td>1</td>\n",
       "      <td>1</td>\n",
       "    </tr>\n",
       "    <tr>\n",
       "      <th>...</th>\n",
       "      <td>...</td>\n",
       "      <td>...</td>\n",
       "      <td>...</td>\n",
       "      <td>...</td>\n",
       "      <td>...</td>\n",
       "      <td>...</td>\n",
       "      <td>...</td>\n",
       "      <td>...</td>\n",
       "      <td>...</td>\n",
       "      <td>...</td>\n",
       "      <td>...</td>\n",
       "      <td>...</td>\n",
       "      <td>...</td>\n",
       "      <td>...</td>\n",
       "      <td>...</td>\n",
       "    </tr>\n",
       "    <tr>\n",
       "      <th>33995</th>\n",
       "      <td>5.0</td>\n",
       "      <td>91.82</td>\n",
       "      <td>28742.0</td>\n",
       "      <td>2</td>\n",
       "      <td>60500.0</td>\n",
       "      <td>28742.0</td>\n",
       "      <td>16.907394</td>\n",
       "      <td>64.581258</td>\n",
       "      <td>1.609207</td>\n",
       "      <td>40000.0</td>\n",
       "      <td>105000.0</td>\n",
       "      <td>11.710000</td>\n",
       "      <td>1</td>\n",
       "      <td>0</td>\n",
       "      <td>1</td>\n",
       "    </tr>\n",
       "    <tr>\n",
       "      <th>33996</th>\n",
       "      <td>3.0</td>\n",
       "      <td>85.52</td>\n",
       "      <td>330413.0</td>\n",
       "      <td>2</td>\n",
       "      <td>470072.0</td>\n",
       "      <td>69265.0</td>\n",
       "      <td>65.635700</td>\n",
       "      <td>24.085703</td>\n",
       "      <td>0.278597</td>\n",
       "      <td>24000.0</td>\n",
       "      <td>118299.0</td>\n",
       "      <td>13.280000</td>\n",
       "      <td>0</td>\n",
       "      <td>1</td>\n",
       "      <td>1</td>\n",
       "    </tr>\n",
       "    <tr>\n",
       "      <th>33997</th>\n",
       "      <td>6.0</td>\n",
       "      <td>85.01</td>\n",
       "      <td>223575.0</td>\n",
       "      <td>4</td>\n",
       "      <td>279870.0</td>\n",
       "      <td>38038.0</td>\n",
       "      <td>27.466363</td>\n",
       "      <td>46.752626</td>\n",
       "      <td>15.781011</td>\n",
       "      <td>24000.0</td>\n",
       "      <td>56000.0</td>\n",
       "      <td>18.880000</td>\n",
       "      <td>0</td>\n",
       "      <td>1</td>\n",
       "      <td>1</td>\n",
       "    </tr>\n",
       "    <tr>\n",
       "      <th>33998</th>\n",
       "      <td>2.0</td>\n",
       "      <td>85.01</td>\n",
       "      <td>178179.0</td>\n",
       "      <td>4</td>\n",
       "      <td>287972.0</td>\n",
       "      <td>17905.0</td>\n",
       "      <td>24.455919</td>\n",
       "      <td>3.753729</td>\n",
       "      <td>47.290821</td>\n",
       "      <td>70000.0</td>\n",
       "      <td>107100.0</td>\n",
       "      <td>3.610000</td>\n",
       "      <td>0</td>\n",
       "      <td>1</td>\n",
       "      <td>1</td>\n",
       "    </tr>\n",
       "    <tr>\n",
       "      <th>33999</th>\n",
       "      <td>1.0</td>\n",
       "      <td>92.93</td>\n",
       "      <td>374885.0</td>\n",
       "      <td>5</td>\n",
       "      <td>432200.0</td>\n",
       "      <td>40925.0</td>\n",
       "      <td>42.800443</td>\n",
       "      <td>17.023625</td>\n",
       "      <td>25.215754</td>\n",
       "      <td>80000.0</td>\n",
       "      <td>125000.0</td>\n",
       "      <td>6.560000</td>\n",
       "      <td>0</td>\n",
       "      <td>1</td>\n",
       "      <td>1</td>\n",
       "    </tr>\n",
       "  </tbody>\n",
       "</table>\n",
       "<p>33993 rows × 15 columns</p>\n",
       "</div>"
      ],
      "text/plain": [
       "       job_exp_yrs  prev_grade_percent  total_balance  num_children  \\\n",
       "0              1.0               92.65        35198.0             3   \n",
       "1              1.0               93.51        11704.0             5   \n",
       "2              5.0               88.47        41004.0             5   \n",
       "3              2.0               89.58         4065.0             2   \n",
       "4              6.0               78.51       169079.0             2   \n",
       "...            ...                 ...            ...           ...   \n",
       "33995          5.0               91.82        28742.0             2   \n",
       "33996          3.0               85.52       330413.0             2   \n",
       "33997          6.0               85.01       223575.0             4   \n",
       "33998          2.0               85.01       178179.0             4   \n",
       "33999          1.0               92.93       374885.0             5   \n",
       "\n",
       "       credit_limit  credit_limit_ex_mort  mental_iv_score  parent_iv_score  \\\n",
       "0           68039.0               35198.0         0.087638         8.423544   \n",
       "1           24000.0               11704.0        25.328459        12.940269   \n",
       "2           67122.0               41004.0         7.141356         7.539012   \n",
       "3           12000.0                4065.0        34.474615        22.732014   \n",
       "4          211158.0               32595.0        29.070282         5.226745   \n",
       "...             ...                   ...              ...              ...   \n",
       "33995       60500.0               28742.0        16.907394        64.581258   \n",
       "33996      470072.0               69265.0        65.635700        24.085703   \n",
       "33997      279870.0               38038.0        27.466363        46.752626   \n",
       "33998      287972.0               17905.0        24.455919         3.753729   \n",
       "33999      432200.0               40925.0        42.800443        17.023625   \n",
       "\n",
       "       social_iv_score  fees_per_annum  household_income  \\\n",
       "0            32.629941         80000.0          156750.0   \n",
       "1            21.888056         40000.0          152000.0   \n",
       "2            20.730058         20000.0          115000.0   \n",
       "3             1.076913         40000.0           25000.0   \n",
       "4            13.420388         54900.0           80000.0   \n",
       "...                ...             ...               ...   \n",
       "33995         1.609207         40000.0          105000.0   \n",
       "33996         0.278597         24000.0          118299.0   \n",
       "33997        15.781011         24000.0           56000.0   \n",
       "33998        47.290821         70000.0          107100.0   \n",
       "33999        25.215754         80000.0          125000.0   \n",
       "\n",
       "       fees/household_income  rental  mortgage  enrolled  \n",
       "0                  10.757219       1         0         0  \n",
       "1                   2.390000       1         0         1  \n",
       "2                  12.950000       1         0         1  \n",
       "3                   9.750000       1         0         0  \n",
       "4                  15.170000       0         1         1  \n",
       "...                      ...     ...       ...       ...  \n",
       "33995              11.710000       1         0         1  \n",
       "33996              13.280000       0         1         1  \n",
       "33997              18.880000       0         1         1  \n",
       "33998               3.610000       0         1         1  \n",
       "33999               6.560000       0         1         1  \n",
       "\n",
       "[33993 rows x 15 columns]"
      ]
     },
     "execution_count": 214,
     "metadata": {},
     "output_type": "execute_result"
    }
   ],
   "source": [
    "data['rental'] =  data['house_type'] == 'rental'\n",
    "data['rental'] = data['rental'].astype(int)\n",
    "data['mortgage'] =  data['house_type'] == 'mortgage'\n",
    "data['mortgage'] = data['mortgage'].astype(int)\n",
    "\n",
    "data['enrolled'] = data['decision'] == 'enrolled'\n",
    "data['enrolled'] = data['enrolled'].astype(int)\n",
    "\n",
    "data = data.drop(['house_type','decision'], axis= 1)\n",
    "data"
   ]
  },
  {
   "cell_type": "markdown",
   "metadata": {
    "id": "LPdx0-IvlIaq"
   },
   "source": [
    "## **Correlation Analysis**"
   ]
  },
  {
   "cell_type": "code",
   "execution_count": 215,
   "metadata": {
    "colab": {
     "base_uri": "https://localhost:8080/",
     "height": 231
    },
    "id": "A1_NDGfClIaq",
    "outputId": "f25a02e6-7bc7-4b16-f870-d783001f417b"
   },
   "outputs": [
    {
     "data": {
      "application/vnd.plotly.v1+json": {
       "config": {
        "plotlyServerURL": "https://plot.ly"
       },
       "data": [
        {
         "coloraxis": "coloraxis",
         "hovertemplate": "x: %{x}<br>y: %{y}<br>correlation: %{z}<extra></extra>",
         "name": "0",
         "type": "heatmap",
         "x": [
          "job_exp_yrs",
          "prev_grade_percent",
          "total_balance",
          "num_children",
          "credit_limit",
          "credit_limit_ex_mort",
          "mental_iv_score",
          "parent_iv_score",
          "social_iv_score",
          "fees_per_annum",
          "household_income",
          "fees/household_income",
          "rental",
          "mortgage",
          "enrolled"
         ],
         "xaxis": "x",
         "y": [
          "job_exp_yrs",
          "prev_grade_percent",
          "total_balance",
          "num_children",
          "credit_limit",
          "credit_limit_ex_mort",
          "mental_iv_score",
          "parent_iv_score",
          "social_iv_score",
          "fees_per_annum",
          "household_income",
          "fees/household_income",
          "rental",
          "mortgage",
          "enrolled"
         ],
         "yaxis": "y",
         "z": [
          [
           1,
           -0.00642766019872924,
           0.027956382079663847,
           0.014822463866060075,
           0.027229422447004593,
           -0.015779217915874177,
           -0.0036798785115402157,
           -0.001267220320484531,
           0.006655556842109396,
           -0.03493298846284912,
           -0.03779787919753729,
           0.04368258343713198,
           -0.07858638686834106,
           0.07584394524479904,
           0.0032363507369307576
          ],
          [
           -0.00642766019872924,
           1,
           0.14005215684122815,
           -0.001946528504293508,
           0.17477314124020243,
           0.04504422579142065,
           0.04876706284011256,
           0.043200626736439596,
           0.04171734026167276,
           0.3238753567790146,
           0.12280966869613856,
           -0.14080716882468503,
           -0.08625447137954084,
           0.08425508547135464,
           0.32636107532279013
          ],
          [
           0.027956382079663847,
           0.14005215684122815,
           1,
           0.11177328132563309,
           0.985811768452599,
           0.4052061942116701,
           0.015537340019385325,
           0.026196043426513806,
           0.015547820334031567,
           0.11778489265452646,
           0.32760663174869975,
           -0.04488917418879907,
           -0.4811838598502874,
           0.4899552188788803,
           0.14584603486722245
          ],
          [
           0.014822463866060075,
           -0.001946528504293508,
           0.11177328132563309,
           1,
           0.11792442686430772,
           0.22500653514969687,
           0.0025348970805277164,
           -0.0036695930727697703,
           -0.0027704555965272297,
           -0.03635451637321128,
           0.03820925335000306,
           0.27501412336769226,
           -0.09528378419665802,
           0.11436487103696343,
           -0.001602813521392199
          ],
          [
           0.027229422447004593,
           0.17477314124020243,
           0.985811768452599,
           0.11792442686430772,
           1,
           0.42010435579968636,
           0.017206627146814132,
           0.027816038117691448,
           0.016815299060302893,
           0.13694798258571642,
           0.3405339025890773,
           -0.03687767209381073,
           -0.4809209911761491,
           0.48474294538266466,
           0.1556185519152538
          ],
          [
           -0.015779217915874177,
           0.04504422579142065,
           0.4052061942116701,
           0.22500653514969687,
           0.42010435579968636,
           1,
           0.0037391975015586636,
           0.008284100599205486,
           0.010551754826031646,
           0.12455643603025185,
           0.24564539820069375,
           0.3710268533595981,
           -0.1140007314673941,
           0.10765284536059981,
           0.045050725468523796
          ],
          [
           -0.0036798785115402157,
           0.04876706284011256,
           0.015537340019385325,
           0.0025348970805277164,
           0.017206627146814132,
           0.0037391975015586636,
           1,
           -0.2788603120414077,
           -0.28243661070083464,
           0.02568861521680611,
           0.0032752420204841576,
           -0.009113851432654425,
           -0.015281849374455075,
           0.01871405754661258,
           0.13528405032396162
          ],
          [
           -0.001267220320484531,
           0.043200626736439596,
           0.026196043426513806,
           -0.0036695930727697703,
           0.027816038117691448,
           0.008284100599205486,
           -0.2788603120414077,
           1,
           -0.2841930589222332,
           0.012167393133476808,
           0.014843862911908626,
           -0.015568405984456114,
           -0.014137951488138201,
           0.01528437050380078,
           0.13064322109144139
          ],
          [
           0.006655556842109396,
           0.04171734026167276,
           0.015547820334031567,
           -0.0027704555965272297,
           0.016815299060302893,
           0.010551754826031646,
           -0.28243661070083464,
           -0.2841930589222332,
           1,
           0.02576604904956972,
           0.015137842714624976,
           -0.003537043758932013,
           -0.01547399477519192,
           0.013100608708942278,
           0.12898295792676573
          ],
          [
           -0.03493298846284912,
           0.3238753567790146,
           0.11778489265452646,
           -0.03635451637321128,
           0.13694798258571642,
           0.12455643603025185,
           0.02568861521680611,
           0.012167393133476808,
           0.02576604904956972,
           1,
           0.22014576978984668,
           -0.1074051505338307,
           -0.00337685368906299,
           -0.004503320143174164,
           0.17377715934690616
          ],
          [
           -0.03779787919753729,
           0.12280966869613856,
           0.32760663174869975,
           0.03820925335000306,
           0.3405339025890773,
           0.24564539820069375,
           0.0032752420204841576,
           0.014843862911908626,
           0.015137842714624976,
           0.22014576978984668,
           1,
           -0.2844861749530223,
           -0.06483747984959994,
           0.07203837322174682,
           0.08832333268729103
          ],
          [
           0.04368258343713198,
           -0.14080716882468503,
           -0.04488917418879907,
           0.27501412336769226,
           -0.03687767209381073,
           0.3710268533595981,
           -0.009113851432654425,
           -0.015568405984456114,
           -0.003537043758932013,
           -0.1074051505338307,
           -0.2844861749530223,
           1,
           0.014519400434846657,
           -0.018614099429666853,
           -0.09201498758683883
          ],
          [
           -0.07858638686834106,
           -0.08625447137954084,
           -0.4811838598502874,
           -0.09528378419665802,
           -0.4809209911761491,
           -0.1140007314673941,
           -0.015281849374455075,
           -0.014137951488138201,
           -0.01547399477519192,
           -0.00337685368906299,
           -0.06483747984959994,
           0.014519400434846657,
           1,
           -0.8101701665877473,
           -0.11572596331950934
          ],
          [
           0.07584394524479904,
           0.08425508547135464,
           0.4899552188788803,
           0.11436487103696343,
           0.48474294538266466,
           0.10765284536059981,
           0.01871405754661258,
           0.01528437050380078,
           0.013100608708942278,
           -0.004503320143174164,
           0.07203837322174682,
           -0.018614099429666853,
           -0.8101701665877473,
           1,
           0.11460831303040787
          ],
          [
           0.0032363507369307576,
           0.32636107532279013,
           0.14584603486722245,
           -0.001602813521392199,
           0.1556185519152538,
           0.045050725468523796,
           0.13528405032396162,
           0.13064322109144139,
           0.12898295792676573,
           0.17377715934690616,
           0.08832333268729103,
           -0.09201498758683883,
           -0.11572596331950934,
           0.11460831303040787,
           1
          ]
         ]
        }
       ],
       "layout": {
        "coloraxis": {
         "colorbar": {
          "title": {
           "text": "correlation"
          }
         },
         "colorscale": [
          [
           0,
           "#0d0887"
          ],
          [
           0.1111111111111111,
           "#46039f"
          ],
          [
           0.2222222222222222,
           "#7201a8"
          ],
          [
           0.3333333333333333,
           "#9c179e"
          ],
          [
           0.4444444444444444,
           "#bd3786"
          ],
          [
           0.5555555555555556,
           "#d8576b"
          ],
          [
           0.6666666666666666,
           "#ed7953"
          ],
          [
           0.7777777777777778,
           "#fb9f3a"
          ],
          [
           0.8888888888888888,
           "#fdca26"
          ],
          [
           1,
           "#f0f921"
          ]
         ]
        },
        "height": 1000,
        "template": {
         "data": {
          "bar": [
           {
            "error_x": {
             "color": "#2a3f5f"
            },
            "error_y": {
             "color": "#2a3f5f"
            },
            "marker": {
             "line": {
              "color": "#E5ECF6",
              "width": 0.5
             },
             "pattern": {
              "fillmode": "overlay",
              "size": 10,
              "solidity": 0.2
             }
            },
            "type": "bar"
           }
          ],
          "barpolar": [
           {
            "marker": {
             "line": {
              "color": "#E5ECF6",
              "width": 0.5
             },
             "pattern": {
              "fillmode": "overlay",
              "size": 10,
              "solidity": 0.2
             }
            },
            "type": "barpolar"
           }
          ],
          "carpet": [
           {
            "aaxis": {
             "endlinecolor": "#2a3f5f",
             "gridcolor": "white",
             "linecolor": "white",
             "minorgridcolor": "white",
             "startlinecolor": "#2a3f5f"
            },
            "baxis": {
             "endlinecolor": "#2a3f5f",
             "gridcolor": "white",
             "linecolor": "white",
             "minorgridcolor": "white",
             "startlinecolor": "#2a3f5f"
            },
            "type": "carpet"
           }
          ],
          "choropleth": [
           {
            "colorbar": {
             "outlinewidth": 0,
             "ticks": ""
            },
            "type": "choropleth"
           }
          ],
          "contour": [
           {
            "colorbar": {
             "outlinewidth": 0,
             "ticks": ""
            },
            "colorscale": [
             [
              0,
              "#0d0887"
             ],
             [
              0.1111111111111111,
              "#46039f"
             ],
             [
              0.2222222222222222,
              "#7201a8"
             ],
             [
              0.3333333333333333,
              "#9c179e"
             ],
             [
              0.4444444444444444,
              "#bd3786"
             ],
             [
              0.5555555555555556,
              "#d8576b"
             ],
             [
              0.6666666666666666,
              "#ed7953"
             ],
             [
              0.7777777777777778,
              "#fb9f3a"
             ],
             [
              0.8888888888888888,
              "#fdca26"
             ],
             [
              1,
              "#f0f921"
             ]
            ],
            "type": "contour"
           }
          ],
          "contourcarpet": [
           {
            "colorbar": {
             "outlinewidth": 0,
             "ticks": ""
            },
            "type": "contourcarpet"
           }
          ],
          "heatmap": [
           {
            "colorbar": {
             "outlinewidth": 0,
             "ticks": ""
            },
            "colorscale": [
             [
              0,
              "#0d0887"
             ],
             [
              0.1111111111111111,
              "#46039f"
             ],
             [
              0.2222222222222222,
              "#7201a8"
             ],
             [
              0.3333333333333333,
              "#9c179e"
             ],
             [
              0.4444444444444444,
              "#bd3786"
             ],
             [
              0.5555555555555556,
              "#d8576b"
             ],
             [
              0.6666666666666666,
              "#ed7953"
             ],
             [
              0.7777777777777778,
              "#fb9f3a"
             ],
             [
              0.8888888888888888,
              "#fdca26"
             ],
             [
              1,
              "#f0f921"
             ]
            ],
            "type": "heatmap"
           }
          ],
          "heatmapgl": [
           {
            "colorbar": {
             "outlinewidth": 0,
             "ticks": ""
            },
            "colorscale": [
             [
              0,
              "#0d0887"
             ],
             [
              0.1111111111111111,
              "#46039f"
             ],
             [
              0.2222222222222222,
              "#7201a8"
             ],
             [
              0.3333333333333333,
              "#9c179e"
             ],
             [
              0.4444444444444444,
              "#bd3786"
             ],
             [
              0.5555555555555556,
              "#d8576b"
             ],
             [
              0.6666666666666666,
              "#ed7953"
             ],
             [
              0.7777777777777778,
              "#fb9f3a"
             ],
             [
              0.8888888888888888,
              "#fdca26"
             ],
             [
              1,
              "#f0f921"
             ]
            ],
            "type": "heatmapgl"
           }
          ],
          "histogram": [
           {
            "marker": {
             "pattern": {
              "fillmode": "overlay",
              "size": 10,
              "solidity": 0.2
             }
            },
            "type": "histogram"
           }
          ],
          "histogram2d": [
           {
            "colorbar": {
             "outlinewidth": 0,
             "ticks": ""
            },
            "colorscale": [
             [
              0,
              "#0d0887"
             ],
             [
              0.1111111111111111,
              "#46039f"
             ],
             [
              0.2222222222222222,
              "#7201a8"
             ],
             [
              0.3333333333333333,
              "#9c179e"
             ],
             [
              0.4444444444444444,
              "#bd3786"
             ],
             [
              0.5555555555555556,
              "#d8576b"
             ],
             [
              0.6666666666666666,
              "#ed7953"
             ],
             [
              0.7777777777777778,
              "#fb9f3a"
             ],
             [
              0.8888888888888888,
              "#fdca26"
             ],
             [
              1,
              "#f0f921"
             ]
            ],
            "type": "histogram2d"
           }
          ],
          "histogram2dcontour": [
           {
            "colorbar": {
             "outlinewidth": 0,
             "ticks": ""
            },
            "colorscale": [
             [
              0,
              "#0d0887"
             ],
             [
              0.1111111111111111,
              "#46039f"
             ],
             [
              0.2222222222222222,
              "#7201a8"
             ],
             [
              0.3333333333333333,
              "#9c179e"
             ],
             [
              0.4444444444444444,
              "#bd3786"
             ],
             [
              0.5555555555555556,
              "#d8576b"
             ],
             [
              0.6666666666666666,
              "#ed7953"
             ],
             [
              0.7777777777777778,
              "#fb9f3a"
             ],
             [
              0.8888888888888888,
              "#fdca26"
             ],
             [
              1,
              "#f0f921"
             ]
            ],
            "type": "histogram2dcontour"
           }
          ],
          "mesh3d": [
           {
            "colorbar": {
             "outlinewidth": 0,
             "ticks": ""
            },
            "type": "mesh3d"
           }
          ],
          "parcoords": [
           {
            "line": {
             "colorbar": {
              "outlinewidth": 0,
              "ticks": ""
             }
            },
            "type": "parcoords"
           }
          ],
          "pie": [
           {
            "automargin": true,
            "type": "pie"
           }
          ],
          "scatter": [
           {
            "marker": {
             "colorbar": {
              "outlinewidth": 0,
              "ticks": ""
             }
            },
            "type": "scatter"
           }
          ],
          "scatter3d": [
           {
            "line": {
             "colorbar": {
              "outlinewidth": 0,
              "ticks": ""
             }
            },
            "marker": {
             "colorbar": {
              "outlinewidth": 0,
              "ticks": ""
             }
            },
            "type": "scatter3d"
           }
          ],
          "scattercarpet": [
           {
            "marker": {
             "colorbar": {
              "outlinewidth": 0,
              "ticks": ""
             }
            },
            "type": "scattercarpet"
           }
          ],
          "scattergeo": [
           {
            "marker": {
             "colorbar": {
              "outlinewidth": 0,
              "ticks": ""
             }
            },
            "type": "scattergeo"
           }
          ],
          "scattergl": [
           {
            "marker": {
             "colorbar": {
              "outlinewidth": 0,
              "ticks": ""
             }
            },
            "type": "scattergl"
           }
          ],
          "scattermapbox": [
           {
            "marker": {
             "colorbar": {
              "outlinewidth": 0,
              "ticks": ""
             }
            },
            "type": "scattermapbox"
           }
          ],
          "scatterpolar": [
           {
            "marker": {
             "colorbar": {
              "outlinewidth": 0,
              "ticks": ""
             }
            },
            "type": "scatterpolar"
           }
          ],
          "scatterpolargl": [
           {
            "marker": {
             "colorbar": {
              "outlinewidth": 0,
              "ticks": ""
             }
            },
            "type": "scatterpolargl"
           }
          ],
          "scatterternary": [
           {
            "marker": {
             "colorbar": {
              "outlinewidth": 0,
              "ticks": ""
             }
            },
            "type": "scatterternary"
           }
          ],
          "surface": [
           {
            "colorbar": {
             "outlinewidth": 0,
             "ticks": ""
            },
            "colorscale": [
             [
              0,
              "#0d0887"
             ],
             [
              0.1111111111111111,
              "#46039f"
             ],
             [
              0.2222222222222222,
              "#7201a8"
             ],
             [
              0.3333333333333333,
              "#9c179e"
             ],
             [
              0.4444444444444444,
              "#bd3786"
             ],
             [
              0.5555555555555556,
              "#d8576b"
             ],
             [
              0.6666666666666666,
              "#ed7953"
             ],
             [
              0.7777777777777778,
              "#fb9f3a"
             ],
             [
              0.8888888888888888,
              "#fdca26"
             ],
             [
              1,
              "#f0f921"
             ]
            ],
            "type": "surface"
           }
          ],
          "table": [
           {
            "cells": {
             "fill": {
              "color": "#EBF0F8"
             },
             "line": {
              "color": "white"
             }
            },
            "header": {
             "fill": {
              "color": "#C8D4E3"
             },
             "line": {
              "color": "white"
             }
            },
            "type": "table"
           }
          ]
         },
         "layout": {
          "annotationdefaults": {
           "arrowcolor": "#2a3f5f",
           "arrowhead": 0,
           "arrowwidth": 1
          },
          "autotypenumbers": "strict",
          "coloraxis": {
           "colorbar": {
            "outlinewidth": 0,
            "ticks": ""
           }
          },
          "colorscale": {
           "diverging": [
            [
             0,
             "#8e0152"
            ],
            [
             0.1,
             "#c51b7d"
            ],
            [
             0.2,
             "#de77ae"
            ],
            [
             0.3,
             "#f1b6da"
            ],
            [
             0.4,
             "#fde0ef"
            ],
            [
             0.5,
             "#f7f7f7"
            ],
            [
             0.6,
             "#e6f5d0"
            ],
            [
             0.7,
             "#b8e186"
            ],
            [
             0.8,
             "#7fbc41"
            ],
            [
             0.9,
             "#4d9221"
            ],
            [
             1,
             "#276419"
            ]
           ],
           "sequential": [
            [
             0,
             "#0d0887"
            ],
            [
             0.1111111111111111,
             "#46039f"
            ],
            [
             0.2222222222222222,
             "#7201a8"
            ],
            [
             0.3333333333333333,
             "#9c179e"
            ],
            [
             0.4444444444444444,
             "#bd3786"
            ],
            [
             0.5555555555555556,
             "#d8576b"
            ],
            [
             0.6666666666666666,
             "#ed7953"
            ],
            [
             0.7777777777777778,
             "#fb9f3a"
            ],
            [
             0.8888888888888888,
             "#fdca26"
            ],
            [
             1,
             "#f0f921"
            ]
           ],
           "sequentialminus": [
            [
             0,
             "#0d0887"
            ],
            [
             0.1111111111111111,
             "#46039f"
            ],
            [
             0.2222222222222222,
             "#7201a8"
            ],
            [
             0.3333333333333333,
             "#9c179e"
            ],
            [
             0.4444444444444444,
             "#bd3786"
            ],
            [
             0.5555555555555556,
             "#d8576b"
            ],
            [
             0.6666666666666666,
             "#ed7953"
            ],
            [
             0.7777777777777778,
             "#fb9f3a"
            ],
            [
             0.8888888888888888,
             "#fdca26"
            ],
            [
             1,
             "#f0f921"
            ]
           ]
          },
          "colorway": [
           "#636efa",
           "#EF553B",
           "#00cc96",
           "#ab63fa",
           "#FFA15A",
           "#19d3f3",
           "#FF6692",
           "#B6E880",
           "#FF97FF",
           "#FECB52"
          ],
          "font": {
           "color": "#2a3f5f"
          },
          "geo": {
           "bgcolor": "white",
           "lakecolor": "white",
           "landcolor": "#E5ECF6",
           "showlakes": true,
           "showland": true,
           "subunitcolor": "white"
          },
          "hoverlabel": {
           "align": "left"
          },
          "hovermode": "closest",
          "mapbox": {
           "style": "light"
          },
          "paper_bgcolor": "white",
          "plot_bgcolor": "#E5ECF6",
          "polar": {
           "angularaxis": {
            "gridcolor": "white",
            "linecolor": "white",
            "ticks": ""
           },
           "bgcolor": "#E5ECF6",
           "radialaxis": {
            "gridcolor": "white",
            "linecolor": "white",
            "ticks": ""
           }
          },
          "scene": {
           "xaxis": {
            "backgroundcolor": "#E5ECF6",
            "gridcolor": "white",
            "gridwidth": 2,
            "linecolor": "white",
            "showbackground": true,
            "ticks": "",
            "zerolinecolor": "white"
           },
           "yaxis": {
            "backgroundcolor": "#E5ECF6",
            "gridcolor": "white",
            "gridwidth": 2,
            "linecolor": "white",
            "showbackground": true,
            "ticks": "",
            "zerolinecolor": "white"
           },
           "zaxis": {
            "backgroundcolor": "#E5ECF6",
            "gridcolor": "white",
            "gridwidth": 2,
            "linecolor": "white",
            "showbackground": true,
            "ticks": "",
            "zerolinecolor": "white"
           }
          },
          "shapedefaults": {
           "line": {
            "color": "#2a3f5f"
           }
          },
          "ternary": {
           "aaxis": {
            "gridcolor": "white",
            "linecolor": "white",
            "ticks": ""
           },
           "baxis": {
            "gridcolor": "white",
            "linecolor": "white",
            "ticks": ""
           },
           "bgcolor": "#E5ECF6",
           "caxis": {
            "gridcolor": "white",
            "linecolor": "white",
            "ticks": ""
           }
          },
          "title": {
           "x": 0.05
          },
          "xaxis": {
           "automargin": true,
           "gridcolor": "white",
           "linecolor": "white",
           "ticks": "",
           "title": {
            "standoff": 15
           },
           "zerolinecolor": "white",
           "zerolinewidth": 2
          },
          "yaxis": {
           "automargin": true,
           "gridcolor": "white",
           "linecolor": "white",
           "ticks": "",
           "title": {
            "standoff": 15
           },
           "zerolinecolor": "white",
           "zerolinewidth": 2
          }
         }
        },
        "title": {
         "text": "Merchants Pearson Correrlation Heatmap"
        },
        "width": 1000,
        "xaxis": {
         "anchor": "y",
         "constrain": "domain",
         "domain": [
          0,
          1
         ],
         "scaleanchor": "y"
        },
        "yaxis": {
         "anchor": "x",
         "autorange": "reversed",
         "constrain": "domain",
         "domain": [
          0,
          1
         ]
        }
       }
      },
      "text/html": [
       "<div>                            <div id=\"592669ba-58ee-4096-acc4-76a9192bfcec\" class=\"plotly-graph-div\" style=\"height:1000px; width:1000px;\"></div>            <script type=\"text/javascript\">                require([\"plotly\"], function(Plotly) {                    window.PLOTLYENV=window.PLOTLYENV || {};                                    if (document.getElementById(\"592669ba-58ee-4096-acc4-76a9192bfcec\")) {                    Plotly.newPlot(                        \"592669ba-58ee-4096-acc4-76a9192bfcec\",                        [{\"coloraxis\":\"coloraxis\",\"hovertemplate\":\"x: %{x}<br>y: %{y}<br>correlation: %{z}<extra></extra>\",\"name\":\"0\",\"type\":\"heatmap\",\"x\":[\"job_exp_yrs\",\"prev_grade_percent\",\"total_balance\",\"num_children\",\"credit_limit\",\"credit_limit_ex_mort\",\"mental_iv_score\",\"parent_iv_score\",\"social_iv_score\",\"fees_per_annum\",\"household_income\",\"fees/household_income\",\"rental\",\"mortgage\",\"enrolled\"],\"xaxis\":\"x\",\"y\":[\"job_exp_yrs\",\"prev_grade_percent\",\"total_balance\",\"num_children\",\"credit_limit\",\"credit_limit_ex_mort\",\"mental_iv_score\",\"parent_iv_score\",\"social_iv_score\",\"fees_per_annum\",\"household_income\",\"fees/household_income\",\"rental\",\"mortgage\",\"enrolled\"],\"yaxis\":\"y\",\"z\":[[1.0,-0.00642766019872924,0.027956382079663847,0.014822463866060075,0.027229422447004593,-0.015779217915874177,-0.0036798785115402157,-0.001267220320484531,0.006655556842109396,-0.03493298846284912,-0.03779787919753729,0.04368258343713198,-0.07858638686834106,0.07584394524479904,0.0032363507369307576],[-0.00642766019872924,1.0,0.14005215684122815,-0.001946528504293508,0.17477314124020243,0.04504422579142065,0.04876706284011256,0.043200626736439596,0.04171734026167276,0.3238753567790146,0.12280966869613856,-0.14080716882468503,-0.08625447137954084,0.08425508547135464,0.32636107532279013],[0.027956382079663847,0.14005215684122815,1.0,0.11177328132563309,0.985811768452599,0.4052061942116701,0.015537340019385325,0.026196043426513806,0.015547820334031567,0.11778489265452646,0.32760663174869975,-0.04488917418879907,-0.4811838598502874,0.4899552188788803,0.14584603486722245],[0.014822463866060075,-0.001946528504293508,0.11177328132563309,1.0,0.11792442686430772,0.22500653514969687,0.0025348970805277164,-0.0036695930727697703,-0.0027704555965272297,-0.03635451637321128,0.03820925335000306,0.27501412336769226,-0.09528378419665802,0.11436487103696343,-0.001602813521392199],[0.027229422447004593,0.17477314124020243,0.985811768452599,0.11792442686430772,1.0,0.42010435579968636,0.017206627146814132,0.027816038117691448,0.016815299060302893,0.13694798258571642,0.3405339025890773,-0.03687767209381073,-0.4809209911761491,0.48474294538266466,0.1556185519152538],[-0.015779217915874177,0.04504422579142065,0.4052061942116701,0.22500653514969687,0.42010435579968636,1.0,0.0037391975015586636,0.008284100599205486,0.010551754826031646,0.12455643603025185,0.24564539820069375,0.3710268533595981,-0.1140007314673941,0.10765284536059981,0.045050725468523796],[-0.0036798785115402157,0.04876706284011256,0.015537340019385325,0.0025348970805277164,0.017206627146814132,0.0037391975015586636,1.0,-0.2788603120414077,-0.28243661070083464,0.02568861521680611,0.0032752420204841576,-0.009113851432654425,-0.015281849374455075,0.01871405754661258,0.13528405032396162],[-0.001267220320484531,0.043200626736439596,0.026196043426513806,-0.0036695930727697703,0.027816038117691448,0.008284100599205486,-0.2788603120414077,1.0,-0.2841930589222332,0.012167393133476808,0.014843862911908626,-0.015568405984456114,-0.014137951488138201,0.01528437050380078,0.13064322109144139],[0.006655556842109396,0.04171734026167276,0.015547820334031567,-0.0027704555965272297,0.016815299060302893,0.010551754826031646,-0.28243661070083464,-0.2841930589222332,1.0,0.02576604904956972,0.015137842714624976,-0.003537043758932013,-0.01547399477519192,0.013100608708942278,0.12898295792676573],[-0.03493298846284912,0.3238753567790146,0.11778489265452646,-0.03635451637321128,0.13694798258571642,0.12455643603025185,0.02568861521680611,0.012167393133476808,0.02576604904956972,1.0,0.22014576978984668,-0.1074051505338307,-0.00337685368906299,-0.004503320143174164,0.17377715934690616],[-0.03779787919753729,0.12280966869613856,0.32760663174869975,0.03820925335000306,0.3405339025890773,0.24564539820069375,0.0032752420204841576,0.014843862911908626,0.015137842714624976,0.22014576978984668,1.0,-0.2844861749530223,-0.06483747984959994,0.07203837322174682,0.08832333268729103],[0.04368258343713198,-0.14080716882468503,-0.04488917418879907,0.27501412336769226,-0.03687767209381073,0.3710268533595981,-0.009113851432654425,-0.015568405984456114,-0.003537043758932013,-0.1074051505338307,-0.2844861749530223,1.0,0.014519400434846657,-0.018614099429666853,-0.09201498758683883],[-0.07858638686834106,-0.08625447137954084,-0.4811838598502874,-0.09528378419665802,-0.4809209911761491,-0.1140007314673941,-0.015281849374455075,-0.014137951488138201,-0.01547399477519192,-0.00337685368906299,-0.06483747984959994,0.014519400434846657,1.0,-0.8101701665877473,-0.11572596331950934],[0.07584394524479904,0.08425508547135464,0.4899552188788803,0.11436487103696343,0.48474294538266466,0.10765284536059981,0.01871405754661258,0.01528437050380078,0.013100608708942278,-0.004503320143174164,0.07203837322174682,-0.018614099429666853,-0.8101701665877473,1.0,0.11460831303040787],[0.0032363507369307576,0.32636107532279013,0.14584603486722245,-0.001602813521392199,0.1556185519152538,0.045050725468523796,0.13528405032396162,0.13064322109144139,0.12898295792676573,0.17377715934690616,0.08832333268729103,-0.09201498758683883,-0.11572596331950934,0.11460831303040787,1.0]]}],                        {\"coloraxis\":{\"colorbar\":{\"title\":{\"text\":\"correlation\"}},\"colorscale\":[[0.0,\"#0d0887\"],[0.1111111111111111,\"#46039f\"],[0.2222222222222222,\"#7201a8\"],[0.3333333333333333,\"#9c179e\"],[0.4444444444444444,\"#bd3786\"],[0.5555555555555556,\"#d8576b\"],[0.6666666666666666,\"#ed7953\"],[0.7777777777777778,\"#fb9f3a\"],[0.8888888888888888,\"#fdca26\"],[1.0,\"#f0f921\"]]},\"height\":1000,\"template\":{\"data\":{\"bar\":[{\"error_x\":{\"color\":\"#2a3f5f\"},\"error_y\":{\"color\":\"#2a3f5f\"},\"marker\":{\"line\":{\"color\":\"#E5ECF6\",\"width\":0.5},\"pattern\":{\"fillmode\":\"overlay\",\"size\":10,\"solidity\":0.2}},\"type\":\"bar\"}],\"barpolar\":[{\"marker\":{\"line\":{\"color\":\"#E5ECF6\",\"width\":0.5},\"pattern\":{\"fillmode\":\"overlay\",\"size\":10,\"solidity\":0.2}},\"type\":\"barpolar\"}],\"carpet\":[{\"aaxis\":{\"endlinecolor\":\"#2a3f5f\",\"gridcolor\":\"white\",\"linecolor\":\"white\",\"minorgridcolor\":\"white\",\"startlinecolor\":\"#2a3f5f\"},\"baxis\":{\"endlinecolor\":\"#2a3f5f\",\"gridcolor\":\"white\",\"linecolor\":\"white\",\"minorgridcolor\":\"white\",\"startlinecolor\":\"#2a3f5f\"},\"type\":\"carpet\"}],\"choropleth\":[{\"colorbar\":{\"outlinewidth\":0,\"ticks\":\"\"},\"type\":\"choropleth\"}],\"contour\":[{\"colorbar\":{\"outlinewidth\":0,\"ticks\":\"\"},\"colorscale\":[[0.0,\"#0d0887\"],[0.1111111111111111,\"#46039f\"],[0.2222222222222222,\"#7201a8\"],[0.3333333333333333,\"#9c179e\"],[0.4444444444444444,\"#bd3786\"],[0.5555555555555556,\"#d8576b\"],[0.6666666666666666,\"#ed7953\"],[0.7777777777777778,\"#fb9f3a\"],[0.8888888888888888,\"#fdca26\"],[1.0,\"#f0f921\"]],\"type\":\"contour\"}],\"contourcarpet\":[{\"colorbar\":{\"outlinewidth\":0,\"ticks\":\"\"},\"type\":\"contourcarpet\"}],\"heatmap\":[{\"colorbar\":{\"outlinewidth\":0,\"ticks\":\"\"},\"colorscale\":[[0.0,\"#0d0887\"],[0.1111111111111111,\"#46039f\"],[0.2222222222222222,\"#7201a8\"],[0.3333333333333333,\"#9c179e\"],[0.4444444444444444,\"#bd3786\"],[0.5555555555555556,\"#d8576b\"],[0.6666666666666666,\"#ed7953\"],[0.7777777777777778,\"#fb9f3a\"],[0.8888888888888888,\"#fdca26\"],[1.0,\"#f0f921\"]],\"type\":\"heatmap\"}],\"heatmapgl\":[{\"colorbar\":{\"outlinewidth\":0,\"ticks\":\"\"},\"colorscale\":[[0.0,\"#0d0887\"],[0.1111111111111111,\"#46039f\"],[0.2222222222222222,\"#7201a8\"],[0.3333333333333333,\"#9c179e\"],[0.4444444444444444,\"#bd3786\"],[0.5555555555555556,\"#d8576b\"],[0.6666666666666666,\"#ed7953\"],[0.7777777777777778,\"#fb9f3a\"],[0.8888888888888888,\"#fdca26\"],[1.0,\"#f0f921\"]],\"type\":\"heatmapgl\"}],\"histogram\":[{\"marker\":{\"pattern\":{\"fillmode\":\"overlay\",\"size\":10,\"solidity\":0.2}},\"type\":\"histogram\"}],\"histogram2d\":[{\"colorbar\":{\"outlinewidth\":0,\"ticks\":\"\"},\"colorscale\":[[0.0,\"#0d0887\"],[0.1111111111111111,\"#46039f\"],[0.2222222222222222,\"#7201a8\"],[0.3333333333333333,\"#9c179e\"],[0.4444444444444444,\"#bd3786\"],[0.5555555555555556,\"#d8576b\"],[0.6666666666666666,\"#ed7953\"],[0.7777777777777778,\"#fb9f3a\"],[0.8888888888888888,\"#fdca26\"],[1.0,\"#f0f921\"]],\"type\":\"histogram2d\"}],\"histogram2dcontour\":[{\"colorbar\":{\"outlinewidth\":0,\"ticks\":\"\"},\"colorscale\":[[0.0,\"#0d0887\"],[0.1111111111111111,\"#46039f\"],[0.2222222222222222,\"#7201a8\"],[0.3333333333333333,\"#9c179e\"],[0.4444444444444444,\"#bd3786\"],[0.5555555555555556,\"#d8576b\"],[0.6666666666666666,\"#ed7953\"],[0.7777777777777778,\"#fb9f3a\"],[0.8888888888888888,\"#fdca26\"],[1.0,\"#f0f921\"]],\"type\":\"histogram2dcontour\"}],\"mesh3d\":[{\"colorbar\":{\"outlinewidth\":0,\"ticks\":\"\"},\"type\":\"mesh3d\"}],\"parcoords\":[{\"line\":{\"colorbar\":{\"outlinewidth\":0,\"ticks\":\"\"}},\"type\":\"parcoords\"}],\"pie\":[{\"automargin\":true,\"type\":\"pie\"}],\"scatter\":[{\"marker\":{\"colorbar\":{\"outlinewidth\":0,\"ticks\":\"\"}},\"type\":\"scatter\"}],\"scatter3d\":[{\"line\":{\"colorbar\":{\"outlinewidth\":0,\"ticks\":\"\"}},\"marker\":{\"colorbar\":{\"outlinewidth\":0,\"ticks\":\"\"}},\"type\":\"scatter3d\"}],\"scattercarpet\":[{\"marker\":{\"colorbar\":{\"outlinewidth\":0,\"ticks\":\"\"}},\"type\":\"scattercarpet\"}],\"scattergeo\":[{\"marker\":{\"colorbar\":{\"outlinewidth\":0,\"ticks\":\"\"}},\"type\":\"scattergeo\"}],\"scattergl\":[{\"marker\":{\"colorbar\":{\"outlinewidth\":0,\"ticks\":\"\"}},\"type\":\"scattergl\"}],\"scattermapbox\":[{\"marker\":{\"colorbar\":{\"outlinewidth\":0,\"ticks\":\"\"}},\"type\":\"scattermapbox\"}],\"scatterpolar\":[{\"marker\":{\"colorbar\":{\"outlinewidth\":0,\"ticks\":\"\"}},\"type\":\"scatterpolar\"}],\"scatterpolargl\":[{\"marker\":{\"colorbar\":{\"outlinewidth\":0,\"ticks\":\"\"}},\"type\":\"scatterpolargl\"}],\"scatterternary\":[{\"marker\":{\"colorbar\":{\"outlinewidth\":0,\"ticks\":\"\"}},\"type\":\"scatterternary\"}],\"surface\":[{\"colorbar\":{\"outlinewidth\":0,\"ticks\":\"\"},\"colorscale\":[[0.0,\"#0d0887\"],[0.1111111111111111,\"#46039f\"],[0.2222222222222222,\"#7201a8\"],[0.3333333333333333,\"#9c179e\"],[0.4444444444444444,\"#bd3786\"],[0.5555555555555556,\"#d8576b\"],[0.6666666666666666,\"#ed7953\"],[0.7777777777777778,\"#fb9f3a\"],[0.8888888888888888,\"#fdca26\"],[1.0,\"#f0f921\"]],\"type\":\"surface\"}],\"table\":[{\"cells\":{\"fill\":{\"color\":\"#EBF0F8\"},\"line\":{\"color\":\"white\"}},\"header\":{\"fill\":{\"color\":\"#C8D4E3\"},\"line\":{\"color\":\"white\"}},\"type\":\"table\"}]},\"layout\":{\"annotationdefaults\":{\"arrowcolor\":\"#2a3f5f\",\"arrowhead\":0,\"arrowwidth\":1},\"autotypenumbers\":\"strict\",\"coloraxis\":{\"colorbar\":{\"outlinewidth\":0,\"ticks\":\"\"}},\"colorscale\":{\"diverging\":[[0,\"#8e0152\"],[0.1,\"#c51b7d\"],[0.2,\"#de77ae\"],[0.3,\"#f1b6da\"],[0.4,\"#fde0ef\"],[0.5,\"#f7f7f7\"],[0.6,\"#e6f5d0\"],[0.7,\"#b8e186\"],[0.8,\"#7fbc41\"],[0.9,\"#4d9221\"],[1,\"#276419\"]],\"sequential\":[[0.0,\"#0d0887\"],[0.1111111111111111,\"#46039f\"],[0.2222222222222222,\"#7201a8\"],[0.3333333333333333,\"#9c179e\"],[0.4444444444444444,\"#bd3786\"],[0.5555555555555556,\"#d8576b\"],[0.6666666666666666,\"#ed7953\"],[0.7777777777777778,\"#fb9f3a\"],[0.8888888888888888,\"#fdca26\"],[1.0,\"#f0f921\"]],\"sequentialminus\":[[0.0,\"#0d0887\"],[0.1111111111111111,\"#46039f\"],[0.2222222222222222,\"#7201a8\"],[0.3333333333333333,\"#9c179e\"],[0.4444444444444444,\"#bd3786\"],[0.5555555555555556,\"#d8576b\"],[0.6666666666666666,\"#ed7953\"],[0.7777777777777778,\"#fb9f3a\"],[0.8888888888888888,\"#fdca26\"],[1.0,\"#f0f921\"]]},\"colorway\":[\"#636efa\",\"#EF553B\",\"#00cc96\",\"#ab63fa\",\"#FFA15A\",\"#19d3f3\",\"#FF6692\",\"#B6E880\",\"#FF97FF\",\"#FECB52\"],\"font\":{\"color\":\"#2a3f5f\"},\"geo\":{\"bgcolor\":\"white\",\"lakecolor\":\"white\",\"landcolor\":\"#E5ECF6\",\"showlakes\":true,\"showland\":true,\"subunitcolor\":\"white\"},\"hoverlabel\":{\"align\":\"left\"},\"hovermode\":\"closest\",\"mapbox\":{\"style\":\"light\"},\"paper_bgcolor\":\"white\",\"plot_bgcolor\":\"#E5ECF6\",\"polar\":{\"angularaxis\":{\"gridcolor\":\"white\",\"linecolor\":\"white\",\"ticks\":\"\"},\"bgcolor\":\"#E5ECF6\",\"radialaxis\":{\"gridcolor\":\"white\",\"linecolor\":\"white\",\"ticks\":\"\"}},\"scene\":{\"xaxis\":{\"backgroundcolor\":\"#E5ECF6\",\"gridcolor\":\"white\",\"gridwidth\":2,\"linecolor\":\"white\",\"showbackground\":true,\"ticks\":\"\",\"zerolinecolor\":\"white\"},\"yaxis\":{\"backgroundcolor\":\"#E5ECF6\",\"gridcolor\":\"white\",\"gridwidth\":2,\"linecolor\":\"white\",\"showbackground\":true,\"ticks\":\"\",\"zerolinecolor\":\"white\"},\"zaxis\":{\"backgroundcolor\":\"#E5ECF6\",\"gridcolor\":\"white\",\"gridwidth\":2,\"linecolor\":\"white\",\"showbackground\":true,\"ticks\":\"\",\"zerolinecolor\":\"white\"}},\"shapedefaults\":{\"line\":{\"color\":\"#2a3f5f\"}},\"ternary\":{\"aaxis\":{\"gridcolor\":\"white\",\"linecolor\":\"white\",\"ticks\":\"\"},\"baxis\":{\"gridcolor\":\"white\",\"linecolor\":\"white\",\"ticks\":\"\"},\"bgcolor\":\"#E5ECF6\",\"caxis\":{\"gridcolor\":\"white\",\"linecolor\":\"white\",\"ticks\":\"\"}},\"title\":{\"x\":0.05},\"xaxis\":{\"automargin\":true,\"gridcolor\":\"white\",\"linecolor\":\"white\",\"ticks\":\"\",\"title\":{\"standoff\":15},\"zerolinecolor\":\"white\",\"zerolinewidth\":2},\"yaxis\":{\"automargin\":true,\"gridcolor\":\"white\",\"linecolor\":\"white\",\"ticks\":\"\",\"title\":{\"standoff\":15},\"zerolinecolor\":\"white\",\"zerolinewidth\":2}}},\"title\":{\"text\":\"Merchants Pearson Correrlation Heatmap\"},\"width\":1000,\"xaxis\":{\"anchor\":\"y\",\"constrain\":\"domain\",\"domain\":[0.0,1.0],\"scaleanchor\":\"y\"},\"yaxis\":{\"anchor\":\"x\",\"autorange\":\"reversed\",\"constrain\":\"domain\",\"domain\":[0.0,1.0]}},                        {\"responsive\": true}                    ).then(function(){\n",
       "                            \n",
       "var gd = document.getElementById('592669ba-58ee-4096-acc4-76a9192bfcec');\n",
       "var x = new MutationObserver(function (mutations, observer) {{\n",
       "        var display = window.getComputedStyle(gd).display;\n",
       "        if (!display || display === 'none') {{\n",
       "            console.log([gd, 'removed!']);\n",
       "            Plotly.purge(gd);\n",
       "            observer.disconnect();\n",
       "        }}\n",
       "}});\n",
       "\n",
       "// Listen for the removal of the full notebook cells\n",
       "var notebookContainer = gd.closest('#notebook-container');\n",
       "if (notebookContainer) {{\n",
       "    x.observe(notebookContainer, {childList: true});\n",
       "}}\n",
       "\n",
       "// Listen for the clearing of the current output cell\n",
       "var outputEl = gd.closest('.output');\n",
       "if (outputEl) {{\n",
       "    x.observe(outputEl, {childList: true});\n",
       "}}\n",
       "\n",
       "                        })                };                });            </script>        </div>"
      ]
     },
     "metadata": {},
     "output_type": "display_data"
    }
   ],
   "source": [
    "main_corr_data = data.corr(method='pearson')\n",
    "fig = px.imshow(main_corr_data,title=\"Merchants Pearson Correrlation Heatmap\",width=1000,height=1000,labels={'color':\"correlation\"})\n",
    "fig.show()"
   ]
  },
  {
   "cell_type": "markdown",
   "metadata": {
    "id": "L0LmLznglIar"
   },
   "source": [
    "After performing correlation analysis, there are 2 very strong correlations that were noticed.\n",
    "\n",
    "The first one is the correlation between total balance and credit limit. This is justifiable as banks tend to give higher credit limits to customers with higher balances. Because of this we will remove the credit limit feature from our dataset and leave only total balance.\n",
    "\n",
    "The second correlation is the negative correlation between rental and mortgage. This is also justifiable since a house of type rental cannot be of type mortgage as well, and vice versa. However, we cannot remove one of the columns since we still have houses of type owned. Although the number of owned houses is less than the rented or mortgaged houses, but it is still a significant number and should not be classified as an outlier. Therefore, we keep both columns, rental and mortgage.\n",
    "\n",
    "Moreover, there are moderate correlations noticed. A positive correlation between total balance and mortgage and a negative correlation between total balance and rental were noticed. This is also justifiable since mortgages are usually given to customers with high balances. However, we believe the correlation is not high enough to eliminate one of the columns.\n",
    "\n",
    "Finally, we thought at the beginning that the 3 interview scores will have high correlations with the decision but this was not the case. The feature with the highest correlation with the decision is the applicant's previous grade. The higher the previous grade, the more probable the applicant is to get enrolled. This is the factor contributing the most to the enrollment decision."
   ]
  },
  {
   "cell_type": "code",
   "execution_count": 216,
   "metadata": {
    "id": "Ji1_IdkhlIas"
   },
   "outputs": [
    {
     "data": {
      "text/html": [
       "<div>\n",
       "<style scoped>\n",
       "    .dataframe tbody tr th:only-of-type {\n",
       "        vertical-align: middle;\n",
       "    }\n",
       "\n",
       "    .dataframe tbody tr th {\n",
       "        vertical-align: top;\n",
       "    }\n",
       "\n",
       "    .dataframe thead th {\n",
       "        text-align: right;\n",
       "    }\n",
       "</style>\n",
       "<table border=\"1\" class=\"dataframe\">\n",
       "  <thead>\n",
       "    <tr style=\"text-align: right;\">\n",
       "      <th></th>\n",
       "      <th>job_exp_yrs</th>\n",
       "      <th>prev_grade_percent</th>\n",
       "      <th>total_balance</th>\n",
       "      <th>num_children</th>\n",
       "      <th>credit_limit_ex_mort</th>\n",
       "      <th>mental_iv_score</th>\n",
       "      <th>parent_iv_score</th>\n",
       "      <th>social_iv_score</th>\n",
       "      <th>fees_per_annum</th>\n",
       "      <th>household_income</th>\n",
       "      <th>fees/household_income</th>\n",
       "      <th>rental</th>\n",
       "      <th>mortgage</th>\n",
       "      <th>enrolled</th>\n",
       "    </tr>\n",
       "  </thead>\n",
       "  <tbody>\n",
       "    <tr>\n",
       "      <th>0</th>\n",
       "      <td>1.0</td>\n",
       "      <td>92.65</td>\n",
       "      <td>35198.0</td>\n",
       "      <td>3</td>\n",
       "      <td>35198.0</td>\n",
       "      <td>0.087638</td>\n",
       "      <td>8.423544</td>\n",
       "      <td>32.629941</td>\n",
       "      <td>80000.0</td>\n",
       "      <td>156750.0</td>\n",
       "      <td>10.757219</td>\n",
       "      <td>1</td>\n",
       "      <td>0</td>\n",
       "      <td>0</td>\n",
       "    </tr>\n",
       "    <tr>\n",
       "      <th>1</th>\n",
       "      <td>1.0</td>\n",
       "      <td>93.51</td>\n",
       "      <td>11704.0</td>\n",
       "      <td>5</td>\n",
       "      <td>11704.0</td>\n",
       "      <td>25.328459</td>\n",
       "      <td>12.940269</td>\n",
       "      <td>21.888056</td>\n",
       "      <td>40000.0</td>\n",
       "      <td>152000.0</td>\n",
       "      <td>2.390000</td>\n",
       "      <td>1</td>\n",
       "      <td>0</td>\n",
       "      <td>1</td>\n",
       "    </tr>\n",
       "    <tr>\n",
       "      <th>2</th>\n",
       "      <td>5.0</td>\n",
       "      <td>88.47</td>\n",
       "      <td>41004.0</td>\n",
       "      <td>5</td>\n",
       "      <td>41004.0</td>\n",
       "      <td>7.141356</td>\n",
       "      <td>7.539012</td>\n",
       "      <td>20.730058</td>\n",
       "      <td>20000.0</td>\n",
       "      <td>115000.0</td>\n",
       "      <td>12.950000</td>\n",
       "      <td>1</td>\n",
       "      <td>0</td>\n",
       "      <td>1</td>\n",
       "    </tr>\n",
       "    <tr>\n",
       "      <th>3</th>\n",
       "      <td>2.0</td>\n",
       "      <td>89.58</td>\n",
       "      <td>4065.0</td>\n",
       "      <td>2</td>\n",
       "      <td>4065.0</td>\n",
       "      <td>34.474615</td>\n",
       "      <td>22.732014</td>\n",
       "      <td>1.076913</td>\n",
       "      <td>40000.0</td>\n",
       "      <td>25000.0</td>\n",
       "      <td>9.750000</td>\n",
       "      <td>1</td>\n",
       "      <td>0</td>\n",
       "      <td>0</td>\n",
       "    </tr>\n",
       "    <tr>\n",
       "      <th>4</th>\n",
       "      <td>6.0</td>\n",
       "      <td>78.51</td>\n",
       "      <td>169079.0</td>\n",
       "      <td>2</td>\n",
       "      <td>32595.0</td>\n",
       "      <td>29.070282</td>\n",
       "      <td>5.226745</td>\n",
       "      <td>13.420388</td>\n",
       "      <td>54900.0</td>\n",
       "      <td>80000.0</td>\n",
       "      <td>15.170000</td>\n",
       "      <td>0</td>\n",
       "      <td>1</td>\n",
       "      <td>1</td>\n",
       "    </tr>\n",
       "    <tr>\n",
       "      <th>...</th>\n",
       "      <td>...</td>\n",
       "      <td>...</td>\n",
       "      <td>...</td>\n",
       "      <td>...</td>\n",
       "      <td>...</td>\n",
       "      <td>...</td>\n",
       "      <td>...</td>\n",
       "      <td>...</td>\n",
       "      <td>...</td>\n",
       "      <td>...</td>\n",
       "      <td>...</td>\n",
       "      <td>...</td>\n",
       "      <td>...</td>\n",
       "      <td>...</td>\n",
       "    </tr>\n",
       "    <tr>\n",
       "      <th>33995</th>\n",
       "      <td>5.0</td>\n",
       "      <td>91.82</td>\n",
       "      <td>28742.0</td>\n",
       "      <td>2</td>\n",
       "      <td>28742.0</td>\n",
       "      <td>16.907394</td>\n",
       "      <td>64.581258</td>\n",
       "      <td>1.609207</td>\n",
       "      <td>40000.0</td>\n",
       "      <td>105000.0</td>\n",
       "      <td>11.710000</td>\n",
       "      <td>1</td>\n",
       "      <td>0</td>\n",
       "      <td>1</td>\n",
       "    </tr>\n",
       "    <tr>\n",
       "      <th>33996</th>\n",
       "      <td>3.0</td>\n",
       "      <td>85.52</td>\n",
       "      <td>330413.0</td>\n",
       "      <td>2</td>\n",
       "      <td>69265.0</td>\n",
       "      <td>65.635700</td>\n",
       "      <td>24.085703</td>\n",
       "      <td>0.278597</td>\n",
       "      <td>24000.0</td>\n",
       "      <td>118299.0</td>\n",
       "      <td>13.280000</td>\n",
       "      <td>0</td>\n",
       "      <td>1</td>\n",
       "      <td>1</td>\n",
       "    </tr>\n",
       "    <tr>\n",
       "      <th>33997</th>\n",
       "      <td>6.0</td>\n",
       "      <td>85.01</td>\n",
       "      <td>223575.0</td>\n",
       "      <td>4</td>\n",
       "      <td>38038.0</td>\n",
       "      <td>27.466363</td>\n",
       "      <td>46.752626</td>\n",
       "      <td>15.781011</td>\n",
       "      <td>24000.0</td>\n",
       "      <td>56000.0</td>\n",
       "      <td>18.880000</td>\n",
       "      <td>0</td>\n",
       "      <td>1</td>\n",
       "      <td>1</td>\n",
       "    </tr>\n",
       "    <tr>\n",
       "      <th>33998</th>\n",
       "      <td>2.0</td>\n",
       "      <td>85.01</td>\n",
       "      <td>178179.0</td>\n",
       "      <td>4</td>\n",
       "      <td>17905.0</td>\n",
       "      <td>24.455919</td>\n",
       "      <td>3.753729</td>\n",
       "      <td>47.290821</td>\n",
       "      <td>70000.0</td>\n",
       "      <td>107100.0</td>\n",
       "      <td>3.610000</td>\n",
       "      <td>0</td>\n",
       "      <td>1</td>\n",
       "      <td>1</td>\n",
       "    </tr>\n",
       "    <tr>\n",
       "      <th>33999</th>\n",
       "      <td>1.0</td>\n",
       "      <td>92.93</td>\n",
       "      <td>374885.0</td>\n",
       "      <td>5</td>\n",
       "      <td>40925.0</td>\n",
       "      <td>42.800443</td>\n",
       "      <td>17.023625</td>\n",
       "      <td>25.215754</td>\n",
       "      <td>80000.0</td>\n",
       "      <td>125000.0</td>\n",
       "      <td>6.560000</td>\n",
       "      <td>0</td>\n",
       "      <td>1</td>\n",
       "      <td>1</td>\n",
       "    </tr>\n",
       "  </tbody>\n",
       "</table>\n",
       "<p>33993 rows × 14 columns</p>\n",
       "</div>"
      ],
      "text/plain": [
       "       job_exp_yrs  prev_grade_percent  total_balance  num_children  \\\n",
       "0              1.0               92.65        35198.0             3   \n",
       "1              1.0               93.51        11704.0             5   \n",
       "2              5.0               88.47        41004.0             5   \n",
       "3              2.0               89.58         4065.0             2   \n",
       "4              6.0               78.51       169079.0             2   \n",
       "...            ...                 ...            ...           ...   \n",
       "33995          5.0               91.82        28742.0             2   \n",
       "33996          3.0               85.52       330413.0             2   \n",
       "33997          6.0               85.01       223575.0             4   \n",
       "33998          2.0               85.01       178179.0             4   \n",
       "33999          1.0               92.93       374885.0             5   \n",
       "\n",
       "       credit_limit_ex_mort  mental_iv_score  parent_iv_score  \\\n",
       "0                   35198.0         0.087638         8.423544   \n",
       "1                   11704.0        25.328459        12.940269   \n",
       "2                   41004.0         7.141356         7.539012   \n",
       "3                    4065.0        34.474615        22.732014   \n",
       "4                   32595.0        29.070282         5.226745   \n",
       "...                     ...              ...              ...   \n",
       "33995               28742.0        16.907394        64.581258   \n",
       "33996               69265.0        65.635700        24.085703   \n",
       "33997               38038.0        27.466363        46.752626   \n",
       "33998               17905.0        24.455919         3.753729   \n",
       "33999               40925.0        42.800443        17.023625   \n",
       "\n",
       "       social_iv_score  fees_per_annum  household_income  \\\n",
       "0            32.629941         80000.0          156750.0   \n",
       "1            21.888056         40000.0          152000.0   \n",
       "2            20.730058         20000.0          115000.0   \n",
       "3             1.076913         40000.0           25000.0   \n",
       "4            13.420388         54900.0           80000.0   \n",
       "...                ...             ...               ...   \n",
       "33995         1.609207         40000.0          105000.0   \n",
       "33996         0.278597         24000.0          118299.0   \n",
       "33997        15.781011         24000.0           56000.0   \n",
       "33998        47.290821         70000.0          107100.0   \n",
       "33999        25.215754         80000.0          125000.0   \n",
       "\n",
       "       fees/household_income  rental  mortgage  enrolled  \n",
       "0                  10.757219       1         0         0  \n",
       "1                   2.390000       1         0         1  \n",
       "2                  12.950000       1         0         1  \n",
       "3                   9.750000       1         0         0  \n",
       "4                  15.170000       0         1         1  \n",
       "...                      ...     ...       ...       ...  \n",
       "33995              11.710000       1         0         1  \n",
       "33996              13.280000       0         1         1  \n",
       "33997              18.880000       0         1         1  \n",
       "33998               3.610000       0         1         1  \n",
       "33999               6.560000       0         1         1  \n",
       "\n",
       "[33993 rows x 14 columns]"
      ]
     },
     "execution_count": 216,
     "metadata": {},
     "output_type": "execute_result"
    }
   ],
   "source": [
    "# Remove the credit limit column as stated above.\n",
    "data = data.drop(['credit_limit'], axis= 1)\n",
    "data\n"
   ]
  },
  {
   "cell_type": "markdown",
   "metadata": {
    "id": "iZ3vno_PlIas"
   },
   "source": [
    "Above is the final data that will be fed into our predicitive models."
   ]
  },
  {
   "cell_type": "markdown",
   "metadata": {
    "id": "vQ4xw3w_4MLE"
   },
   "source": [
    "# **Predictive Models**"
   ]
  },
  {
   "cell_type": "markdown",
   "metadata": {
    "id": "ud1POL7JlIas"
   },
   "source": [
    "Now we need to convert the dataframe to a numpy array in order to feed the data to our predictive models. First we need to normalize our data."
   ]
  },
  {
   "cell_type": "code",
   "execution_count": 219,
   "metadata": {
    "scrolled": true
   },
   "outputs": [
    {
     "name": "stdout",
     "output_type": "stream",
     "text": [
      "(33993, 14)\n"
     ]
    },
    {
     "data": {
      "text/plain": [
       "array([[0.00000000e+00, 9.20560748e-01, 7.37509452e-03, 6.00000000e-01,\n",
       "        3.92031944e-02, 9.89988862e-04, 9.54543143e-02, 3.67144768e-01,\n",
       "        1.00000000e+00, 1.84140488e-02, 2.17757468e-01, 1.00000000e+00,\n",
       "        0.00000000e+00, 0.00000000e+00],\n",
       "       [0.00000000e+00, 9.54049844e-01, 2.45235827e-03, 1.00000000e+00,\n",
       "        1.30358028e-02, 2.88305790e-01, 1.46637327e-01, 2.46277026e-01,\n",
       "        3.33333333e-01, 1.77744383e-02, 4.83805668e-02, 1.00000000e+00,\n",
       "        0.00000000e+00, 1.00000000e+00]])"
      ]
     },
     "execution_count": 219,
     "metadata": {},
     "output_type": "execute_result"
    }
   ],
   "source": [
    "normalized_data=(data-data.min())/(data.max()-data.min())\n",
    "\n",
    "data_set = normalized_data.to_numpy()\n",
    "print(data_set.shape)\n",
    "data_set[:2]"
   ]
  },
  {
   "cell_type": "code",
   "execution_count": 220,
   "metadata": {
    "id": "R2yrwIRclIas"
   },
   "outputs": [
    {
     "name": "stdout",
     "output_type": "stream",
     "text": [
      "Train size:  (27194, 13)\n",
      "Train Label size:  (27194,)\n",
      "Validation size:  (6799, 13)\n",
      "Validation Label size:  (6799,)\n"
     ]
    }
   ],
   "source": [
    "X = data_set[:, 0:13]\n",
    "y = data_set[:, 13]\n",
    "(X_train, X_test, y_train, y_test) = train_test_split(X, y,\n",
    "                                test_size=0.20, stratify=y, random_state=10)\n",
    "\n",
    "print(\"Train size: \", X_train.shape)\n",
    "print(\"Train Label size: \", y_train.shape)\n",
    "print(\"Validation size: \", X_test.shape)\n",
    "print(\"Validation Label size: \", y_test.shape)"
   ]
  },
  {
   "cell_type": "code",
   "execution_count": null,
   "metadata": {},
   "outputs": [],
   "source": [
    "LR = 1e-4\n",
    "epochs = 20\n",
    "BS = 128\n",
    "model = Sequential()\n",
    "model.add(Dense(128, input_dim=13, activation='relu'))\n",
    "model.add(Dense(64, activation='relu'))\n",
    "model.add(Dense(8, activation='relu'))\n",
    "model.add(Dense(1, activation='sigmoid'))\n",
    "model.compile(loss='binary_crossentropy', optimizer='adam', metrics=['accuracy'])"
   ]
  },
  {
   "cell_type": "code",
   "execution_count": 86,
   "metadata": {
    "scrolled": true
   },
   "outputs": [
    {
     "name": "stdout",
     "output_type": "stream",
     "text": [
      "Train on 27194 samples, validate on 6799 samples\n",
      "Epoch 1/20\n",
      "27194/27194 [==============================] - 2s 72us/step - loss: 0.5988 - accuracy: 0.6730 - val_loss: 0.5644 - val_accuracy: 0.7039\n",
      "Epoch 2/20\n",
      "27194/27194 [==============================] - 2s 83us/step - loss: 0.5620 - accuracy: 0.7088 - val_loss: 0.5627 - val_accuracy: 0.7088\n",
      "Epoch 3/20\n",
      "27194/27194 [==============================] - 1s 43us/step - loss: 0.5572 - accuracy: 0.7118 - val_loss: 0.5587 - val_accuracy: 0.7113\n",
      "Epoch 4/20\n",
      "27194/27194 [==============================] - 1s 52us/step - loss: 0.5559 - accuracy: 0.7128 - val_loss: 0.5595 - val_accuracy: 0.7107\n",
      "Epoch 5/20\n",
      "27194/27194 [==============================] - 2s 87us/step - loss: 0.5542 - accuracy: 0.7141 - val_loss: 0.5616 - val_accuracy: 0.7053\n",
      "Epoch 6/20\n",
      "27194/27194 [==============================] - 2s 63us/step - loss: 0.5544 - accuracy: 0.7116 - val_loss: 0.5597 - val_accuracy: 0.7116\n",
      "Epoch 7/20\n",
      "27194/27194 [==============================] - 2s 79us/step - loss: 0.5545 - accuracy: 0.7129 - val_loss: 0.5582 - val_accuracy: 0.7125\n",
      "Epoch 8/20\n",
      "27194/27194 [==============================] - 3s 96us/step - loss: 0.5539 - accuracy: 0.7138 - val_loss: 0.5633 - val_accuracy: 0.7058\n",
      "Epoch 9/20\n",
      "27194/27194 [==============================] - 1s 52us/step - loss: 0.5521 - accuracy: 0.7159 - val_loss: 0.5624 - val_accuracy: 0.7070\n",
      "Epoch 10/20\n",
      "27194/27194 [==============================] - 3s 99us/step - loss: 0.5523 - accuracy: 0.7141 - val_loss: 0.5580 - val_accuracy: 0.7107\n",
      "Epoch 11/20\n",
      "27194/27194 [==============================] - 2s 68us/step - loss: 0.5519 - accuracy: 0.7144 - val_loss: 0.5633 - val_accuracy: 0.7020\n",
      "Epoch 12/20\n",
      "27194/27194 [==============================] - 2s 63us/step - loss: 0.5508 - accuracy: 0.7151 - val_loss: 0.5674 - val_accuracy: 0.6989\n",
      "Epoch 13/20\n",
      "27194/27194 [==============================] - 2s 64us/step - loss: 0.5509 - accuracy: 0.7167 - val_loss: 0.5591 - val_accuracy: 0.7100\n",
      "Epoch 14/20\n",
      "27194/27194 [==============================] - 2s 65us/step - loss: 0.5507 - accuracy: 0.7161 - val_loss: 0.5589 - val_accuracy: 0.7091\n",
      "Epoch 15/20\n",
      "27194/27194 [==============================] - 3s 93us/step - loss: 0.5503 - accuracy: 0.7160 - val_loss: 0.5571 - val_accuracy: 0.7094\n",
      "Epoch 16/20\n",
      "27194/27194 [==============================] - 1s 47us/step - loss: 0.5494 - accuracy: 0.7170 - val_loss: 0.5605 - val_accuracy: 0.7066\n",
      "Epoch 17/20\n",
      "27194/27194 [==============================] - 2s 56us/step - loss: 0.5488 - accuracy: 0.7161 - val_loss: 0.5604 - val_accuracy: 0.7082\n",
      "Epoch 18/20\n",
      "27194/27194 [==============================] - 2s 87us/step - loss: 0.5487 - accuracy: 0.7158 - val_loss: 0.5630 - val_accuracy: 0.7055\n",
      "Epoch 19/20\n",
      "27194/27194 [==============================] - 2s 61us/step - loss: 0.5483 - accuracy: 0.7177 - val_loss: 0.5683 - val_accuracy: 0.7026\n",
      "Epoch 20/20\n",
      "27194/27194 [==============================] - 2s 60us/step - loss: 0.5477 - accuracy: 0.7188 - val_loss: 0.5571 - val_accuracy: 0.7113\n"
     ]
    }
   ],
   "source": [
    "H = model.fit(X_train, y_train, batch_size=BS,\n",
    "             validation_data=(X_val, y_val),\n",
    "             epochs=epochs)"
   ]
  },
  {
   "cell_type": "markdown",
   "metadata": {},
   "source": [
    "Now lets test the model on the testing set"
   ]
  },
  {
   "cell_type": "code",
   "execution_count": 221,
   "metadata": {},
   "outputs": [],
   "source": [
    "file_name = \"C:/Users/moham/OneDrive/Desktop/test_International-School-Dataset.csv\"\n",
    "#file_name = \"C:/Users/HP/Downloads/train_International-School-Dataset.csv\"\n",
    "test_data = pd.read_csv(file_name)"
   ]
  },
  {
   "cell_type": "markdown",
   "metadata": {},
   "source": [
    "Before feeding the testing set to any model, we will preprocess it such that it has the right dimentions & feature variables."
   ]
  },
  {
   "cell_type": "code",
   "execution_count": 222,
   "metadata": {},
   "outputs": [
    {
     "data": {
      "text/html": [
       "<div>\n",
       "<style scoped>\n",
       "    .dataframe tbody tr th:only-of-type {\n",
       "        vertical-align: middle;\n",
       "    }\n",
       "\n",
       "    .dataframe tbody tr th {\n",
       "        vertical-align: top;\n",
       "    }\n",
       "\n",
       "    .dataframe thead th {\n",
       "        text-align: right;\n",
       "    }\n",
       "</style>\n",
       "<table border=\"1\" class=\"dataframe\">\n",
       "  <thead>\n",
       "    <tr style=\"text-align: right;\">\n",
       "      <th></th>\n",
       "      <th>job_exp_yrs</th>\n",
       "      <th>prev_grade_percent</th>\n",
       "      <th>total_balance</th>\n",
       "      <th>num_children</th>\n",
       "      <th>credit_limit_ex_mort</th>\n",
       "      <th>mental_iv_score</th>\n",
       "      <th>parent_iv_score</th>\n",
       "      <th>social_iv_score</th>\n",
       "      <th>fees_per_annum</th>\n",
       "      <th>household_income</th>\n",
       "      <th>fees/household_income</th>\n",
       "      <th>rental</th>\n",
       "      <th>mortgage</th>\n",
       "      <th>enrolled</th>\n",
       "    </tr>\n",
       "  </thead>\n",
       "  <tbody>\n",
       "    <tr>\n",
       "      <th>0</th>\n",
       "      <td>6.0</td>\n",
       "      <td>80.48</td>\n",
       "      <td>180643.0</td>\n",
       "      <td>3</td>\n",
       "      <td>28558.0</td>\n",
       "      <td>23.649193</td>\n",
       "      <td>5.165801</td>\n",
       "      <td>17.779308</td>\n",
       "      <td>20000.0</td>\n",
       "      <td>80000.0</td>\n",
       "      <td>12.49</td>\n",
       "      <td>0</td>\n",
       "      <td>1</td>\n",
       "      <td>0</td>\n",
       "    </tr>\n",
       "    <tr>\n",
       "      <th>1</th>\n",
       "      <td>8.0</td>\n",
       "      <td>93.97</td>\n",
       "      <td>717111.0</td>\n",
       "      <td>3</td>\n",
       "      <td>97434.0</td>\n",
       "      <td>19.830339</td>\n",
       "      <td>20.038635</td>\n",
       "      <td>6.336663</td>\n",
       "      <td>48000.0</td>\n",
       "      <td>156000.0</td>\n",
       "      <td>3.33</td>\n",
       "      <td>0</td>\n",
       "      <td>1</td>\n",
       "      <td>1</td>\n",
       "    </tr>\n",
       "    <tr>\n",
       "      <th>2</th>\n",
       "      <td>2.0</td>\n",
       "      <td>84.59</td>\n",
       "      <td>30109.0</td>\n",
       "      <td>3</td>\n",
       "      <td>30109.0</td>\n",
       "      <td>1.339863</td>\n",
       "      <td>5.903078</td>\n",
       "      <td>9.462986</td>\n",
       "      <td>40000.0</td>\n",
       "      <td>107000.0</td>\n",
       "      <td>7.26</td>\n",
       "      <td>1</td>\n",
       "      <td>0</td>\n",
       "      <td>0</td>\n",
       "    </tr>\n",
       "    <tr>\n",
       "      <th>3</th>\n",
       "      <td>9.0</td>\n",
       "      <td>85.51</td>\n",
       "      <td>361935.0</td>\n",
       "      <td>4</td>\n",
       "      <td>27013.0</td>\n",
       "      <td>21.294029</td>\n",
       "      <td>9.725985</td>\n",
       "      <td>44.028674</td>\n",
       "      <td>24000.0</td>\n",
       "      <td>100000.0</td>\n",
       "      <td>7.35</td>\n",
       "      <td>0</td>\n",
       "      <td>1</td>\n",
       "      <td>1</td>\n",
       "    </tr>\n",
       "    <tr>\n",
       "      <th>4</th>\n",
       "      <td>5.0</td>\n",
       "      <td>74.18</td>\n",
       "      <td>38835.0</td>\n",
       "      <td>5</td>\n",
       "      <td>38835.0</td>\n",
       "      <td>17.226434</td>\n",
       "      <td>30.801950</td>\n",
       "      <td>19.968482</td>\n",
       "      <td>20000.0</td>\n",
       "      <td>300000.0</td>\n",
       "      <td>10.38</td>\n",
       "      <td>1</td>\n",
       "      <td>0</td>\n",
       "      <td>0</td>\n",
       "    </tr>\n",
       "    <tr>\n",
       "      <th>...</th>\n",
       "      <td>...</td>\n",
       "      <td>...</td>\n",
       "      <td>...</td>\n",
       "      <td>...</td>\n",
       "      <td>...</td>\n",
       "      <td>...</td>\n",
       "      <td>...</td>\n",
       "      <td>...</td>\n",
       "      <td>...</td>\n",
       "      <td>...</td>\n",
       "      <td>...</td>\n",
       "      <td>...</td>\n",
       "      <td>...</td>\n",
       "      <td>...</td>\n",
       "    </tr>\n",
       "    <tr>\n",
       "      <th>1995</th>\n",
       "      <td>5.0</td>\n",
       "      <td>86.41</td>\n",
       "      <td>10821.0</td>\n",
       "      <td>0</td>\n",
       "      <td>10821.0</td>\n",
       "      <td>15.141241</td>\n",
       "      <td>3.351711</td>\n",
       "      <td>29.615634</td>\n",
       "      <td>45000.0</td>\n",
       "      <td>45000.0</td>\n",
       "      <td>8.91</td>\n",
       "      <td>1</td>\n",
       "      <td>0</td>\n",
       "      <td>0</td>\n",
       "    </tr>\n",
       "    <tr>\n",
       "      <th>1996</th>\n",
       "      <td>7.0</td>\n",
       "      <td>78.52</td>\n",
       "      <td>434063.0</td>\n",
       "      <td>3</td>\n",
       "      <td>34762.0</td>\n",
       "      <td>6.001317</td>\n",
       "      <td>4.968623</td>\n",
       "      <td>15.215748</td>\n",
       "      <td>34475.0</td>\n",
       "      <td>76000.0</td>\n",
       "      <td>11.38</td>\n",
       "      <td>0</td>\n",
       "      <td>1</td>\n",
       "      <td>0</td>\n",
       "    </tr>\n",
       "    <tr>\n",
       "      <th>1997</th>\n",
       "      <td>6.0</td>\n",
       "      <td>92.51</td>\n",
       "      <td>624116.0</td>\n",
       "      <td>5</td>\n",
       "      <td>37491.0</td>\n",
       "      <td>2.645464</td>\n",
       "      <td>66.245158</td>\n",
       "      <td>4.956198</td>\n",
       "      <td>42000.0</td>\n",
       "      <td>149500.0</td>\n",
       "      <td>8.50</td>\n",
       "      <td>0</td>\n",
       "      <td>1</td>\n",
       "      <td>1</td>\n",
       "    </tr>\n",
       "    <tr>\n",
       "      <th>1998</th>\n",
       "      <td>3.0</td>\n",
       "      <td>85.51</td>\n",
       "      <td>171689.0</td>\n",
       "      <td>4</td>\n",
       "      <td>16419.0</td>\n",
       "      <td>18.686182</td>\n",
       "      <td>0.828035</td>\n",
       "      <td>23.097541</td>\n",
       "      <td>60000.0</td>\n",
       "      <td>86840.0</td>\n",
       "      <td>8.97</td>\n",
       "      <td>1</td>\n",
       "      <td>0</td>\n",
       "      <td>0</td>\n",
       "    </tr>\n",
       "    <tr>\n",
       "      <th>1999</th>\n",
       "      <td>3.0</td>\n",
       "      <td>76.01</td>\n",
       "      <td>27783.0</td>\n",
       "      <td>1</td>\n",
       "      <td>27783.0</td>\n",
       "      <td>16.973331</td>\n",
       "      <td>26.599551</td>\n",
       "      <td>4.877628</td>\n",
       "      <td>22400.0</td>\n",
       "      <td>56000.0</td>\n",
       "      <td>13.72</td>\n",
       "      <td>1</td>\n",
       "      <td>0</td>\n",
       "      <td>0</td>\n",
       "    </tr>\n",
       "  </tbody>\n",
       "</table>\n",
       "<p>1999 rows × 14 columns</p>\n",
       "</div>"
      ],
      "text/plain": [
       "      job_exp_yrs  prev_grade_percent  total_balance  num_children  \\\n",
       "0             6.0               80.48       180643.0             3   \n",
       "1             8.0               93.97       717111.0             3   \n",
       "2             2.0               84.59        30109.0             3   \n",
       "3             9.0               85.51       361935.0             4   \n",
       "4             5.0               74.18        38835.0             5   \n",
       "...           ...                 ...            ...           ...   \n",
       "1995          5.0               86.41        10821.0             0   \n",
       "1996          7.0               78.52       434063.0             3   \n",
       "1997          6.0               92.51       624116.0             5   \n",
       "1998          3.0               85.51       171689.0             4   \n",
       "1999          3.0               76.01        27783.0             1   \n",
       "\n",
       "      credit_limit_ex_mort  mental_iv_score  parent_iv_score  social_iv_score  \\\n",
       "0                  28558.0        23.649193         5.165801        17.779308   \n",
       "1                  97434.0        19.830339        20.038635         6.336663   \n",
       "2                  30109.0         1.339863         5.903078         9.462986   \n",
       "3                  27013.0        21.294029         9.725985        44.028674   \n",
       "4                  38835.0        17.226434        30.801950        19.968482   \n",
       "...                    ...              ...              ...              ...   \n",
       "1995               10821.0        15.141241         3.351711        29.615634   \n",
       "1996               34762.0         6.001317         4.968623        15.215748   \n",
       "1997               37491.0         2.645464        66.245158         4.956198   \n",
       "1998               16419.0        18.686182         0.828035        23.097541   \n",
       "1999               27783.0        16.973331        26.599551         4.877628   \n",
       "\n",
       "      fees_per_annum  household_income  fees/household_income  rental  \\\n",
       "0            20000.0           80000.0                  12.49       0   \n",
       "1            48000.0          156000.0                   3.33       0   \n",
       "2            40000.0          107000.0                   7.26       1   \n",
       "3            24000.0          100000.0                   7.35       0   \n",
       "4            20000.0          300000.0                  10.38       1   \n",
       "...              ...               ...                    ...     ...   \n",
       "1995         45000.0           45000.0                   8.91       1   \n",
       "1996         34475.0           76000.0                  11.38       0   \n",
       "1997         42000.0          149500.0                   8.50       0   \n",
       "1998         60000.0           86840.0                   8.97       1   \n",
       "1999         22400.0           56000.0                  13.72       1   \n",
       "\n",
       "      mortgage  enrolled  \n",
       "0            1         0  \n",
       "1            1         1  \n",
       "2            0         0  \n",
       "3            1         1  \n",
       "4            0         0  \n",
       "...        ...       ...  \n",
       "1995         0         0  \n",
       "1996         1         0  \n",
       "1997         1         1  \n",
       "1998         0         0  \n",
       "1999         0         0  \n",
       "\n",
       "[1999 rows x 14 columns]"
      ]
     },
     "execution_count": 222,
     "metadata": {},
     "output_type": "execute_result"
    }
   ],
   "source": [
    "test_data = test_data[test_data['house_type'].isnull() == False]\n",
    "\n",
    "test_data['fees_per_annum'] = (test_data['fees'] / test_data['n_semesters']) * 2\n",
    "test_data = test_data.drop(['fees', 'n_semesters'], axis= 1)\n",
    "\n",
    "test_data['fees/income'] = test_data['fees/income'].fillna(test_data['fees_per_annum']/test_data['annual_salary'])\n",
    "\n",
    "test_data['spouse_fees/income'] = test_data['spouse_fees/income'].fillna(test_data['fees_per_annum']/test_data['spouse_income'])\n",
    "\n",
    "test_data['spouse_income'] = test_data['spouse_income'].fillna(0)\n",
    "\n",
    "test_data = test_data.drop(['app_id', 'address', 'salary_verification', 'year', 'job_name', 'spouse_income_verification', 'payment_method', 'spouse_has_job', 'down_pymnt'], axis = 1)\n",
    "\n",
    "test_data['household_income'] = test_data['annual_salary'] + test_data['spouse_income']\n",
    "test_data = test_data.drop(['annual_salary', 'spouse_income'], axis= 1)\n",
    "test_data['fees/household_income'] = 1/(1/test_data['fees/income'] + 1/test_data['spouse_fees/income'])\n",
    "test_data['fees/household_income'] = test_data['fees/household_income'].fillna(test_data['fees/income'])\n",
    "test_data = test_data.drop(['fees/income', 'spouse_fees/income'], axis= 1)\n",
    "\n",
    "test_data['rental'] =  test_data['house_type'] == 'rental'\n",
    "test_data['rental'] = test_data['rental'].astype(int)\n",
    "test_data['mortgage'] =  test_data['house_type'] == 'mortgage'\n",
    "test_data['mortgage'] = test_data['mortgage'].astype(int)\n",
    "\n",
    "test_data['enrolled'] = test_data['decision'] == 'enrolled'\n",
    "test_data['enrolled'] = test_data['enrolled'].astype(int)\n",
    "\n",
    "test_data = test_data.drop(['credit_limit'], axis= 1)\n",
    "\n",
    "test_data = test_data.drop(['house_type','decision'], axis= 1)\n",
    "\n",
    "test_data"
   ]
  },
  {
   "cell_type": "code",
   "execution_count": 223,
   "metadata": {},
   "outputs": [],
   "source": [
    "normalized_test_data=(test_data-test_data.min())/(test_data.max()-test_data.min())\n",
    "\n",
    "testing_set = normalized_test_data.to_numpy()"
   ]
  },
  {
   "cell_type": "code",
   "execution_count": 224,
   "metadata": {},
   "outputs": [],
   "source": [
    "X_test = testing_set[:, 0:13]\n",
    "y_test = testing_set[:, 13]"
   ]
  },
  {
   "cell_type": "code",
   "execution_count": 87,
   "metadata": {
    "scrolled": true
   },
   "outputs": [
    {
     "name": "stdout",
     "output_type": "stream",
     "text": [
      "1999/1999 [==============================] - 0s 165us/step\n",
      "Testing accuracy 70.03501653671265\n"
     ]
    }
   ],
   "source": [
    "_, accuracy = model.evaluate(X_test, y_test)\n",
    "print(\"Testing accuracy\", accuracy*100)"
   ]
  },
  {
   "cell_type": "markdown",
   "metadata": {},
   "source": [
    "As you can see, this model achieved 70% accuracy on the testing set. Next we will be using a logistic regression model in order to compare their results."
   ]
  },
  {
   "cell_type": "code",
   "execution_count": 81,
   "metadata": {},
   "outputs": [
    {
     "name": "stdout",
     "output_type": "stream",
     "text": [
      "Testing accuracy 68.83441720860431\n"
     ]
    }
   ],
   "source": [
    "model = LogisticRegression(solver='lbfgs', random_state=0).fit(X, y)\n",
    "accuracy = model.score(X_test, y_test)\n",
    "print(\"Testing accuracy\", accuracy*100)"
   ]
  },
  {
   "cell_type": "markdown",
   "metadata": {},
   "source": [
    "The logistic regression model achieved a 68.83% accuracy on the testing set. Slightlty less than the fully connected neural network model, but still very similar accuracy results. We suggest using the logistic regression model since it is lighter and needs less computing time with very similar results to the neural network model."
   ]
  },
  {
   "cell_type": "code",
   "execution_count": null,
   "metadata": {},
   "outputs": [],
   "source": []
  }
 ],
 "metadata": {
  "colab": {
   "collapsed_sections": [
    "OGPGW003ugRk",
    "sqegvmHp1uea",
    "VJmRE2I4z2U2",
    "VKXj39ck0OWV",
    "XQYLdMl80iSO",
    "88iYF9SrlIae"
   ],
   "name": "hackathon2.ipynb",
   "provenance": []
  },
  "interpreter": {
   "hash": "c569cd2e17f62341e0f08a54f9a867c3c0d3a6f67454072d7de41a8b5dff8343"
  },
  "kernelspec": {
   "display_name": "Python 3 (ipykernel)",
   "language": "python",
   "name": "python3"
  },
  "language_info": {
   "codemirror_mode": {
    "name": "ipython",
    "version": 3
   },
   "file_extension": ".py",
   "mimetype": "text/x-python",
   "name": "python",
   "nbconvert_exporter": "python",
   "pygments_lexer": "ipython3",
   "version": "3.7.11"
  }
 },
 "nbformat": 4,
 "nbformat_minor": 1
}
